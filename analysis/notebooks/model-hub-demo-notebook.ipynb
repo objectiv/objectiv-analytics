{
 "cells": [
  {
   "cell_type": "markdown",
   "id": "25b2e58e",
   "metadata": {},
   "source": [
    "# Intro\n",
    "In this notebook, we briefly demonstrate how you can use pre-built models from the [open model hub](https://www.objectiv.io/docs/open-model-hub/) in conjunction with our [modeling library](https://objectiv.io/docs/modeling/) to quickly build model stacks to answer common product analytics questions.\n",
    "\n",
    "This example uses real, unaltered data that was collected from objectiv.io with Objectiv’s Tracker. All models in the open model hub are compatible with datasets that have been validated against the [open analytics taxonomy](https://objectiv.io/docs/taxonomy/).\n",
    "\n",
    "For an overview of all available models, check out the [open model hub docs](https://www.objectiv.io/docs/open-model-hub/)."
   ]
  },
  {
   "cell_type": "code",
   "execution_count": null,
   "id": "e97ff289",
   "metadata": {},
   "outputs": [],
   "source": [
    "from bach_open_taxonomy import ObjectivFrame"
   ]
  },
  {
   "cell_type": "markdown",
   "id": "e032c7c8",
   "metadata": {},
   "source": [
    "## Instantiate the data object\n",
    "As a first step, the Objectiv Frame object is instantiated. The Objectiv Frame is an extension to Bach DataFrame to use specifically for data that was collected with Objectiv’s Tracker. Bach is Objectiv’s data modeling library. With Bach, you can use familiar Pandas-like DataFrame operations in your notebook. It uses a SQL abstraction layer that enables models to run on the full dataset, and you can output models to SQL with a single command.\n",
    "\n",
    "The Objectiv Bach api is heavily inspired by the pandas api. We believe this provides a great, generic interface to handle large amounts of data in a python environment while supporting multiple data stores. For more details on Objectiv Bach, visit the docs.\n",
    "\n",
    "It loads the data as stored by the Objectiv Tracker, makes a few transformations, and sets the right data types.\n",
    "\n",
    "This object points to the data on which the models from the open model hub will be applied. The `time_aggregation` parameter determines the standard timeframe that is used with aggregation functions from the model hub. Ie. 'YYYY-MM-DD' means that days are used for the time aggregation. Only data starting at `start_date` is used for all following operations."
   ]
  },
  {
   "cell_type": "code",
   "execution_count": null,
   "id": "d582b77f",
   "metadata": {},
   "outputs": [],
   "source": [
    "df = ObjectivFrame.from_table(time_aggregation='YYYY-MM-DD', start_date='2021-11-16')"
   ]
  },
  {
   "cell_type": "markdown",
   "id": "1077acee",
   "metadata": {},
   "source": [
    "## Using the open model hub\n",
    "The open model hub contains a growing collection of open-source models that cover a wide range of common analytics use cases. The source is available for all models and you're free to make any changes to them. \n",
    "\n",
    "All models are in the `.model_hub` namespace of the Objectiv Frame. You can also use `.mh` as a shorthand. \n",
    "\n",
    "Let's run a model to see how it works."
   ]
  },
  {
   "cell_type": "markdown",
   "id": "e9f3070b",
   "metadata": {},
   "source": [
    "### Unique users\n",
    "Calculating the unique users is one of the models in the model hub. As it is an aggregation model, it is called with `.model_hub.aggregate.unique_users()`. It uses the *time_aggregation* that is set when the Objectiv Frame was instantiated. With `.to_pandas` or `.head()` we immediately query the data to show the results as a pandas object."
   ]
  },
  {
   "cell_type": "code",
   "execution_count": null,
   "id": "a46d2b9a",
   "metadata": {},
   "outputs": [],
   "source": [
    "df.model_hub.aggregate.unique_users().to_pandas()"
   ]
  },
  {
   "cell_type": "markdown",
   "id": "72ac111c",
   "metadata": {},
   "source": [
    "## Combining models\n",
    "It is also possible to combine models, if the results allow for that. Here unique sessions and unique users are divided to get the average sessions per user per day."
   ]
  },
  {
   "cell_type": "markdown",
   "id": "b75b0526",
   "metadata": {},
   "source": [
    "### Average sessions per user per day"
   ]
  },
  {
   "cell_type": "code",
   "execution_count": null,
   "id": "aba7cf04",
   "metadata": {},
   "outputs": [],
   "source": [
    "sessions_per_user = df.mh.agg.unique_sessions() / df.mh.agg.unique_users()\n",
    "sessions_per_user.to_pandas()"
   ]
  },
  {
   "cell_type": "markdown",
   "id": "852e0e71",
   "metadata": {},
   "source": [
    "## Using filters for models\n",
    "The models above show results for all hits in the data. The data can also be filtered. In this example, we calculate new users per day, instead of all users that we calculated above.\n",
    "\n",
    "In order to do so, we can use the model hub again to create the filter."
   ]
  },
  {
   "cell_type": "markdown",
   "id": "c3c929ee",
   "metadata": {},
   "source": [
    "### Unique new users"
   ]
  },
  {
   "cell_type": "code",
   "execution_count": null,
   "id": "0471fe39",
   "metadata": {},
   "outputs": [],
   "source": [
    "is_first_session = df.mh.filter.is_first_session()"
   ]
  },
  {
   "cell_type": "code",
   "execution_count": null,
   "id": "b969e060",
   "metadata": {},
   "outputs": [],
   "source": [
    "df.mh.agg.unique_users(filter=is_first_session).to_pandas()"
   ]
  },
  {
   "cell_type": "markdown",
   "id": "152be6ba",
   "metadata": {},
   "source": [
    "### Conversion\n",
    "A filter can also be used for conversions. First has to be defined when a hit is a conversion hit. A conversion is defined by a [location](https://objectiv.io/docs/taxonomy/location-contexts) (on the product) and an event type. The example below defines the clicks to our repository as conversions. A name for the conversion event can optionally be specified."
   ]
  },
  {
   "cell_type": "code",
   "execution_count": null,
   "id": "da05c124",
   "metadata": {},
   "outputs": [],
   "source": [
    "df.add_conversion_event(location_stack=df.location_stack.json[{'_type': 'LinkContext', 'id': 'cta-repo-button'}:],\n",
    "                        event_type='ClickEvent',\n",
    "                        name='github_clicks')"
   ]
  },
  {
   "cell_type": "markdown",
   "id": "50e8a9cb",
   "metadata": {},
   "source": [
    "Using the conversion, we can calculated the number of converted users at once by creating a filter and using that filter in the unique users model."
   ]
  },
  {
   "cell_type": "code",
   "execution_count": null,
   "id": "5e2ca9d1",
   "metadata": {},
   "outputs": [],
   "source": [
    "df.mh.agg.unique_users(filter=df.mh.f.conversion('github_clicks')).to_pandas()"
   ]
  },
  {
   "cell_type": "markdown",
   "id": "c964f0a9",
   "metadata": {},
   "source": [
    "This concludes the open model hub demo.\n",
    "\n",
    "We hope you’ve gotten a taste of the power and flexibility of the open model hub to quickly answer common product analytics questions. You can take it a lot further and build highly specific model stacks for in-depth analysis and exploration.\n",
    "\n",
    "For a complete overview of all available and upcoming models, check out the open model hub docs.\n",
    "\n",
    "The Bach modeling library can also do a whole lot more. It includes a specific set of operations that are designed for effective modeling on datasets that embrace the open analytics taxonomy, and pandas-compatability means you can tap into the rich ML ecosystem that pandas is well-known for.\n",
    "\n",
    "There is another notebook in the same folder that demonstrates what you can do with the Bach modeling library [open-taxonomy-how-to.ipynb](open-taxonomy-how-to.ipynb)"
   ]
  }
 ],
 "metadata": {
  "kernelspec": {
   "display_name": "Python 3 (ipykernel)",
   "language": "python",
   "name": "python3"
  },
  "language_info": {
   "codemirror_mode": {
    "name": "ipython",
    "version": 3
   },
   "file_extension": ".py",
   "mimetype": "text/x-python",
   "name": "python",
   "nbconvert_exporter": "python",
   "pygments_lexer": "ipython3",
   "version": "3.9.4"
  }
 },
 "nbformat": 4,
 "nbformat_minor": 5
}
