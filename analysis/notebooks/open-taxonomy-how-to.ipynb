{
 "cells": [
  {
   "cell_type": "markdown",
   "id": "ea65ba18",
   "metadata": {},
   "source": [
    "# Intro\n",
    "This notebook demonstrates how the Objectiv stack can be used to it's full potential. The data used is tracked using the Open Taxonomy with the Objectiv tracker and the Objectiv collector. This data is stored in an sql database. With Objectiv Bach, standard transformations and models can be applied to the data to make data manipulations easy and standardized.\n",
    "\n",
    "The Objectiv Bach api is heavily inspired by the pandas api. We believe this provides a great, generic interface to handle large amounts of data in a python environment while supporting multiple data stores.\n",
    "\n",
    "For an intro into the pandas api see: https://pandas.pydata.org/pandas-docs/stable/user_guide/10min.html  \n",
    "The full Objectiv Bach api reference is available here: https://objectiv.io/docs/modeling/reference"
   ]
  },
  {
   "cell_type": "markdown",
   "id": "4cab9944",
   "metadata": {},
   "source": [
    "# Contents  \n",
    "* [Instantiate-the-object](#Instantiate-the-object)\n",
    "  * [The data](#The-data)\n",
    "    * [global_contexts & location_stack](#global_contexts-&-location_stack)\n",
    "    * [location_stack](#location_stack)\n",
    "    * [global_contexts](#global_contexts)\n",
    "  * [Using the data](#Using-the-data)\n",
    "    * [Simple analytics metrics](#Simple-analytics-metrics)\n",
    "    * [Working with the location stack](#Working-with-the-location-stack)\n",
    "    * [Advanced aggregation with dash app](#Advanced-aggregation-with-dash-app)\n",
    "  * [Sampling](#Sampling)\n",
    "  * [References](#References)"
   ]
  },
  {
   "cell_type": "code",
   "execution_count": null,
   "id": "e97ff289",
   "metadata": {},
   "outputs": [],
   "source": [
    "import sqlalchemy\n",
    "import os\n",
    "from bach_open_taxonomy import ObjectivFrame"
   ]
  },
  {
   "cell_type": "markdown",
   "id": "d1d35b5b",
   "metadata": {},
   "source": [
    "# Instantiate the object\n",
    "As a first step, the Objectiv Frame object is instantiated. The Objectiv Frame is an extension to Objectiv Bach DataFrame, specifically for use with Objectiv tracked data. It loads the data as stored by the Objectiv Tracker, makes a few transformations, and sets the right data types."
   ]
  },
  {
   "cell_type": "code",
   "execution_count": null,
   "id": "05190260",
   "metadata": {},
   "outputs": [],
   "source": [
    "dsn = os.environ.get('DSN', 'postgresql://objectiv:@localhost:5432/objectiv')\n",
    "engine = sqlalchemy.create_engine(dsn, pool_size=1, max_overflow=0)\n",
    "df = ObjectivFrame.from_table(engine)\n",
    "# todo set a time frame here, instead of loading all data."
   ]
  },
  {
   "cell_type": "markdown",
   "id": "2a316d23",
   "metadata": {},
   "source": [
    "The data for the DataFrame is still in the database and the database is not queried before any of the data is loaded to the python environment. The methods that query the database are: \n",
    "* [`head()`](https://objectiv.io/docs/modeling/dataframe/bach.DataFrame.head#bach.DataFrame.head)\n",
    "* [`to_pandas()`](https://objectiv.io/docs/modeling/dataframe/bach.DataFrame.to_pandas#bach.DataFrame.to_pandas)\n",
    "* [`get_sample()`](https://objectiv.io/docs/modeling/dataframe/bach.DataFrame.get_sample#bach.DataFrame.get_sample)\n",
    "* The property accessors [`values`](https://objectiv.io/docs/modeling/dataframe/bach.DataFrame.values#bach.DataFrame.values), [`Series.array`](https://objectiv.io/docs/modeling/series/bach.Series.array#bach.Series.array), [`Series.value`](https://objectiv.io/docs/modeling/series/bach.Series.value#bach.Series.value)\n",
    "\n",
    "For demo puposes of this notebook, these methods are called often to show the results of our operations. To limit the number of executed queries on the full data set it is recommended to use these methods less often or [to sample the data first](#sampling)."
   ]
  },
  {
   "cell_type": "markdown",
   "id": "eac0a37f",
   "metadata": {},
   "source": [
    "## The data\n",
    "The contents of the Objectiv Frame exist of:"
   ]
  },
  {
   "cell_type": "code",
   "execution_count": null,
   "id": "2d187cd0",
   "metadata": {},
   "outputs": [],
   "source": [
    "df.index_dtypes"
   ]
  },
  {
   "cell_type": "markdown",
   "id": "de3272e6",
   "metadata": {},
   "source": [
    "The index contain a unique identifyer for every hit."
   ]
  },
  {
   "cell_type": "code",
   "execution_count": null,
   "id": "4f540a20",
   "metadata": {},
   "outputs": [],
   "source": [
    "df.dtypes"
   ]
  },
  {
   "cell_type": "markdown",
   "id": "154f4898",
   "metadata": {},
   "source": [
    "* `day`: the day of the session as a date.\n",
    "* `moment`: the exact moment of the event.\n",
    "* `user_id`: the unique identifyer of the user based on the cookie.\n",
    "* `session_id`: a unique incremented integer id for each session. Starts at 0 for the selected data in the Objectiv Frame.\n",
    "* `global_contexts`: a json-like data column that stores additional information on the event that is logged. This includes data like device data, application data, and cookie information. [See below](#global_contexts) for more detailed explanation. \n",
    "* `location_stack`: a json-like data column that stores information on the exact location where the event is triggered in the product. [See below](#location_stack) for more detailed explanation.\n",
    "* `event_type`: the type of event that is logged.\n",
    "* `stack_event_types`: the parents of the event_type."
   ]
  },
  {
   "cell_type": "markdown",
   "id": "283c8c6f",
   "metadata": {},
   "source": [
    "A preview of the data:"
   ]
  },
  {
   "cell_type": "code",
   "execution_count": null,
   "id": "f0ce917d",
   "metadata": {},
   "outputs": [],
   "source": [
    "df.head()"
   ]
  },
  {
   "cell_type": "markdown",
   "id": "42380c96",
   "metadata": {},
   "source": [
    "### global_contexts & location_stack\n",
    "The global_contexts and location_stack are both columns containing json-like data. Data in these columns is key to effective usage of the Open Taxonomy. Both columns are always arrays of context objects. The json arrays can be accessed with the `.json` accessor. A context object looks like the example below. It _always_ contains a `_type` and `id` key."
   ]
  },
  {
   "cell_type": "code",
   "execution_count": null,
   "id": "a135e7e0",
   "metadata": {},
   "outputs": [],
   "source": [
    "df.location_stack.json[0].head(1)[0]"
   ]
  },
  {
   "cell_type": "markdown",
   "id": "cfc4c4ac",
   "metadata": {},
   "source": [
    "**Slicing the json data**  \n",
    "With the `.json[]` syntax you can slice the array using integers. Instead of integers, dictionaries can also be passed to 'query' the json array. If the passed dictionary matches a context object in the stack, all objects of the stack starting (or ending, depending on the slice) at that object will be returned.\n",
    "\n",
    "**An example**  \n",
    "Consider a json array that looks like this):\n",
    "```json\n",
    "[{'id': '#document', '_type': 'WebDocumentContext'},\n",
    " {'id': 'page-about', '_type': 'SectionContext'},\n",
    " {'id': 'main', '_type': 'SectionContext'},\n",
    " {'id': 'core-team', '_type': 'SectionContext'},\n",
    " {'id': 'contributors', '_type': 'SectionContext'},\n",
    " {'id': 'jansentom', '_type': 'SectionContext'},\n",
    " {'id': 'contributor-card', '_type': 'SectionContext'}]\n",
    "```\n",
    "**Regular slicing**\n",
    "```python\n",
    "df.location_stack.json[2:4]\n",
    "```\n",
    "For the example array it would return:\n",
    "```json\n",
    "[{'id': 'main', '_type': 'SectionContext'},\n",
    " {'id': 'core-team', '_type': 'SectionContext'}]\n",
    "```\n",
    "**Slicing by querying**\n",
    "We want to return only the part of the array starting at the object that contain this object:\n",
    "```javascript\n",
    "{\"id\": \"contributors\", \"_type\": \"SectionContext\"}\n",
    "```\n",
    "The syntax for selecting like this is: \n",
    "```python\n",
    "df.location_stack.json[{\"_type\": \"SectionContext\", \"id\": \"contributors\"}:]\n",
    "```\n",
    "For the example array it would return:\n",
    "```json\n",
    "[{'id': 'contributors', '_type': 'SectionContext'},\n",
    " {'id': 'jansentom', '_type': 'SectionContext'},\n",
    " {'id': 'contributor-card', '_type': 'SectionContext'}]\n",
    "```\n",
    "In case a location stack does not contain the object, `None` is returned. More info at the api reference: https://objectiv.io/docs/modeling/series/bach.SeriesJsonb.json#bach.SeriesJsonb.json"
   ]
  },
  {
   "cell_type": "markdown",
   "id": "cf6d0e87",
   "metadata": {},
   "source": [
    "### location_stack\n",
    "The `location_stack` column in an Objectiv Frame that stores the information on the exact location where the event is triggered in the product. The example used above is the location stack of the contributor card of Tom Jansen on this page: https://objectiv.io/about/.\n",
    "\n",
    "Because of the specific way the location information is labeled, validated, and stored using the Open Taxonomy, it can be used to slice and group your products' features in an efficient and easy way. We call this 'feature creation'. See the [section](#feature-creation-/-aggregations) dedicated to feature creation below.\n",
    "\n",
    "The column is set as an `objectiv_location_stack` type, and therefore location stack specific methods can be used to access the data from the `location_stack`. These methods can be used using the `.ls` accessor on the column. The methods are:\n",
    "* The property accessors [`.ls.navigation_features`](https://objectiv.io/docs/modeling/objectiv/bach_open_taxonomy.SeriesLocationStack.ls#bach_open_taxonomy.SeriesLocationStack.ls), [`.ls.feature_stack`](https://objectiv.io/docs/modeling/objectiv/bach_open_taxonomy.SeriesLocationStack.ls#bach_open_taxonomy.SeriesLocationStack.ls), [`.ls.nice_name`](https://objectiv.io/docs/modeling/objectiv/bach_open_taxonomy.SeriesLocationStack.ls#bach_open_taxonomy.SeriesLocationStack.ls)\n",
    "* all [methods](https://objectiv.io/docs/modeling/series/bach.SeriesJsonb.json#bach.SeriesJsonb.json) for the json(b) type can also be accessed using `.ls`\n",
    "\n",
    "The full reference of location stack is [here](https://objectiv.io/docs/taxonomy/location-contexts). An example is queried below:"
   ]
  },
  {
   "cell_type": "code",
   "execution_count": null,
   "id": "a74b5711",
   "metadata": {},
   "outputs": [],
   "source": [
    "df.location_stack.head(1)[0]"
   ]
  },
  {
   "cell_type": "markdown",
   "id": "5ba58635",
   "metadata": {},
   "source": [
    "### global_contexts\n",
    "The `global_contexts` column in an Objectiv Frame contain all information that is relevant to the logged event. As it is set as an `objectiv_global_context` type, specific methods can be used to access the data from the `global_contexts`. These methods can be used using the `.gc` accessor on the column. The methods are:\n",
    "* [`.gc.get_from_context_with_type_series(type, key)`](https://objectiv.io/docs/modeling/objectiv/bach_open_taxonomy.ObjectivStack#bach_open_taxonomy.ObjectivStack)\n",
    "* The property accessors [`.gc.cookie_id`](https://objectiv.io/docs/modeling/objectiv/bach_open_taxonomy.SeriesGlobalContexts.gc#bach_open_taxonomy.SeriesGlobalContexts.gc), [`.gc.user_agent`](https://objectiv.io/docs/modeling/objectiv/bach_open_taxonomy.SeriesGlobalContexts.gc#bach_open_taxonomy.SeriesGlobalContexts.gc), [`.gc.application`](https://objectiv.io/docs/modeling/objectiv/bach_open_taxonomy.SeriesGlobalContexts.gc#bach_open_taxonomy.SeriesGlobalContexts.gc)  \n",
    "* all [methods](https://objectiv.io/docs/modeling/series/bach.SeriesJsonb.json#bach.SeriesJsonb.json) for the json(b) type can also be accessed using `.gc`\n",
    "\n",
    "The full reference of global contexts is [here](https://objectiv.io/docs/taxonomy/global-contexts). An example is queried below:"
   ]
  },
  {
   "cell_type": "code",
   "execution_count": null,
   "id": "24e640ba",
   "metadata": {
    "scrolled": true
   },
   "outputs": [],
   "source": [
    "df.global_contexts.head(1)[0]"
   ]
  },
  {
   "cell_type": "markdown",
   "id": "2cade0c4",
   "metadata": {},
   "source": [
    "# Using the data\n",
    "## Simple analytics metrics\n",
    "Now that we are familiar with the data, we first create some straightforward analytics metrics using pandas syntax.\n",
    "\n",
    "For all examples below, the entire data set is used, but the data does not get queried until the data is exported to this notebook using the `.to_pandas()` method."
   ]
  },
  {
   "cell_type": "markdown",
   "id": "17e26199",
   "metadata": {},
   "source": [
    "### Unique users per day"
   ]
  },
  {
   "cell_type": "code",
   "execution_count": null,
   "id": "3f4904c9",
   "metadata": {},
   "outputs": [],
   "source": [
    "unique_users = df.groupby('day').user_id.nunique()\n",
    "unique_users.to_pandas()"
   ]
  },
  {
   "cell_type": "markdown",
   "id": "760a7135",
   "metadata": {},
   "source": [
    "### Average sessions per user per day"
   ]
  },
  {
   "cell_type": "code",
   "execution_count": null,
   "id": "7cc1a8f6",
   "metadata": {},
   "outputs": [],
   "source": [
    "sessions = df.groupby('day').session_id.nunique()\n",
    "avg_sessions_per_user = sessions / unique_users\n",
    "avg_sessions_per_user.to_pandas()"
   ]
  },
  {
   "cell_type": "markdown",
   "id": "fdd2e967",
   "metadata": {},
   "source": [
    "### Top features\n",
    "Calculate the most used features in a selected week. Notice that instead of grouping by a column name, we group on a modified series ([`.ls.nice_name`](https://objectiv.io/docs/modeling/objectiv/bach_open_taxonomy.SeriesLocationStack.ls#bach_open_taxonomy.SeriesLocationStack.ls)). This is possible as long as the (modified) series originates from the same Data Frame and allows for more condensed code."
   ]
  },
  {
   "cell_type": "code",
   "execution_count": null,
   "id": "54eb2391",
   "metadata": {},
   "outputs": [],
   "source": [
    "top_features = df[(df.day>='2021-11-11') & \n",
    "                  (df.day<='2021-11-17') & \n",
    "                  (df.event_type=='ClickEvent')].groupby(df.location_stack.ls.nice_name).session_hit_number.count()\n",
    "\n",
    "top_features_sorted = top_features.sort_values(ascending=False)\n",
    "top_features_sorted.head(10)"
   ]
  },
  {
   "cell_type": "markdown",
   "id": "fc52eb01",
   "metadata": {},
   "source": [
    "### Session duration"
   ]
  },
  {
   "cell_type": "code",
   "execution_count": null,
   "id": "04b1c4bb",
   "metadata": {},
   "outputs": [],
   "source": [
    "session_start_end = df.groupby(['day','session_id']).agg({'moment': ['min', 'max']})\n",
    "\n",
    "# When aggregating, Bach adds the name of the aggregation function to the column it is applied to. Therefore \n",
    "# the aggregated data columns can be used as here:\n",
    "session_start_end['session_duration'] = session_start_end.moment_max - session_start_end.moment_min\n",
    "\n",
    "# Exclude 0 s sessions (bounces)\n",
    "avg_session_duration = session_start_end[session_start_end.session_duration>'0'].groupby('day').session_duration.mean()\n",
    "avg_session_duration.to_pandas()"
   ]
  },
  {
   "cell_type": "markdown",
   "id": "b9a838ea",
   "metadata": {},
   "source": [
    "## Working with the location stack"
   ]
  },
  {
   "cell_type": "code",
   "execution_count": null,
   "id": "2d3131cf",
   "metadata": {},
   "outputs": [],
   "source": [
    "# todo: here the models-hub starts: df.conversion() instead of multiple lines of Bach that are now still below."
   ]
  },
  {
   "cell_type": "markdown",
   "id": "24ed7494",
   "metadata": {},
   "source": [
    "### Conversion"
   ]
  },
  {
   "cell_type": "code",
   "execution_count": null,
   "id": "77486ca6",
   "metadata": {},
   "outputs": [],
   "source": [
    "conversion_df = df[(df.global_contexts.gc.application == 'objectiv-website') & \n",
    "                   (df.day > '2021-11-15')]"
   ]
  },
  {
   "cell_type": "code",
   "execution_count": null,
   "id": "3d966a55",
   "metadata": {},
   "outputs": [],
   "source": [
    "# locations that are conversions\n",
    "conversion_df['conversion_location'] = conversion_df.location_stack.json[{'_type': 'LinkContext', 'id': 'cta-repo-button'}:]\n",
    "conversion_df['conversion_location'] = conversion_df['conversion_location'].fillna(conversion_df.location_stack.json[{'_type': 'LinkContext', 'id': 'GitHub'}:])"
   ]
  },
  {
   "cell_type": "code",
   "execution_count": null,
   "id": "2a975761",
   "metadata": {},
   "outputs": [],
   "source": [
    "conversion_df[(conversion_df.conversion_location.notnull()) & \n",
    "              (conversion_df.event_type == 'ClickEvent')].display_sankey()"
   ]
  },
  {
   "cell_type": "code",
   "execution_count": null,
   "id": "97d61b10",
   "metadata": {},
   "outputs": [],
   "source": [
    "# click events for these locations (ie conversion)\n",
    "conversion_successful = conversion_df[(conversion_df.conversion_location.notnull()) & \n",
    "                                      (conversion_df.event_type == 'ClickEvent')].groupby('day').user_id.nunique()"
   ]
  },
  {
   "cell_type": "code",
   "execution_count": null,
   "id": "b9609591",
   "metadata": {},
   "outputs": [],
   "source": [
    "# total users per day\n",
    "conversion_users = conversion_df.groupby('day').user_id.nunique()"
   ]
  },
  {
   "cell_type": "code",
   "execution_count": null,
   "id": "671fc0c5",
   "metadata": {},
   "outputs": [],
   "source": [
    "conversion_rate_df = conversion_users.to_frame().merge(conversion_successful, how='left', left_index=True, right_index=True, suffixes=('_all', '_converted'))"
   ]
  },
  {
   "cell_type": "code",
   "execution_count": null,
   "id": "2c625ff4",
   "metadata": {},
   "outputs": [],
   "source": [
    "conversion_rate_df['conversion_rate'] = (conversion_rate_df.user_id_converted / conversion_rate_df.user_id_all).fillna(0.)"
   ]
  },
  {
   "cell_type": "code",
   "execution_count": null,
   "id": "fdc54a50",
   "metadata": {},
   "outputs": [],
   "source": [
    "conversion_rate_df.to_pandas()"
   ]
  },
  {
   "cell_type": "markdown",
   "id": "d0a39c60",
   "metadata": {},
   "source": [
    "### Conversion funnel"
   ]
  },
  {
   "cell_type": "markdown",
   "id": "c30a691c",
   "metadata": {},
   "source": [
    "## Advanced aggregation with dash app"
   ]
  },
  {
   "cell_type": "code",
   "execution_count": null,
   "id": "7089290f",
   "metadata": {},
   "outputs": [],
   "source": [
    "from jupyter_dash import JupyterDash as Dash\n",
    "from bach_open_taxonomy.sankey_dash import get_app"
   ]
  },
  {
   "cell_type": "code",
   "execution_count": null,
   "id": "ddf60b49",
   "metadata": {},
   "outputs": [],
   "source": [
    "ff = conversion_df.create_sample_feature_frame('buh2', overwrite=True)"
   ]
  },
  {
   "cell_type": "code",
   "execution_count": null,
   "id": "365b3db5",
   "metadata": {},
   "outputs": [],
   "source": [
    "app = get_app(Dash, ff, dash_options={'server_url': 'http://localhost:8050'})\n",
    "app.run_server(mode='inline', height = 1100, port=8050, host='0.0.0.0')"
   ]
  },
  {
   "cell_type": "code",
   "execution_count": null,
   "id": "49a17d20",
   "metadata": {},
   "outputs": [],
   "source": [
    "ff['page'] = ff.location_stack.ls[1:2]"
   ]
  },
  {
   "cell_type": "code",
   "execution_count": null,
   "id": "f2d8f902",
   "metadata": {},
   "outputs": [],
   "source": [
    "feature_creation_df = ff.apply_feature_frame_sample_changes(conversion_df)"
   ]
  },
  {
   "cell_type": "code",
   "execution_count": null,
   "id": "72a930fa",
   "metadata": {},
   "outputs": [],
   "source": [
    "feature_creation_df.head()"
   ]
  },
  {
   "cell_type": "markdown",
   "id": "ca0712a1",
   "metadata": {},
   "source": [
    "# Sampling\n",
    "One of the key features to Objectiv Bach is that it runs on your full data set. There can however be situations where you want to experiment with your data, meaning you have to query the full data set often. This can become slow and/or costly. \n",
    "\n",
    "To limit these costs it is possible to do operations on a sample of the full data set. All operations can easily be applied at any time to the full data set if that is desired.\n",
    "\n",
    "Below we create a sample that randomly selects ~1% of all the rows in the data. A table containing the sampled is written to the database, therefore the `table_name` must be provided when creating the sample."
   ]
  },
  {
   "cell_type": "code",
   "execution_count": null,
   "id": "c11a0354",
   "metadata": {},
   "outputs": [],
   "source": [
    "df_sample = df.get_sample(table_name='buh', sample_percentage=10, overwrite=True)"
   ]
  },
  {
   "cell_type": "markdown",
   "id": "b77755c7",
   "metadata": {},
   "source": [
    "Two new columns are created in the sample."
   ]
  },
  {
   "cell_type": "code",
   "execution_count": null,
   "id": "af6ac7a1",
   "metadata": {},
   "outputs": [],
   "source": [
    "df_sample['root_locatiomn_contexts'] = df_sample.location_stack.json[:1]\n",
    "df_sample['application'] = df_sample.global_contexts.gc.application\n",
    "df_sample.head()"
   ]
  },
  {
   "cell_type": "markdown",
   "id": "4d30f5c1",
   "metadata": {},
   "source": [
    "Using `.get_unsampled()`, the operations that are done on the sample (the creation of the two columns), are applied to the entire data set:"
   ]
  },
  {
   "cell_type": "code",
   "execution_count": null,
   "id": "e710607d",
   "metadata": {},
   "outputs": [],
   "source": [
    "df_unsampled = df_sample.get_unsampled()\n",
    "df_unsampled.head()"
   ]
  },
  {
   "cell_type": "markdown",
   "id": "21d3b4e8",
   "metadata": {},
   "source": [
    "The sample can also be used for grouping and aggregating. The example below counts all hits and the unique event_types in the sample:"
   ]
  },
  {
   "cell_type": "code",
   "execution_count": null,
   "id": "21a4f054",
   "metadata": {},
   "outputs": [],
   "source": [
    "df_sample_grouped = df_sample.groupby(['application']).agg({'event_type':'nunique','session_hit_number':'count'})\n",
    "df_sample_grouped.head()\n",
    "# todo sampled series does not work/exist, therefore I create a df"
   ]
  },
  {
   "cell_type": "markdown",
   "id": "ca528c2d",
   "metadata": {},
   "source": [
    "As can be seen from the counts, unsampling applies the transformation to the entire data set:"
   ]
  },
  {
   "cell_type": "code",
   "execution_count": null,
   "id": "0aa6e731",
   "metadata": {},
   "outputs": [],
   "source": [
    "df_unsampled_grouped = df_sample_grouped.get_unsampled()\n",
    "df_unsampled_grouped.head()"
   ]
  },
  {
   "cell_type": "markdown",
   "id": "2079ea8b",
   "metadata": {},
   "source": [
    "# References\n",
    "* other notebooks"
   ]
  }
 ],
 "metadata": {
  "kernelspec": {
   "display_name": "Python 3 (ipykernel)",
   "language": "python",
   "name": "python3"
  },
  "language_info": {
   "codemirror_mode": {
    "name": "ipython",
    "version": 3
   },
   "file_extension": ".py",
   "mimetype": "text/x-python",
   "name": "python",
   "nbconvert_exporter": "python",
   "pygments_lexer": "ipython3",
   "version": "3.9.4"
  }
 },
 "nbformat": 4,
 "nbformat_minor": 5
}
