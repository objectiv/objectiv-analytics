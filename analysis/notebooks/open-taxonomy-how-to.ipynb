{
 "cells": [
  {
   "cell_type": "markdown",
   "id": "ea65ba18",
   "metadata": {},
   "source": [
    "# Intro\n",
    "This notebook demonstrates what you can do with the Objectiv Bach modeling library and a dataset that was validated against the open analytics taxonomy. The example uses real data that's stored in an SQL database and was collected with the Objectiv Tracker that's instrumented on objectiv.io.\n",
    "\n",
    "There is another notebook in the same folder that focuses on using the open model hub [model-hub-demo-notebook.ipynb](model-hub-demo-notebook.ipynb), demonstrating how you can use Bach to stack pre-built models to quickly answer common product analytics questions. \n",
    "\n",
    "The Objectiv Bach API is heavily inspired by the pandas API. We believe this provides a great, generic interface to handle large amounts of data in a python environment while supporting multiple data stores.\n",
    "\n",
    "For an intro into the pandas api see: https://pandas.pydata.org/pandas-docs/stable/user_guide/10min.html  \n",
    "The full Objectiv Bach api reference is available here: https://objectiv.io/docs/modeling/reference"
   ]
  },
  {
   "cell_type": "markdown",
   "id": "4cab9944",
   "metadata": {},
   "source": [
    "# Contents  \n",
    "* [Instantiate-the-object](#Instantiate-the-object)\n",
    "  * [The data](#The-data)\n",
    "    * [global_contexts & location_stack](#global_contexts-&-location_stack)\n",
    "    * [location_stack](#location_stack)\n",
    "    * [global_contexts](#global_contexts)\n",
    "  * [Sampling](#Sampling)"
   ]
  },
  {
   "cell_type": "code",
   "execution_count": null,
   "id": "e97ff289",
   "metadata": {},
   "outputs": [],
   "source": [
    "from bach_open_taxonomy import ObjectivFrame"
   ]
  },
  {
   "cell_type": "markdown",
   "id": "d1d35b5b",
   "metadata": {},
   "source": [
    "# Instantiate the object\n",
    "As a first step, the Objectiv Frame object is instantiated. The Objectiv Frame is an extension to Objectiv Bach DataFrame to use specifically for data that was collected with Objectiv’s Tracker. It loads the data as stored by the Objectiv Tracker, makes a few transformations, and sets the right data types."
   ]
  },
  {
   "cell_type": "code",
   "execution_count": null,
   "id": "05190260",
   "metadata": {},
   "outputs": [],
   "source": [
    "df = ObjectivFrame.from_objectiv_data(time_aggregation='YYYY-MM-DD')"
   ]
  },
  {
   "cell_type": "markdown",
   "id": "2a316d23",
   "metadata": {},
   "source": [
    "The data for the DataFrame is still in the database and the database is not queried before any of the data is loaded to the python environment. The methods that query the database are: \n",
    "* [`head()`](https://objectiv.io/docs/modeling/dataframe/bach.DataFrame.head#bach.DataFrame.head)\n",
    "* [`to_pandas()`](https://objectiv.io/docs/modeling/dataframe/bach.DataFrame.to_pandas#bach.DataFrame.to_pandas)\n",
    "* [`get_sample()`](https://objectiv.io/docs/modeling/dataframe/bach.DataFrame.get_sample#bach.DataFrame.get_sample)\n",
    "* The property accessors [`values`](https://objectiv.io/docs/modeling/dataframe/bach.DataFrame.values#bach.DataFrame.values), [`Series.array`](https://objectiv.io/docs/modeling/series/bach.Series.array#bach.Series.array), [`Series.value`](https://objectiv.io/docs/modeling/series/bach.Series.value#bach.Series.value)\n",
    "\n",
    "For demo puposes of this notebook, these methods are called often to show the results of our operations. To limit the number of executed queries on the full data set it is recommended to use these methods less often or [to sample the data first](#sampling)."
   ]
  },
  {
   "cell_type": "markdown",
   "id": "eac0a37f",
   "metadata": {},
   "source": [
    "## The data\n",
    "The contents of the Objectiv Frame exist of:"
   ]
  },
  {
   "cell_type": "code",
   "execution_count": null,
   "id": "2d187cd0",
   "metadata": {},
   "outputs": [],
   "source": [
    "df.index_dtypes"
   ]
  },
  {
   "cell_type": "markdown",
   "id": "de3272e6",
   "metadata": {},
   "source": [
    "The index contain a unique identifyer for every hit."
   ]
  },
  {
   "cell_type": "code",
   "execution_count": null,
   "id": "4f540a20",
   "metadata": {},
   "outputs": [],
   "source": [
    "df.dtypes"
   ]
  },
  {
   "cell_type": "markdown",
   "id": "154f4898",
   "metadata": {},
   "source": [
    "* `day`: the day of the session as a date.\n",
    "* `moment`: the exact moment of the event.\n",
    "* `user_id`: the unique identifyer of the user based on the cookie.\n",
    "* `session_id`: a unique incremented integer id for each session. Starts at 0 for the selected data in the Objectiv Frame.\n",
    "* `global_contexts`: a json-like data column that stores additional information on the event that is logged. This includes data like device data, application data, and cookie information. [See below](#global_contexts) for more detailed explanation. \n",
    "* `location_stack`: a json-like data column that stores information on the exact location where the event is triggered in the product's UI. [See below](#location_stack) for more detailed explanation.\n",
    "* `event_type`: the type of event that is logged.\n",
    "* `stack_event_types`: the parents of the event_type."
   ]
  },
  {
   "cell_type": "markdown",
   "id": "283c8c6f",
   "metadata": {},
   "source": [
    "A preview of the data:"
   ]
  },
  {
   "cell_type": "code",
   "execution_count": null,
   "id": "f0ce917d",
   "metadata": {},
   "outputs": [],
   "source": [
    "df.head()"
   ]
  },
  {
   "cell_type": "markdown",
   "id": "42380c96",
   "metadata": {},
   "source": [
    "### global_contexts & location_stack\n",
    "The global_contexts and location_stack are both columns containing json-like data. Both columns are always arrays of context objects. The json arrays can be accessed with the `.json` accessor. A context object looks like the example below. It _always_ contains a `_type` and `id` key."
   ]
  },
  {
   "cell_type": "code",
   "execution_count": null,
   "id": "a135e7e0",
   "metadata": {},
   "outputs": [],
   "source": [
    "df.location_stack.json[0].head(1)[0]"
   ]
  },
  {
   "cell_type": "markdown",
   "id": "cfc4c4ac",
   "metadata": {},
   "source": [
    "**Slicing the json data**  \n",
    "With the `.json[]` syntax you can slice the array using integers. Instead of integers, dictionaries can also be passed to 'query' the json array. If the passed dictionary matches a context object in the stack, all objects of the stack starting (or ending, depending on the slice) at that object will be returned.\n",
    "\n",
    "**An example**  \n",
    "Consider a json array that looks like this):\n",
    "```json\n",
    "[{'id': '#document', '_type': 'WebDocumentContext'},\n",
    " {'id': 'page-about', '_type': 'SectionContext'},\n",
    " {'id': 'main', '_type': 'SectionContext'},\n",
    " {'id': 'core-team', '_type': 'SectionContext'},\n",
    " {'id': 'contributors', '_type': 'SectionContext'},\n",
    " {'id': 'jansentom', '_type': 'SectionContext'},\n",
    " {'id': 'contributor-card', '_type': 'SectionContext'}]\n",
    "```\n",
    "**Regular slicing**\n",
    "```python\n",
    "df.location_stack.json[2:4]\n",
    "```\n",
    "For the example array it would return:\n",
    "```json\n",
    "[{'id': 'main', '_type': 'SectionContext'},\n",
    " {'id': 'core-team', '_type': 'SectionContext'}]\n",
    "```\n",
    "**Slicing by querying**\n",
    "We want to return only the part of the array starting at the object that contain this object:\n",
    "```javascript\n",
    "{\"id\": \"contributors\", \"_type\": \"SectionContext\"}\n",
    "```\n",
    "The syntax for selecting like this is: \n",
    "```python\n",
    "df.location_stack.json[{\"_type\": \"SectionContext\", \"id\": \"contributors\"}:]\n",
    "```\n",
    "For the example array it would return:\n",
    "```json\n",
    "[{'id': 'contributors', '_type': 'SectionContext'},\n",
    " {'id': 'jansentom', '_type': 'SectionContext'},\n",
    " {'id': 'contributor-card', '_type': 'SectionContext'}]\n",
    "```\n",
    "In case a location stack does not contain the object, `None` is returned. More info at the api reference: https://objectiv.io/docs/modeling/series/bach.SeriesJsonb.json#bach.SeriesJsonb.json"
   ]
  },
  {
   "cell_type": "markdown",
   "id": "cf6d0e87",
   "metadata": {},
   "source": [
    "### location_stack\n",
    "The `location_stack` column in an Objectiv Frame that stores the information on the exact location where the event is triggered in the product. The example used above is the location stack of the contributor card of Tom Jansen on this page: https://objectiv.io/about/.\n",
    "\n",
    "Because of the specific way the location information is labeled, validated, and stored using the Open Taxonomy, it can be used to slice and group your products' features in an efficient and easy way. The column is set as an `objectiv_location_stack` type, and therefore location stack specific methods can be used to access the data from the `location_stack`. These methods can be used using the `.ls` accessor on the column. The methods are:\n",
    "* The property accessors [`.ls.navigation_features`](https://objectiv.io/docs/modeling/objectiv/bach_open_taxonomy.SeriesLocationStack.ls#bach_open_taxonomy.SeriesLocationStack.ls), [`.ls.feature_stack`](https://objectiv.io/docs/modeling/objectiv/bach_open_taxonomy.SeriesLocationStack.ls#bach_open_taxonomy.SeriesLocationStack.ls), [`.ls.nice_name`](https://objectiv.io/docs/modeling/objectiv/bach_open_taxonomy.SeriesLocationStack.ls#bach_open_taxonomy.SeriesLocationStack.ls)\n",
    "* all [methods](https://objectiv.io/docs/modeling/series/bach.SeriesJsonb.json#bach.SeriesJsonb.json) for the json(b) type can also be accessed using `.ls`\n",
    "\n",
    "The full reference of location stack is [here](https://objectiv.io/docs/taxonomy/location-contexts). An example is queried below:"
   ]
  },
  {
   "cell_type": "code",
   "execution_count": null,
   "id": "a74b5711",
   "metadata": {},
   "outputs": [],
   "source": [
    "df.location_stack.head(1)[0]"
   ]
  },
  {
   "cell_type": "markdown",
   "id": "5ba58635",
   "metadata": {},
   "source": [
    "### global_contexts\n",
    "The `global_contexts` column in an Objectiv Frame contain all information that is relevant to the logged event. As it is set as an `objectiv_global_context` type, specific methods can be used to access the data from the `global_contexts`. These methods can be used using the `.gc` accessor on the column. The methods are:\n",
    "* [`.gc.get_from_context_with_type_series(type, key)`](https://objectiv.io/docs/modeling/objectiv/bach_open_taxonomy.ObjectivStack#bach_open_taxonomy.ObjectivStack)\n",
    "* The property accessors [`.gc.cookie_id`](https://objectiv.io/docs/modeling/objectiv/bach_open_taxonomy.SeriesGlobalContexts.gc#bach_open_taxonomy.SeriesGlobalContexts.gc), [`.gc.user_agent`](https://objectiv.io/docs/modeling/objectiv/bach_open_taxonomy.SeriesGlobalContexts.gc#bach_open_taxonomy.SeriesGlobalContexts.gc), [`.gc.application`](https://objectiv.io/docs/modeling/objectiv/bach_open_taxonomy.SeriesGlobalContexts.gc#bach_open_taxonomy.SeriesGlobalContexts.gc)  \n",
    "* all [methods](https://objectiv.io/docs/modeling/series/bach.SeriesJsonb.json#bach.SeriesJsonb.json) for the json(b) type can also be accessed using `.gc`\n",
    "\n",
    "The full reference of global contexts is [here](https://objectiv.io/docs/taxonomy/global-contexts). An example is queried below:"
   ]
  },
  {
   "cell_type": "code",
   "execution_count": null,
   "id": "24e640ba",
   "metadata": {
    "scrolled": true
   },
   "outputs": [],
   "source": [
    "df.global_contexts.head(1)[0]"
   ]
  },
  {
   "cell_type": "markdown",
   "id": "ca0712a1",
   "metadata": {},
   "source": [
    "# Sampling\n",
    "One of the key features to Objectiv Bach is that it runs on your full data set. There can however be situations where you want to experiment with your data, meaning you have to query the full data set often. This can become slow and/or costly. \n",
    "\n",
    "To limit these costs it is possible to do operations on a sample of the full data set. All operations can easily be applied at any time to the full data set if that is desired.\n",
    "\n",
    "Below we create a sample that randomly selects ~1% of all the rows in the data. A table containing the sampled is written to the database, therefore the `table_name` must be provided when creating the sample."
   ]
  },
  {
   "cell_type": "code",
   "execution_count": null,
   "id": "c11a0354",
   "metadata": {},
   "outputs": [],
   "source": [
    "df_sample = df.get_sample(table_name='buh', sample_percentage=10, overwrite=True)"
   ]
  },
  {
   "cell_type": "markdown",
   "id": "b77755c7",
   "metadata": {},
   "source": [
    "Two new columns are created in the sample."
   ]
  },
  {
   "cell_type": "code",
   "execution_count": null,
   "id": "af6ac7a1",
   "metadata": {},
   "outputs": [],
   "source": [
    "df_sample['root_locatiomn_contexts'] = df_sample.location_stack.json[:1]\n",
    "df_sample['application'] = df_sample.global_contexts.gc.application\n",
    "df_sample.head()"
   ]
  },
  {
   "cell_type": "markdown",
   "id": "4d30f5c1",
   "metadata": {},
   "source": [
    "Using `.get_unsampled()`, the operations that are done on the sample (the creation of the two columns), are applied to the entire data set:"
   ]
  },
  {
   "cell_type": "code",
   "execution_count": null,
   "id": "e710607d",
   "metadata": {},
   "outputs": [],
   "source": [
    "df_unsampled = df_sample.get_unsampled()\n",
    "df_unsampled.head()"
   ]
  },
  {
   "cell_type": "markdown",
   "id": "21d3b4e8",
   "metadata": {},
   "source": [
    "The sample can also be used for grouping and aggregating. The example below counts all hits and the unique event_types in the sample:"
   ]
  },
  {
   "cell_type": "code",
   "execution_count": null,
   "id": "21a4f054",
   "metadata": {},
   "outputs": [],
   "source": [
    "df_sample_grouped = df_sample.groupby(['application']).agg({'event_type':'nunique','session_hit_number':'count'})\n",
    "df_sample_grouped.head()"
   ]
  },
  {
   "cell_type": "markdown",
   "id": "ca528c2d",
   "metadata": {},
   "source": [
    "As can be seen from the counts, unsampling applies the transformation to the entire data set:"
   ]
  },
  {
   "cell_type": "code",
   "execution_count": null,
   "id": "0aa6e731",
   "metadata": {},
   "outputs": [],
   "source": [
    "df_unsampled_grouped = df_sample_grouped.get_unsampled()\n",
    "df_unsampled_grouped.head()"
   ]
  },
  {
   "cell_type": "markdown",
   "id": "2079ea8b",
   "metadata": {},
   "source": [
    "This concludes the Modeling with Bach demo.\n",
    "\n",
    "We’ve demonstrated a handful of the operations that Bach supports and hope you’ve gotten a taste of what Bach can do for your modeling workflow. \n",
    "\n",
    "The full Objectiv Bach API reference is available here: https://objectiv.io/docs/modeling/reference\n",
    "\n",
    "There is another notebook in the same folder [model-hub-demo-notebook.ipynb](model-hub-demo-notebook.ipynb) that focuses on using the open model hub, demonstrating how you can use Bach to combine pre-built models to quickly answer common product analytics questions."
   ]
  }
 ],
 "metadata": {
  "kernelspec": {
   "display_name": "Python 3 (ipykernel)",
   "language": "python",
   "name": "python3"
  },
  "language_info": {
   "codemirror_mode": {
    "name": "ipython",
    "version": 3
   },
   "file_extension": ".py",
   "mimetype": "text/x-python",
   "name": "python",
   "nbconvert_exporter": "python",
   "pygments_lexer": "ipython3",
   "version": "3.9.4"
  }
 },
 "nbformat": 4,
 "nbformat_minor": 5
}
