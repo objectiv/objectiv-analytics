{
 "cells": [
  {
   "cell_type": "code",
   "execution_count": 1,
   "id": "4bd369f6",
   "metadata": {
    "pycharm": {
     "name": "#%%\n"
    }
   },
   "outputs": [],
   "source": [
    "from datetime import datetime\n",
    "from modelhub import ModelHub\n",
    "from bach import display_sql_as_markdown"
   ]
  },
  {
   "cell_type": "code",
   "execution_count": 2,
   "id": "3756a344-8072-4d6d-9c86-ea6bb8428ff8",
   "metadata": {
    "pycharm": {
     "name": "#%%\n"
    }
   },
   "outputs": [],
   "source": [
    "modelhub = ModelHub(time_aggregation='%Y-%m-%d')"
   ]
  },
  {
   "cell_type": "code",
   "execution_count": 3,
   "id": "da4ec1a0",
   "metadata": {
    "pycharm": {
     "name": "#%%\n"
    }
   },
   "outputs": [],
   "source": [
    "df = modelhub.get_objectiv_dataframe(start_date='2022-02-02')\n",
    "df['feature_nice_name'] = df.location_stack.ls.nice_name"
   ]
  },
  {
   "cell_type": "code",
   "execution_count": 4,
   "id": "fa9f4043",
   "metadata": {
    "pycharm": {
     "name": "#%%\n"
    }
   },
   "outputs": [
    {
     "data": {
      "text/html": [
       "<div>\n",
       "<style scoped>\n",
       "    .dataframe tbody tr th:only-of-type {\n",
       "        vertical-align: middle;\n",
       "    }\n",
       "\n",
       "    .dataframe tbody tr th {\n",
       "        vertical-align: top;\n",
       "    }\n",
       "\n",
       "    .dataframe thead th {\n",
       "        text-align: right;\n",
       "    }\n",
       "</style>\n",
       "<table border=\"1\" class=\"dataframe\">\n",
       "  <thead>\n",
       "    <tr style=\"text-align: right;\">\n",
       "      <th></th>\n",
       "      <th>session_id</th>\n",
       "      <th>steps</th>\n",
       "    </tr>\n",
       "    <tr>\n",
       "      <th>event_id</th>\n",
       "      <th></th>\n",
       "      <th></th>\n",
       "    </tr>\n",
       "  </thead>\n",
       "  <tbody>\n",
       "    <tr>\n",
       "      <th>6307e080-d6a4-4e7d-b47f-a029b90cf6e1</th>\n",
       "      <td>97</td>\n",
       "      <td>[Root Location: blog, Media Player: objectiv-i...</td>\n",
       "    </tr>\n",
       "    <tr>\n",
       "      <th>03bfb487-a6ae-4175-bf3a-db127a75a85f</th>\n",
       "      <td>1651</td>\n",
       "      <td>[Root Location: home, Media Player: 2-minute-v...</td>\n",
       "    </tr>\n",
       "    <tr>\n",
       "      <th>21629b85-c17a-458b-a5ab-ff4c074a963c</th>\n",
       "      <td>2872</td>\n",
       "      <td>[Root Location: home, Media Player: 2-minute-v...</td>\n",
       "    </tr>\n",
       "    <tr>\n",
       "      <th>0f3b8b89-e4ff-4256-9beb-c3f252216699</th>\n",
       "      <td>2116</td>\n",
       "      <td>[Content: post-meet-objectiv-open-source-produ...</td>\n",
       "    </tr>\n",
       "    <tr>\n",
       "      <th>02ad3934-665c-47e9-8d76-c2a7a79f2c60</th>\n",
       "      <td>3600</td>\n",
       "      <td>[Pressable: hamburger located at Root Location...</td>\n",
       "    </tr>\n",
       "    <tr>\n",
       "      <th>...</th>\n",
       "      <td>...</td>\n",
       "      <td>...</td>\n",
       "    </tr>\n",
       "    <tr>\n",
       "      <th>0f0fc271-a3ca-4952-bed7-90ca7656dbb1</th>\n",
       "      <td>3836</td>\n",
       "      <td>[Pressable: after located at Root Location: ho...</td>\n",
       "    </tr>\n",
       "    <tr>\n",
       "      <th>1ba7c155-0521-431d-8f5d-564aa3e8daa6</th>\n",
       "      <td>3852</td>\n",
       "      <td>[Root Location: home, Link: docs located at Ro...</td>\n",
       "    </tr>\n",
       "    <tr>\n",
       "      <th>0d74fe99-d796-423b-bccb-f7c64a155aa6</th>\n",
       "      <td>3720</td>\n",
       "      <td>[Expandable: Reference located at Root Locatio...</td>\n",
       "    </tr>\n",
       "    <tr>\n",
       "      <th>044ec938-81c0-496a-9a11-f35412f81614</th>\n",
       "      <td>3975</td>\n",
       "      <td>[Root Location: home, Link: docs located at Ro...</td>\n",
       "    </tr>\n",
       "    <tr>\n",
       "      <th>110f27ac-183f-44d6-8800-ad8655825699</th>\n",
       "      <td>3957</td>\n",
       "      <td>[Expandable: Reference located at Root Locatio...</td>\n",
       "    </tr>\n",
       "  </tbody>\n",
       "</table>\n",
       "<p>4027 rows × 2 columns</p>\n",
       "</div>"
      ],
      "text/plain": [
       "                                      session_id  \\\n",
       "event_id                                           \n",
       "6307e080-d6a4-4e7d-b47f-a029b90cf6e1          97   \n",
       "03bfb487-a6ae-4175-bf3a-db127a75a85f        1651   \n",
       "21629b85-c17a-458b-a5ab-ff4c074a963c        2872   \n",
       "0f3b8b89-e4ff-4256-9beb-c3f252216699        2116   \n",
       "02ad3934-665c-47e9-8d76-c2a7a79f2c60        3600   \n",
       "...                                          ...   \n",
       "0f0fc271-a3ca-4952-bed7-90ca7656dbb1        3836   \n",
       "1ba7c155-0521-431d-8f5d-564aa3e8daa6        3852   \n",
       "0d74fe99-d796-423b-bccb-f7c64a155aa6        3720   \n",
       "044ec938-81c0-496a-9a11-f35412f81614        3975   \n",
       "110f27ac-183f-44d6-8800-ad8655825699        3957   \n",
       "\n",
       "                                                                                  steps  \n",
       "event_id                                                                                 \n",
       "6307e080-d6a4-4e7d-b47f-a029b90cf6e1  [Root Location: blog, Media Player: objectiv-i...  \n",
       "03bfb487-a6ae-4175-bf3a-db127a75a85f  [Root Location: home, Media Player: 2-minute-v...  \n",
       "21629b85-c17a-458b-a5ab-ff4c074a963c  [Root Location: home, Media Player: 2-minute-v...  \n",
       "0f3b8b89-e4ff-4256-9beb-c3f252216699  [Content: post-meet-objectiv-open-source-produ...  \n",
       "02ad3934-665c-47e9-8d76-c2a7a79f2c60  [Pressable: hamburger located at Root Location...  \n",
       "...                                                                                 ...  \n",
       "0f0fc271-a3ca-4952-bed7-90ca7656dbb1  [Pressable: after located at Root Location: ho...  \n",
       "1ba7c155-0521-431d-8f5d-564aa3e8daa6  [Root Location: home, Link: docs located at Ro...  \n",
       "0d74fe99-d796-423b-bccb-f7c64a155aa6  [Expandable: Reference located at Root Locatio...  \n",
       "044ec938-81c0-496a-9a11-f35412f81614  [Root Location: home, Link: docs located at Ro...  \n",
       "110f27ac-183f-44d6-8800-ad8655825699  [Expandable: Reference located at Root Locatio...  \n",
       "\n",
       "[4027 rows x 2 columns]"
      ]
     },
     "execution_count": 4,
     "metadata": {},
     "output_type": "execute_result"
    }
   ],
   "source": [
    "# construct steps column which is a list of strings \n",
    "df_steps = df.groupby('session_id')['feature_nice_name'].to_json_array().reset_index()\n",
    "df_steps = df_steps.rename(columns={'feature_nice_name': 'steps'})\n",
    "df_steps = df.merge(df_steps, on='session_id')[['session_id', 'steps']].drop_duplicates()\n",
    "df_steps.to_pandas()"
   ]
  },
  {
   "cell_type": "code",
   "execution_count": null,
   "id": "b4496aeb",
   "metadata": {
    "pycharm": {
     "name": "#%%\n"
    }
   },
   "outputs": [],
   "source": []
  },
  {
   "cell_type": "markdown",
   "id": "c0d1d235",
   "metadata": {
    "pycharm": {
     "name": "#%% md\n"
    }
   },
   "source": [
    "## My custom lambda func"
   ]
  },
  {
   "cell_type": "code",
   "execution_count": 5,
   "id": "e59a4154",
   "metadata": {
    "pycharm": {
     "name": "#%%\n"
    }
   },
   "outputs": [
    {
     "data": {
      "text/plain": [
       "[['a', 'b', 'c'], ['b', 'c', 'd'], ['c', 'd', 'e'], ['d', 'e', 'f']]"
      ]
     },
     "execution_count": 5,
     "metadata": {},
     "output_type": "execute_result"
    }
   ],
   "source": [
    "func_ngram = lambda data, n: [data[i: i + n] for i in range(len(data) - n + 1)]\n",
    "\n",
    "func_ngram(['a', 'b', 'c', 'd', 'e', 'f'], 3)"
   ]
  },
  {
   "cell_type": "code",
   "execution_count": 6,
   "id": "4b36a6e1",
   "metadata": {
    "pycharm": {
     "name": "#%%\n"
    }
   },
   "outputs": [
    {
     "data": {
      "text/plain": [
       "[[], [], [], [], [], [], []]"
      ]
     },
     "execution_count": 6,
     "metadata": {},
     "output_type": "execute_result"
    }
   ],
   "source": [
    "x = ['a', 'b', 'c', 'd', 'e', 'f']\n",
    "func_ngram(['a', 'b', 'c', 'd', 'e', 'f'], 0)"
   ]
  },
  {
   "cell_type": "code",
   "execution_count": 7,
   "id": "798fa490",
   "metadata": {
    "pycharm": {
     "name": "#%%\n"
    }
   },
   "outputs": [
    {
     "data": {
      "text/plain": [
       "[]"
      ]
     },
     "execution_count": 7,
     "metadata": {},
     "output_type": "execute_result"
    }
   ],
   "source": [
    "x[6:]"
   ]
  },
  {
   "cell_type": "markdown",
   "id": "0c76794d",
   "metadata": {
    "pycharm": {
     "name": "#%% md\n"
    }
   },
   "source": [
    "### For each row of `df_steps.steps` want to apply `func_ngram` func"
   ]
  },
  {
   "cell_type": "code",
   "execution_count": 8,
   "id": "50f8e42b",
   "metadata": {
    "pycharm": {
     "name": "#%%\n"
    }
   },
   "outputs": [],
   "source": [
    "df_steps_pandas = df_steps.to_pandas()\n",
    "n_gram = 3 # this value will provide the user\n",
    "\n",
    "df_steps_pandas['desired_col'] = df_steps_pandas['steps'].apply(lambda x: func_ngram(x, n_gram))"
   ]
  },
  {
   "cell_type": "code",
   "execution_count": 9,
   "id": "cc5ba5c7",
   "metadata": {
    "pycharm": {
     "name": "#%%\n"
    }
   },
   "outputs": [
    {
     "data": {
      "text/plain": [
       "['Root Location: blog',\n",
       " 'Media Player: objectiv-in-2-minutes located at Root Location: blog => Content: post-meet-objectiv-open-source-product-analytics-designed-for-data-sc']"
      ]
     },
     "execution_count": 9,
     "metadata": {},
     "output_type": "execute_result"
    }
   ],
   "source": [
    "df_steps_pandas['steps'].iloc[0]"
   ]
  },
  {
   "cell_type": "code",
   "execution_count": 10,
   "id": "e7d1d268",
   "metadata": {
    "pycharm": {
     "name": "#%%\n"
    }
   },
   "outputs": [
    {
     "data": {
      "text/plain": [
       "[]"
      ]
     },
     "execution_count": 10,
     "metadata": {},
     "output_type": "execute_result"
    }
   ],
   "source": [
    "df_steps_pandas['desired_col'].iloc[0]"
   ]
  },
  {
   "cell_type": "code",
   "execution_count": 11,
   "id": "01e2a68d",
   "metadata": {
    "pycharm": {
     "name": "#%%\n"
    }
   },
   "outputs": [
    {
     "data": {
      "text/plain": [
       "event_id\n",
       "6307e080-d6a4-4e7d-b47f-a029b90cf6e1                                                   []\n",
       "03bfb487-a6ae-4175-bf3a-db127a75a85f    [[Root Location: home, Media Player: 2-minute-...\n",
       "21629b85-c17a-458b-a5ab-ff4c074a963c    [[Root Location: home, Media Player: 2-minute-...\n",
       "0f3b8b89-e4ff-4256-9beb-c3f252216699    [[Content: post-meet-objectiv-open-source-prod...\n",
       "02ad3934-665c-47e9-8d76-c2a7a79f2c60    [[Pressable: hamburger located at Root Locatio...\n",
       "                                                              ...                        \n",
       "0f0fc271-a3ca-4952-bed7-90ca7656dbb1    [[Pressable: after located at Root Location: h...\n",
       "1ba7c155-0521-431d-8f5d-564aa3e8daa6    [[Root Location: home, Link: docs located at R...\n",
       "0d74fe99-d796-423b-bccb-f7c64a155aa6    [[Expandable: Reference located at Root Locati...\n",
       "044ec938-81c0-496a-9a11-f35412f81614    [[Root Location: home, Link: docs located at R...\n",
       "110f27ac-183f-44d6-8800-ad8655825699    [[Expandable: Reference located at Root Locati...\n",
       "Name: steps, Length: 4027, dtype: object"
      ]
     },
     "execution_count": 11,
     "metadata": {},
     "output_type": "execute_result"
    }
   ],
   "source": [
    "df_steps_pandas['steps'].apply(lambda x: func_ngram(x, n_gram))"
   ]
  },
  {
   "cell_type": "code",
   "execution_count": 22,
   "id": "796b28b5",
   "metadata": {
    "pycharm": {
     "name": "#%%\n"
    }
   },
   "outputs": [],
   "source": [
    "import bach\n",
    "from sql_models.util import is_postgres, is_bigquery, DatabaseNotSupportedException\n",
    "from abc import abstractmethod\n",
    "\n",
    "\n",
    "class ListShifterOperation:\n",
    "    ARRAY_TO_STR_STMT = \"'[' || ARRAY_TO_STRING(ARRAY({}), ', ') || ']'\"\n",
    "\n",
    "    FIRST_ELEMENT_SUBLIST_OFFSET = '__first_sublist_offset'\n",
    "    GENERATED_OFFSET_SUBLIST = '__sublist_item_offset'\n",
    "\n",
    "    def __init__(self, list_series: bach.SeriesJson, shifting_n: int) -> None:\n",
    "        self._list_series = list_series\n",
    "        self._shifting_n = shifting_n\n",
    "\n",
    "    @abstractmethod\n",
    "    def r_shift(self) -> bach.SeriesJson:\n",
    "        \"\"\"\n",
    "        Steps for generating shifted sublists:\n",
    "            1. Cast list_series expression to array (JSON_QUERY_ARRAY)\n",
    "            2. Generate index of items per sublist\n",
    "            3. Iterate over generated indexes and extract items from original array\n",
    "            4. Generate expression for unnesting original array and creating array\n",
    "                with final sub-lists\n",
    "        \"\"\"\n",
    "        raise NotImplementedError()\n",
    "\n",
    "\n",
    "class PostgresListShifterOperation(ListShifterOperation):\n",
    "\n",
    "    def r_shift(self) -> bach.SeriesJson:\n",
    "        # item indexes are ordinal for PG, therefore we need to subtract 1\n",
    "        start_gen_series = f'{self.FIRST_ELEMENT_SUBLIST_OFFSET} - 1'\n",
    "        stop_gen_series = f'{start_gen_series} + {self._shifting_n - 1}'\n",
    "\n",
    "        # generates a series with the indexes to extract and creates sublist\n",
    "        # containing items based on generated indexes.\n",
    "        sub_list_gen_fmt = (\n",
    "            f\"\"\"\n",
    "            SELECT {{}} -> cast({self.GENERATED_OFFSET_SUBLIST} as int)\n",
    "            FROM GENERATE_SERIES({start_gen_series}, {stop_gen_series}) \n",
    "            as {self.GENERATED_OFFSET_SUBLIST}\n",
    "            \"\"\"\n",
    "        )\n",
    "        sub_list_gen_expr = bach.expression.Expression.construct(sub_list_gen_fmt, self._list_series)\n",
    "\n",
    "        # unnest list series and selects the result of the generated sublists\n",
    "        # validates that index of sublist first element does not exceed shifting length\n",
    "        unnest_main_list_fmt = (\n",
    "            f'SELECT {self.ARRAY_TO_STR_STMT} FROM jsonb_array_elements({{}}) '\n",
    "            f'WITH ORDINALITY rshift(elem, {self.FIRST_ELEMENT_SUBLIST_OFFSET}) '\n",
    "            f'WHERE {start_gen_series} <= {{}} - {self._shifting_n}'\n",
    "        )\n",
    "        agg_sublists_expr = bach.expression.Expression.construct(\n",
    "            unnest_main_list_fmt,\n",
    "            sub_list_gen_expr,\n",
    "            self._list_series,\n",
    "            self._list_series.json.get_array_length(),\n",
    "        )\n",
    "\n",
    "        # format the final agg list from array to string\n",
    "        return self._list_series.copy_override(\n",
    "            expression=bach.expression.Expression.construct(\n",
    "                self.ARRAY_TO_STR_STMT,\n",
    "                agg_sublists_expr,\n",
    "            )\n",
    "        )\n",
    "    \n",
    "    def count_sublist_occurrence(self, shift_type='right') -> bach.SeriesInt64:\n",
    "        if shift_type != 'right':\n",
    "            raise Exception(f'{shift_type} is not implemented. \"right\" shift is supported only.')\n",
    "        \n",
    "        shifted_list = self.r_shift()\n",
    "        shifted_list = shifted_list.materialize(node_name='shifted_list')\n",
    "        \n",
    "        unnested_sublist_series = shifted_list.copy_override(\n",
    "            expression=bach.expression.Expression.construct(\n",
    "                'unnest(array(select sublist :: text from jsonb_array_elements({}::jsonb) as sublist))',\n",
    "                shifted_list\n",
    "            ),\n",
    "        )\n",
    "        df = unnested_sublist_series.to_frame()\n",
    "        df['count'] = 1\n",
    "        return df.groupby(self._list_series.name)['count'].count()\n",
    "\n",
    "\n",
    "class BigQueryListShifterOperation(ListShifterOperation):\n",
    "\n",
    "    def r_shift(self) -> bach.SeriesJson:\n",
    "        start_gen_series = f'{self.FIRST_ELEMENT_SUBLIST_OFFSET}'\n",
    "        stop_gen_series = f'{start_gen_series} + {self._shifting_n - 1}'\n",
    "\n",
    "        # generates a series with the indexes to extract and creates sublist\n",
    "        # containing items based on generated indexes.\n",
    "        sub_list_gen_fmt = (\n",
    "            f\"\"\"\n",
    "            SELECT JSON_QUERY_ARRAY({{}})[OFFSET({self.GENERATED_OFFSET_SUBLIST})]\n",
    "            FROM UNNEST(GENERATE_ARRAY({start_gen_series}, {stop_gen_series})) \n",
    "            as {self.GENERATED_OFFSET_SUBLIST}\n",
    "            \"\"\"\n",
    "        )\n",
    "        sub_list_gen_expr = bach.expression.Expression.construct(sub_list_gen_fmt, self._list_series)\n",
    "\n",
    "        # unnest list series and selects the result of the generated sublists\n",
    "        # validates that index of sublist first element does not exceed shifting length\n",
    "        unnest_main_list_fmt = (\n",
    "            f'SELECT {self.ARRAY_TO_STR_STMT} FROM UNNEST(JSON_QUERY_ARRAY({{}})) '\n",
    "            f'WITH OFFSET AS {self.FIRST_ELEMENT_SUBLIST_OFFSET} '\n",
    "            f'WHERE {start_gen_series} <= {{}} - {self._shifting_n}'\n",
    "        )\n",
    "        agg_sublists_expr = bach.expression.Expression.construct(\n",
    "            unnest_main_list_fmt,\n",
    "            sub_list_gen_expr,\n",
    "            self._list_series,\n",
    "            self._list_series.json.get_array_length(),\n",
    "        )\n",
    "\n",
    "        # format the final agg list from array to string\n",
    "        return self._list_series.copy_override(\n",
    "            expression=bach.expression.Expression.construct(\n",
    "                self.ARRAY_TO_STR_STMT,\n",
    "                agg_sublists_expr,\n",
    "            )\n",
    "        )\n",
    "    \n",
    "    def count_sublist_occurrence(self, shift_type='right') -> bach.SeriesInt64:\n",
    "        if shift_type != 'right':\n",
    "            raise Exception(f'{shift_type} is not implemented. \"right\" shift is supported only.')\n",
    "        \n",
    "        shifted_list = self.r_shift()\n",
    "        # convert to array, this way we can just convert array items as rows\n",
    "        # by doing FROM {base_node}, {base_node.shifted_list}\n",
    "        shifted_list = shifted_list.copy_override(\n",
    "            expression=bach.expression.Expression.construct('JSON_QUERY_ARRAY({})', shifted_list)\n",
    "        )\n",
    "        shifted_list = shifted_list.materialize(node_name='shifted_list')\n",
    "\n",
    "        from sql_models.model import CustomSqlModelBuilder\n",
    "        from sql_models.util import quote_identifier\n",
    "\n",
    "        sublist_identifier = quote_identifier(shifted_list.engine.dialect, name='sublist')\n",
    "        shifted_list_identifier = quote_identifier(shifted_list.engine.dialect, name=shifted_list.name)\n",
    "        column_stmt = (\n",
    "            f\"{sublist_identifier} as {shifted_list_identifier}, \"\n",
    "            f\"count(1) as {quote_identifier(shifted_list.engine.dialect, 'count')}\"\n",
    "        )\n",
    "\n",
    "        from sql_models.model import CustomSqlModelBuilder\n",
    "        sql = (\n",
    "            f\"SELECT {column_stmt} FROM \"\n",
    "            f\"{{{{current_node}}}}, {{{{current_node}}}}.{shifted_list_identifier} AS {sublist_identifier} \"\n",
    "            f\" GROUP BY {sublist_identifier}\"\n",
    "        )\n",
    "        model_builder = CustomSqlModelBuilder(sql=sql, name='sublist_counter')\n",
    "        sql_model = model_builder(current_node=shifted_list.base_node)\n",
    "\n",
    "        df = bach.DataFrame.from_model(\n",
    "            engine=shifted_list.engine,\n",
    "            model=sql_model,\n",
    "            index=[shifted_list.name],\n",
    "            all_dtypes={shifted_list.name: bach.SeriesJson.dtype, 'count': bach.SeriesInt64.dtype}\n",
    "        )\n",
    "        return df['count']\n",
    "\n"
   ]
  },
  {
   "cell_type": "code",
   "execution_count": 23,
   "id": "b31b4d4c",
   "metadata": {
    "pycharm": {
     "name": "#%%\n"
    }
   },
   "outputs": [],
   "source": [
    "def bach_func_gram(list_series: bach.SeriesJson, n: int) -> bach.SeriesJson:\n",
    "    engine = list_series.engine\n",
    "    if is_postgres(engine):\n",
    "        return PostgresListShifterOperation(list_series=list_series, shifting_n=n).r_shift()\n",
    "    \n",
    "    if is_bigquery(engine):\n",
    "        return BigQueryListShifterOperation(list_series=list_series, shifting_n=n).r_shift()\n",
    "    \n",
    "    raise DatabaseNotSupportedException(engine)\n"
   ]
  },
  {
   "cell_type": "code",
   "execution_count": 24,
   "id": "28142c69",
   "metadata": {
    "pycharm": {
     "name": "#%%\n"
    }
   },
   "outputs": [],
   "source": [
    "import os\n",
    "from sqlalchemy import create_engine\n",
    "pg_engine = create_engine(\"postgresql://objectiv:@localhost:5432/objectiv\")\n",
    "bq_engine = create_engine(\n",
    "    \"bigquery://objectiv-production/snowplow\",\n",
    "    credentials_path=f\"{os.getcwd().replace('notebooks', 'modelhub')}/.secrets/objectiv-production--bigquery-read-only.json\",\n",
    ")"
   ]
  },
  {
   "cell_type": "code",
   "execution_count": 25,
   "id": "64321035",
   "metadata": {
    "pycharm": {
     "name": "#%%\n"
    }
   },
   "outputs": [],
   "source": [
    "import pandas as pd\n",
    "import json\n",
    "\n",
    "samples = [\n",
    "    ['a', 'b', 'c', 'd', 'e', 'f'],\n",
    "    [ 1 ,  2 ,  3 ,  4 ,  5 ,  6 , 7, 8, 9],\n",
    "    [],\n",
    "    ['a'],\n",
    "]\n"
   ]
  },
  {
   "cell_type": "code",
   "execution_count": 26,
   "id": "69181bfd",
   "metadata": {
    "pycharm": {
     "name": "#%%\n"
    }
   },
   "outputs": [],
   "source": [
    "sample_pdf = pd.DataFrame({'list_col': samples})\n",
    "sample_pdf['list_col'] = sample_pdf['list_col'].apply(json.dumps)\n",
    "sample_pdf\n",
    "\n",
    "pg_sample_df = bach.DataFrame.from_pandas(engine=pg_engine, df=sample_pdf, convert_objects=True)\n",
    "bq_sample_df = bach.DataFrame.from_pandas(engine=bq_engine, df=sample_pdf, convert_objects=True)\n",
    "\n",
    "pg_sample_df['list_col'] = pg_sample_df['list_col'].astype('json')\n",
    "bq_sample_df['list_col'] = bq_sample_df['list_col'].astype('json')"
   ]
  },
  {
   "cell_type": "code",
   "execution_count": 27,
   "id": "6efc11fb",
   "metadata": {
    "pycharm": {
     "name": "#%%\n"
    }
   },
   "outputs": [],
   "source": [
    "expected = {}\n",
    "\n",
    "for n in range(0, 10):\n",
    "    for idx, s in enumerate(samples):\n",
    "        expected[f'{idx}_n_{n}'] = func_ngram(s, n)\n",
    "    pg_sample_df[f'func_ngram_{n}'] = bach_func_gram(pg_sample_df['list_col'], n=n)\n",
    "    bq_sample_df[f'func_ngram_{n}'] = bach_func_gram(bq_sample_df['list_col'], n=n)\n",
    "\n",
    "    "
   ]
  },
  {
   "cell_type": "code",
   "execution_count": 31,
   "id": "c38eb6d3",
   "metadata": {},
   "outputs": [
    {
     "data": {
      "text/html": [
       "<div>\n",
       "<style scoped>\n",
       "    .dataframe tbody tr th:only-of-type {\n",
       "        vertical-align: middle;\n",
       "    }\n",
       "\n",
       "    .dataframe tbody tr th {\n",
       "        vertical-align: top;\n",
       "    }\n",
       "\n",
       "    .dataframe thead th {\n",
       "        text-align: right;\n",
       "    }\n",
       "</style>\n",
       "<table border=\"1\" class=\"dataframe\">\n",
       "  <thead>\n",
       "    <tr style=\"text-align: right;\">\n",
       "      <th></th>\n",
       "      <th>list_col</th>\n",
       "      <th>func_ngram_0</th>\n",
       "      <th>func_ngram_1</th>\n",
       "      <th>func_ngram_2</th>\n",
       "      <th>func_ngram_3</th>\n",
       "      <th>func_ngram_4</th>\n",
       "      <th>func_ngram_5</th>\n",
       "      <th>func_ngram_6</th>\n",
       "      <th>func_ngram_7</th>\n",
       "      <th>func_ngram_8</th>\n",
       "      <th>func_ngram_9</th>\n",
       "    </tr>\n",
       "    <tr>\n",
       "      <th>_index_0</th>\n",
       "      <th></th>\n",
       "      <th></th>\n",
       "      <th></th>\n",
       "      <th></th>\n",
       "      <th></th>\n",
       "      <th></th>\n",
       "      <th></th>\n",
       "      <th></th>\n",
       "      <th></th>\n",
       "      <th></th>\n",
       "      <th></th>\n",
       "    </tr>\n",
       "  </thead>\n",
       "  <tbody>\n",
       "    <tr>\n",
       "      <th>0</th>\n",
       "      <td>[a, b, c, d, e, f]</td>\n",
       "      <td>[[], [], [], [], [], []]</td>\n",
       "      <td>[[\"a\"], [\"b\"], [\"c\"], [\"d\"], [\"e\"], [\"f\"]]</td>\n",
       "      <td>[[\"a\", \"b\"], [\"b\", \"c\"], [\"c\", \"d\"], [\"d\", \"e\"...</td>\n",
       "      <td>[[\"a\", \"b\", \"c\"], [\"b\", \"c\", \"d\"], [\"c\", \"d\", ...</td>\n",
       "      <td>[[\"a\", \"b\", \"c\", \"d\"], [\"b\", \"c\", \"d\", \"e\"], [...</td>\n",
       "      <td>[[\"a\", \"b\", \"c\", \"d\", \"e\"], [\"b\", \"c\", \"d\", \"e...</td>\n",
       "      <td>[[\"a\", \"b\", \"c\", \"d\", \"e\", \"f\"]]</td>\n",
       "      <td>[]</td>\n",
       "      <td>[]</td>\n",
       "      <td>[]</td>\n",
       "    </tr>\n",
       "    <tr>\n",
       "      <th>1</th>\n",
       "      <td>[1, 2, 3, 4, 5, 6, 7, 8, 9]</td>\n",
       "      <td>[[], [], [], [], [], [], [], [], []]</td>\n",
       "      <td>[[1], [2], [3], [4], [5], [6], [7], [8], [9]]</td>\n",
       "      <td>[[1, 2], [2, 3], [3, 4], [4, 5], [5, 6], [6, 7...</td>\n",
       "      <td>[[1, 2, 3], [2, 3, 4], [3, 4, 5], [4, 5, 6], [...</td>\n",
       "      <td>[[1, 2, 3, 4], [2, 3, 4, 5], [3, 4, 5, 6], [4,...</td>\n",
       "      <td>[[1, 2, 3, 4, 5], [2, 3, 4, 5, 6], [3, 4, 5, 6...</td>\n",
       "      <td>[[1, 2, 3, 4, 5, 6], [2, 3, 4, 5, 6, 7], [3, 4...</td>\n",
       "      <td>[[1, 2, 3, 4, 5, 6, 7], [2, 3, 4, 5, 6, 7, 8],...</td>\n",
       "      <td>[[1, 2, 3, 4, 5, 6, 7, 8], [2, 3, 4, 5, 6, 7, ...</td>\n",
       "      <td>[[1, 2, 3, 4, 5, 6, 7, 8, 9]]</td>\n",
       "    </tr>\n",
       "    <tr>\n",
       "      <th>2</th>\n",
       "      <td>[]</td>\n",
       "      <td>[]</td>\n",
       "      <td>[]</td>\n",
       "      <td>[]</td>\n",
       "      <td>[]</td>\n",
       "      <td>[]</td>\n",
       "      <td>[]</td>\n",
       "      <td>[]</td>\n",
       "      <td>[]</td>\n",
       "      <td>[]</td>\n",
       "      <td>[]</td>\n",
       "    </tr>\n",
       "    <tr>\n",
       "      <th>3</th>\n",
       "      <td>[a]</td>\n",
       "      <td>[[]]</td>\n",
       "      <td>[[\"a\"]]</td>\n",
       "      <td>[]</td>\n",
       "      <td>[]</td>\n",
       "      <td>[]</td>\n",
       "      <td>[]</td>\n",
       "      <td>[]</td>\n",
       "      <td>[]</td>\n",
       "      <td>[]</td>\n",
       "      <td>[]</td>\n",
       "    </tr>\n",
       "  </tbody>\n",
       "</table>\n",
       "</div>"
      ],
      "text/plain": [
       "                             list_col                          func_ngram_0  \\\n",
       "_index_0                                                                      \n",
       "0                  [a, b, c, d, e, f]              [[], [], [], [], [], []]   \n",
       "1         [1, 2, 3, 4, 5, 6, 7, 8, 9]  [[], [], [], [], [], [], [], [], []]   \n",
       "2                                  []                                    []   \n",
       "3                                 [a]                                  [[]]   \n",
       "\n",
       "                                           func_ngram_1  \\\n",
       "_index_0                                                  \n",
       "0            [[\"a\"], [\"b\"], [\"c\"], [\"d\"], [\"e\"], [\"f\"]]   \n",
       "1         [[1], [2], [3], [4], [5], [6], [7], [8], [9]]   \n",
       "2                                                    []   \n",
       "3                                               [[\"a\"]]   \n",
       "\n",
       "                                               func_ngram_2  \\\n",
       "_index_0                                                      \n",
       "0         [[\"a\", \"b\"], [\"b\", \"c\"], [\"c\", \"d\"], [\"d\", \"e\"...   \n",
       "1         [[1, 2], [2, 3], [3, 4], [4, 5], [5, 6], [6, 7...   \n",
       "2                                                        []   \n",
       "3                                                        []   \n",
       "\n",
       "                                               func_ngram_3  \\\n",
       "_index_0                                                      \n",
       "0         [[\"a\", \"b\", \"c\"], [\"b\", \"c\", \"d\"], [\"c\", \"d\", ...   \n",
       "1         [[1, 2, 3], [2, 3, 4], [3, 4, 5], [4, 5, 6], [...   \n",
       "2                                                        []   \n",
       "3                                                        []   \n",
       "\n",
       "                                               func_ngram_4  \\\n",
       "_index_0                                                      \n",
       "0         [[\"a\", \"b\", \"c\", \"d\"], [\"b\", \"c\", \"d\", \"e\"], [...   \n",
       "1         [[1, 2, 3, 4], [2, 3, 4, 5], [3, 4, 5, 6], [4,...   \n",
       "2                                                        []   \n",
       "3                                                        []   \n",
       "\n",
       "                                               func_ngram_5  \\\n",
       "_index_0                                                      \n",
       "0         [[\"a\", \"b\", \"c\", \"d\", \"e\"], [\"b\", \"c\", \"d\", \"e...   \n",
       "1         [[1, 2, 3, 4, 5], [2, 3, 4, 5, 6], [3, 4, 5, 6...   \n",
       "2                                                        []   \n",
       "3                                                        []   \n",
       "\n",
       "                                               func_ngram_6  \\\n",
       "_index_0                                                      \n",
       "0                          [[\"a\", \"b\", \"c\", \"d\", \"e\", \"f\"]]   \n",
       "1         [[1, 2, 3, 4, 5, 6], [2, 3, 4, 5, 6, 7], [3, 4...   \n",
       "2                                                        []   \n",
       "3                                                        []   \n",
       "\n",
       "                                               func_ngram_7  \\\n",
       "_index_0                                                      \n",
       "0                                                        []   \n",
       "1         [[1, 2, 3, 4, 5, 6, 7], [2, 3, 4, 5, 6, 7, 8],...   \n",
       "2                                                        []   \n",
       "3                                                        []   \n",
       "\n",
       "                                               func_ngram_8  \\\n",
       "_index_0                                                      \n",
       "0                                                        []   \n",
       "1         [[1, 2, 3, 4, 5, 6, 7, 8], [2, 3, 4, 5, 6, 7, ...   \n",
       "2                                                        []   \n",
       "3                                                        []   \n",
       "\n",
       "                           func_ngram_9  \n",
       "_index_0                                 \n",
       "0                                    []  \n",
       "1         [[1, 2, 3, 4, 5, 6, 7, 8, 9]]  \n",
       "2                                    []  \n",
       "3                                    []  "
      ]
     },
     "execution_count": 31,
     "metadata": {},
     "output_type": "execute_result"
    }
   ],
   "source": [
    "pg_sample_df.to_pandas()"
   ]
  },
  {
   "cell_type": "code",
   "execution_count": 28,
   "id": "839b00fb",
   "metadata": {
    "pycharm": {
     "name": "#%%\n"
    }
   },
   "outputs": [
    {
     "data": {
      "text/plain": [
       "list_col\n",
       "[1, 2, 3]          1\n",
       "[2, 3, 4]          1\n",
       "[3, 4, 5]          1\n",
       "[4, 5, 6]          1\n",
       "[5, 6, 7]          1\n",
       "[6, 7, 8]          1\n",
       "[7, 8, 9]          1\n",
       "[\"a\", \"b\", \"c\"]    1\n",
       "[\"b\", \"c\", \"d\"]    1\n",
       "[\"c\", \"d\", \"e\"]    1\n",
       "[\"d\", \"e\", \"f\"]    1\n",
       "Name: count, dtype: int64"
      ]
     },
     "execution_count": 28,
     "metadata": {},
     "output_type": "execute_result"
    }
   ],
   "source": [
    "PostgresListShifterOperation(list_series=pg_sample_df['list_col'], shifting_n=3).count_sublist_occurrence().to_pandas()"
   ]
  },
  {
   "cell_type": "code",
   "execution_count": 32,
   "id": "b7afb75c",
   "metadata": {},
   "outputs": [
    {
     "data": {
      "text/html": [
       "<div>\n",
       "<style scoped>\n",
       "    .dataframe tbody tr th:only-of-type {\n",
       "        vertical-align: middle;\n",
       "    }\n",
       "\n",
       "    .dataframe tbody tr th {\n",
       "        vertical-align: top;\n",
       "    }\n",
       "\n",
       "    .dataframe thead th {\n",
       "        text-align: right;\n",
       "    }\n",
       "</style>\n",
       "<table border=\"1\" class=\"dataframe\">\n",
       "  <thead>\n",
       "    <tr style=\"text-align: right;\">\n",
       "      <th></th>\n",
       "      <th>list_col</th>\n",
       "      <th>func_ngram_0</th>\n",
       "      <th>func_ngram_1</th>\n",
       "      <th>func_ngram_2</th>\n",
       "      <th>func_ngram_3</th>\n",
       "      <th>func_ngram_4</th>\n",
       "      <th>func_ngram_5</th>\n",
       "      <th>func_ngram_6</th>\n",
       "      <th>func_ngram_7</th>\n",
       "      <th>func_ngram_8</th>\n",
       "      <th>func_ngram_9</th>\n",
       "    </tr>\n",
       "    <tr>\n",
       "      <th>_index_0</th>\n",
       "      <th></th>\n",
       "      <th></th>\n",
       "      <th></th>\n",
       "      <th></th>\n",
       "      <th></th>\n",
       "      <th></th>\n",
       "      <th></th>\n",
       "      <th></th>\n",
       "      <th></th>\n",
       "      <th></th>\n",
       "      <th></th>\n",
       "    </tr>\n",
       "  </thead>\n",
       "  <tbody>\n",
       "    <tr>\n",
       "      <th>0</th>\n",
       "      <td>[a, b, c, d, e, f]</td>\n",
       "      <td>[[], [], [], [], [], []]</td>\n",
       "      <td>[[a], [b], [c], [d], [e], [f]]</td>\n",
       "      <td>[[a, b], [b, c], [c, d], [d, e], [e, f]]</td>\n",
       "      <td>[[a, b, c], [b, c, d], [c, d, e], [d, e, f]]</td>\n",
       "      <td>[[a, b, c, d], [b, c, d, e], [c, d, e, f]]</td>\n",
       "      <td>[[a, b, c, d, e], [b, c, d, e, f]]</td>\n",
       "      <td>[[a, b, c, d, e, f]]</td>\n",
       "      <td>[]</td>\n",
       "      <td>[]</td>\n",
       "      <td>[]</td>\n",
       "    </tr>\n",
       "    <tr>\n",
       "      <th>1</th>\n",
       "      <td>[1, 2, 3, 4, 5, 6, 7, 8, 9]</td>\n",
       "      <td>[[], [], [], [], [], [], [], [], []]</td>\n",
       "      <td>[[1], [2], [3], [4], [5], [6], [7], [8], [9]]</td>\n",
       "      <td>[[1, 2], [2, 3], [3, 4], [4, 5], [5, 6], [6, 7...</td>\n",
       "      <td>[[1, 2, 3], [2, 3, 4], [3, 4, 5], [4, 5, 6], [...</td>\n",
       "      <td>[[1, 2, 3, 4], [2, 3, 4, 5], [3, 4, 5, 6], [4,...</td>\n",
       "      <td>[[1, 2, 3, 4, 5], [2, 3, 4, 5, 6], [3, 4, 5, 6...</td>\n",
       "      <td>[[1, 2, 3, 4, 5, 6], [2, 3, 4, 5, 6, 7], [3, 4...</td>\n",
       "      <td>[[1, 2, 3, 4, 5, 6, 7], [2, 3, 4, 5, 6, 7, 8],...</td>\n",
       "      <td>[[1, 2, 3, 4, 5, 6, 7, 8], [2, 3, 4, 5, 6, 7, ...</td>\n",
       "      <td>[[1, 2, 3, 4, 5, 6, 7, 8, 9]]</td>\n",
       "    </tr>\n",
       "    <tr>\n",
       "      <th>2</th>\n",
       "      <td>[]</td>\n",
       "      <td>[]</td>\n",
       "      <td>[]</td>\n",
       "      <td>[]</td>\n",
       "      <td>[]</td>\n",
       "      <td>[]</td>\n",
       "      <td>[]</td>\n",
       "      <td>[]</td>\n",
       "      <td>[]</td>\n",
       "      <td>[]</td>\n",
       "      <td>[]</td>\n",
       "    </tr>\n",
       "    <tr>\n",
       "      <th>3</th>\n",
       "      <td>[a]</td>\n",
       "      <td>[[]]</td>\n",
       "      <td>[[a]]</td>\n",
       "      <td>[]</td>\n",
       "      <td>[]</td>\n",
       "      <td>[]</td>\n",
       "      <td>[]</td>\n",
       "      <td>[]</td>\n",
       "      <td>[]</td>\n",
       "      <td>[]</td>\n",
       "      <td>[]</td>\n",
       "    </tr>\n",
       "  </tbody>\n",
       "</table>\n",
       "</div>"
      ],
      "text/plain": [
       "                             list_col                          func_ngram_0  \\\n",
       "_index_0                                                                      \n",
       "0                  [a, b, c, d, e, f]              [[], [], [], [], [], []]   \n",
       "1         [1, 2, 3, 4, 5, 6, 7, 8, 9]  [[], [], [], [], [], [], [], [], []]   \n",
       "2                                  []                                    []   \n",
       "3                                 [a]                                  [[]]   \n",
       "\n",
       "                                           func_ngram_1  \\\n",
       "_index_0                                                  \n",
       "0                        [[a], [b], [c], [d], [e], [f]]   \n",
       "1         [[1], [2], [3], [4], [5], [6], [7], [8], [9]]   \n",
       "2                                                    []   \n",
       "3                                                 [[a]]   \n",
       "\n",
       "                                               func_ngram_2  \\\n",
       "_index_0                                                      \n",
       "0                  [[a, b], [b, c], [c, d], [d, e], [e, f]]   \n",
       "1         [[1, 2], [2, 3], [3, 4], [4, 5], [5, 6], [6, 7...   \n",
       "2                                                        []   \n",
       "3                                                        []   \n",
       "\n",
       "                                               func_ngram_3  \\\n",
       "_index_0                                                      \n",
       "0              [[a, b, c], [b, c, d], [c, d, e], [d, e, f]]   \n",
       "1         [[1, 2, 3], [2, 3, 4], [3, 4, 5], [4, 5, 6], [...   \n",
       "2                                                        []   \n",
       "3                                                        []   \n",
       "\n",
       "                                               func_ngram_4  \\\n",
       "_index_0                                                      \n",
       "0                [[a, b, c, d], [b, c, d, e], [c, d, e, f]]   \n",
       "1         [[1, 2, 3, 4], [2, 3, 4, 5], [3, 4, 5, 6], [4,...   \n",
       "2                                                        []   \n",
       "3                                                        []   \n",
       "\n",
       "                                               func_ngram_5  \\\n",
       "_index_0                                                      \n",
       "0                        [[a, b, c, d, e], [b, c, d, e, f]]   \n",
       "1         [[1, 2, 3, 4, 5], [2, 3, 4, 5, 6], [3, 4, 5, 6...   \n",
       "2                                                        []   \n",
       "3                                                        []   \n",
       "\n",
       "                                               func_ngram_6  \\\n",
       "_index_0                                                      \n",
       "0                                      [[a, b, c, d, e, f]]   \n",
       "1         [[1, 2, 3, 4, 5, 6], [2, 3, 4, 5, 6, 7], [3, 4...   \n",
       "2                                                        []   \n",
       "3                                                        []   \n",
       "\n",
       "                                               func_ngram_7  \\\n",
       "_index_0                                                      \n",
       "0                                                        []   \n",
       "1         [[1, 2, 3, 4, 5, 6, 7], [2, 3, 4, 5, 6, 7, 8],...   \n",
       "2                                                        []   \n",
       "3                                                        []   \n",
       "\n",
       "                                               func_ngram_8  \\\n",
       "_index_0                                                      \n",
       "0                                                        []   \n",
       "1         [[1, 2, 3, 4, 5, 6, 7, 8], [2, 3, 4, 5, 6, 7, ...   \n",
       "2                                                        []   \n",
       "3                                                        []   \n",
       "\n",
       "                           func_ngram_9  \n",
       "_index_0                                 \n",
       "0                                    []  \n",
       "1         [[1, 2, 3, 4, 5, 6, 7, 8, 9]]  \n",
       "2                                    []  \n",
       "3                                    []  "
      ]
     },
     "execution_count": 32,
     "metadata": {},
     "output_type": "execute_result"
    }
   ],
   "source": [
    "bq_sample_df.to_pandas()"
   ]
  },
  {
   "cell_type": "code",
   "execution_count": 30,
   "id": "6d9d5300",
   "metadata": {},
   "outputs": [
    {
     "data": {
      "text/plain": [
       "list_col\n",
       "[a, b, c]    1\n",
       "[b, c, d]    1\n",
       "[c, d, e]    1\n",
       "[d, e, f]    1\n",
       "[1, 2, 3]    1\n",
       "[2, 3, 4]    1\n",
       "[3, 4, 5]    1\n",
       "[4, 5, 6]    1\n",
       "[5, 6, 7]    1\n",
       "[6, 7, 8]    1\n",
       "[7, 8, 9]    1\n",
       "Name: count, dtype: int64"
      ]
     },
     "execution_count": 30,
     "metadata": {},
     "output_type": "execute_result"
    }
   ],
   "source": [
    "BigQueryListShifterOperation(list_series=bq_sample_df['list_col'], shifting_n=3).count_sublist_occurrence().to_pandas()"
   ]
  },
  {
   "cell_type": "code",
   "execution_count": null,
   "id": "fa8696de",
   "metadata": {},
   "outputs": [],
   "source": []
  }
 ],
 "metadata": {
  "kernelspec": {
   "display_name": "Python 3 (ipykernel)",
   "language": "python",
   "name": "python3"
  },
  "language_info": {
   "codemirror_mode": {
    "name": "ipython",
    "version": 3
   },
   "file_extension": ".py",
   "mimetype": "text/x-python",
   "name": "python",
   "nbconvert_exporter": "python",
   "pygments_lexer": "ipython3",
   "version": "3.8.10"
  }
 },
 "nbformat": 4,
 "nbformat_minor": 5
}
