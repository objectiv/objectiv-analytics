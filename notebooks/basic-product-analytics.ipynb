{
 "cells": [
  {
   "cell_type": "markdown",
   "id": "afb5dddf",
   "metadata": {},
   "source": [
    "This is one of the Objectiv example notebooks. For more examples visit the \n",
    "[example notebooks](https://objectiv.io/docs/modeling/example-notebooks/) section of our docs. The notebooks can run with the demo data set that comes with the our [quickstart](https://objectiv.io/docs/home/quickstart-guide/), but can be used to run on your own collected data as well.\n",
    "\n",
    "All example notebooks are also available in our [quickstart](https://objectiv.io/docs/home/quickstart-guide/). With the quickstart you can spin up a fully functional Objectiv demo pipeline in five minutes. This also allows you to run these notebooks and experiment with them on a demo data set."
   ]
  },
  {
   "cell_type": "markdown",
   "id": "990f0ae2-48cd-4220-8960-844af284fcce",
   "metadata": {},
   "source": [
    "# Basic product analytics"
   ]
  },
  {
   "cell_type": "markdown",
   "id": "fc19e049-754f-4c0e-8a5a-0ff89bdb7724",
   "metadata": {},
   "source": [
    "In this notebook, we briefly demonstrate how you can easily do basic product analytics on your data."
   ]
  },
  {
   "cell_type": "markdown",
   "id": "277e303e",
   "metadata": {},
   "source": [
    "## Getting started\n",
    "If you are running this example on your own collected data, [see the instructions here](https://objectiv.io/docs/modeling/get-started-in-your-notebook/) on how to setup the database connection and get started in your favorite notebook tool."
   ]
  },
  {
   "cell_type": "markdown",
   "id": "96aeea32",
   "metadata": {},
   "source": [
    "### Import the required packages for this notebook\n",
    "The open model hub package can be installed with `pip install objectiv-modelhub` (this installs Bach as well).  \n",
    "If you are running this notebook from our quickstart, the model hub and Bach are already installed, so you don't have to install it separately."
   ]
  },
  {
   "cell_type": "code",
   "execution_count": null,
   "id": "4bd369f6",
   "metadata": {},
   "outputs": [],
   "source": [
    "from datetime import datetime\n",
    "from modelhub import ModelHub\n",
    "from bach import display_sql_as_markdown"
   ]
  },
  {
   "cell_type": "markdown",
   "id": "765624df",
   "metadata": {},
   "source": [
    "At first we have to instantiate the Objectiv DataFrame object and the model hub."
   ]
  },
  {
   "cell_type": "code",
   "execution_count": null,
   "id": "3756a344-8072-4d6d-9c86-ea6bb8428ff8",
   "metadata": {},
   "outputs": [],
   "source": [
    "# instantiate the model hub and set the default time aggregation to daily\n",
    "modelhub = ModelHub(time_aggregation='%Y-%m-%d')"
   ]
  },
  {
   "cell_type": "code",
   "execution_count": null,
   "id": "da4ec1a0",
   "metadata": {},
   "outputs": [],
   "source": [
    "# get the Bach DataFrame with Objectiv data\n",
    "df = modelhub.get_objectiv_dataframe(start_date='2022-02-01', end_date='2022-05-01')"
   ]
  },
  {
   "cell_type": "markdown",
   "id": "a1b3f9b1",
   "metadata": {},
   "source": [
    "The columns 'global_contexts' and the 'location_stack' contain most of the event specific data. These columns\n",
    "are json type columns and we can extract data from it based on the keys of the json objects using `SeriesGlobalContexts` or `SeriesLocationStack` methods to extract the data."
   ]
  },
  {
   "cell_type": "code",
   "execution_count": null,
   "id": "4e130b67",
   "metadata": {},
   "outputs": [],
   "source": [
    "# add 'application', 'feature_nice_name' and 'root_location' as columns, so that we can use it for grouping etc later\n",
    "df['application'] = df.global_contexts.gc.application\n",
    "df['feature_nice_name'] = df.location_stack.ls.nice_name\n",
    "df['root_location'] = df.location_stack.ls.get_from_context_with_type_series(type='RootLocationContext', key='id')"
   ]
  },
  {
   "cell_type": "code",
   "execution_count": null,
   "id": "3c4ad65e",
   "metadata": {},
   "outputs": [],
   "source": [
    "# have a look at the data\n",
    "df.sort_values(['session_id', 'session_hit_number'], ascending=False).head()"
   ]
  },
  {
   "cell_type": "code",
   "execution_count": null,
   "id": "38aa346a",
   "metadata": {},
   "outputs": [],
   "source": [
    "# explore the data with describe\n",
    "df.describe(include='all').head()"
   ]
  },
  {
   "cell_type": "markdown",
   "id": "a1ced327",
   "metadata": {},
   "source": [
    "Now we will go though a selection of basic analytics metrics. We can use models from the model hub for this purpose or use Bach to do data analysis directly on the data stored in the\n",
    "SQL database using pandas like syntax.\n",
    "\n",
    "For each example, `head()`, `to_pandas()` or `to_numpy()` can be used to execute the generated SQL and get the results in\n",
    "your notebook."
   ]
  },
  {
   "cell_type": "markdown",
   "id": "03bfa810",
   "metadata": {},
   "source": [
    "## Unique users\n",
    "The `daily_users` uses the `time_aggregation` as set when the model hub was instantiated. In this case the\n",
    "`time_aggregation` was set to '%Y-%m-%d', so the aggregation is daily. For `monthly_users`, the default time_aggregation is\n",
    "overridden by using a different `groupby`."
   ]
  },
  {
   "cell_type": "code",
   "execution_count": null,
   "id": "08ad4e39",
   "metadata": {},
   "outputs": [],
   "source": [
    "# model hub: unique users, monthly\n",
    "monthly_users = modelhub.aggregate.unique_users(df, groupby=modelhub.time_agg(df, '%Y-%m'))\n",
    "monthly_users.sort_index(ascending=False).head()"
   ]
  },
  {
   "cell_type": "code",
   "execution_count": null,
   "id": "172f431c",
   "metadata": {},
   "outputs": [],
   "source": [
    "# model hub: unique users, daily\n",
    "daily_users = modelhub.aggregate.unique_users(df)\n",
    "daily_users.sort_index(ascending=False).head(10)"
   ]
  },
  {
   "cell_type": "code",
   "execution_count": null,
   "id": "fec344a2",
   "metadata": {},
   "outputs": [],
   "source": [
    "# model hub: unique users, per main product section\n",
    "users_root = modelhub.aggregate.unique_users(df, groupby=['application', 'root_location'])\n",
    "users_root.sort_index(ascending=False).head(10)"
   ]
  },
  {
   "cell_type": "markdown",
   "id": "a95c3999",
   "metadata": {},
   "source": [
    "## Retention"
   ]
  },
  {
   "cell_type": "markdown",
   "id": "c0c002e4",
   "metadata": {},
   "source": [
    "To measure how well we are doing at keeping the users with us after the first interaction, we can use a retention matrix.\n",
    "\n",
    "To calculate the retention matrix, we need to distribute the users into mutually exclusive cohorts based on the `time_period` (it can be `daily`, `weekly`, `monthly`, or `yearly`) when they first interacted.\n",
    "\n",
    "\n",
    "In the retention matrix:\n",
    "- each row represents a cohort,\n",
    "- each column represents a time range, where time is calculated with respect to the cohort start time,\n",
    "- the values of the matrix elements are the number or percentage (depending on `percentage` parameter) of users in a given cohort that returned again in a given time range.\n",
    "\n",
    "N.B. the users' activity starts to be traced from start_date specified in modelhub where we load the data: `modelhub.get_objectiv_dataframe(start_date='2022-02-02')`."
   ]
  },
  {
   "cell_type": "code",
   "execution_count": null,
   "id": "767c5982",
   "metadata": {},
   "outputs": [],
   "source": [
    "retention_matrix = modelhub.aggregate.retention_matrix(df, time_period='monthly', percentage=True, display=True)\n",
    "retention_matrix.head()"
   ]
  },
  {
   "cell_type": "markdown",
   "id": "6d8fe546",
   "metadata": {},
   "source": [
    "### Drilling down cohorts"
   ]
  },
  {
   "cell_type": "markdown",
   "id": "c33d9b44",
   "metadata": {},
   "source": [
    "From our retention matrix, we can see that in the second cohort there is a drop in retained users in the next month, just 3.6% came back. We can try to zoom in on the different cohorts and see what is the difference."
   ]
  },
  {
   "cell_type": "code",
   "execution_count": null,
   "id": "52ec55a5",
   "metadata": {},
   "outputs": [],
   "source": [
    "# calculate the first cohort\n",
    "cohorts = df[['user_id', 'moment']].groupby('user_id')['moment'].min().reset_index()\n",
    "cohorts = cohorts.rename(columns={'moment': 'first_cohort'})\n",
    "\n",
    "# add first cohort of the users to our DataFrame\n",
    "df_with_cohorts = df.merge(cohorts, on='user_id')"
   ]
  },
  {
   "cell_type": "code",
   "execution_count": null,
   "id": "419da16e",
   "metadata": {},
   "outputs": [],
   "source": [
    "# filter data where users belong to # 0 cohort\n",
    "cohort0_filter = (df_with_cohorts['first_cohort'] > datetime(2022, 2, 1)) & (df_with_cohorts['first_cohort'] < datetime(2022, 3, 1))\n",
    "df_with_cohorts[cohort0_filter]['event_type'].value_counts().head()"
   ]
  },
  {
   "cell_type": "code",
   "execution_count": null,
   "id": "20c15a7d",
   "metadata": {},
   "outputs": [],
   "source": [
    "# filter data where users belong to # 1 cohort (the problematic one)\n",
    "cohort1_filter = (df_with_cohorts['first_cohort'] > datetime(2022, 3, 1)) & (df_with_cohorts['first_cohort'] < datetime(2022, 4, 1))\n",
    "df_with_cohorts[cohort1_filter]['event_type'].value_counts().head()"
   ]
  },
  {
   "cell_type": "markdown",
   "id": "cccd323e",
   "metadata": {},
   "source": [
    "It is interesting to see that we have relatively more `VisibleEvent` in the first cohort than in second 'problematic' one.\n",
    "\n",
    "This is  just a simple example to demonstrate the differences you can find between the cohorts, one can do similar tests e.g. with [top product features](https://objectiv.io/docs/modeling/open-model-hub/models/aggregation/top_product_features/), or develop more in-depth analysis depending on the product needs."
   ]
  },
  {
   "cell_type": "markdown",
   "id": "1a6de3da",
   "metadata": {},
   "source": [
    "## User time spent\n",
    "We can also calculate the average session duration for time intervals. `duration_root_month` gives the\n",
    "average time spent per root location per month."
   ]
  },
  {
   "cell_type": "code",
   "execution_count": null,
   "id": "5ad07abd-e62e-41d3-9033-cdacb906551f",
   "metadata": {},
   "outputs": [],
   "source": [
    "# model hub: duration, monthly average\n",
    "duration_monthly = modelhub.aggregate.session_duration(df, groupby=modelhub.time_agg(df, '%Y-%m'))\n",
    "duration_monthly.sort_index(ascending=False).head()"
   ]
  },
  {
   "cell_type": "code",
   "execution_count": null,
   "id": "9fb041b2",
   "metadata": {},
   "outputs": [],
   "source": [
    "# model hub: duration, daily average\n",
    "duration_daily = modelhub.aggregate.session_duration(df)\n",
    "duration_daily.sort_index(ascending=False).head()"
   ]
  },
  {
   "cell_type": "code",
   "execution_count": null,
   "id": "4f929f0a",
   "metadata": {},
   "outputs": [],
   "source": [
    "# model hub: duration, monthly average per root location\n",
    "duration_root_month = modelhub.aggregate.session_duration(df, groupby=['application', 'root_location', modelhub.time_agg(df, '%Y-%m')]).sort_index()\n",
    "duration_root_month.head(10)"
   ]
  },
  {
   "cell_type": "code",
   "execution_count": null,
   "id": "8e2c4158",
   "metadata": {},
   "outputs": [],
   "source": [
    "# how is this time spent distributed?\n",
    "session_duration = modelhub.aggregate.session_duration(df, groupby='session_id', exclude_bounces=False)\n",
    "# Materialization is needed because the expression of the created series contains aggregated data, and it is not allowed to aggregate that.\n",
    "session_duration.materialize().quantile(q=[0.25, 0.50, 0.75]).head()"
   ]
  },
  {
   "cell_type": "markdown",
   "id": "c0e6a29a",
   "metadata": {},
   "source": [
    "## Top used product features"
   ]
  },
  {
   "cell_type": "markdown",
   "id": "58e63222",
   "metadata": {},
   "source": [
    "Let's get the top used features in the product by our users, for that we can call the `top_product_features` function from the model hub. "
   ]
  },
  {
   "cell_type": "code",
   "execution_count": null,
   "id": "a19d8210",
   "metadata": {},
   "outputs": [],
   "source": [
    "# by default we select only user actions\n",
    "top_product_features = modelhub.aggregate.top_product_features(df)\n",
    "top_product_features.head()"
   ]
  },
  {
   "cell_type": "markdown",
   "id": "dcf82009",
   "metadata": {},
   "source": [
    "## Top used product areas\n",
    "First we use the model hub to get the unique users per application, root location, feature, and event type.\n",
    "From this prepared dataset, we show the users for the home page first."
   ]
  },
  {
   "cell_type": "code",
   "execution_count": null,
   "id": "a757be5a",
   "metadata": {},
   "outputs": [],
   "source": [
    "# select only user actions, so stack_event_types must contain 'InteractiveEvent'\n",
    "interactive_events = df[df.stack_event_types.json.array_contains('InteractiveEvent')]\n",
    "\n",
    "top_interactions = modelhub.agg.unique_users(interactive_events, groupby=['application','root_location','feature_nice_name', 'event_type'])\n",
    "top_interactions = top_interactions.reset_index()"
   ]
  },
  {
   "cell_type": "code",
   "execution_count": null,
   "id": "3ba9b3cf",
   "metadata": {},
   "outputs": [],
   "source": [
    "home_users = top_interactions[(top_interactions.application == 'objectiv-website') &\n",
    "                              (top_interactions.root_location == 'home')]\n",
    "home_users.sort_values('unique_users', ascending=False).head()"
   ]
  },
  {
   "cell_type": "markdown",
   "id": "e9e5de5a",
   "metadata": {},
   "source": [
    "From the same `top_interactions` object, we can select the top interactions for the 'docs' page."
   ]
  },
  {
   "cell_type": "code",
   "execution_count": null,
   "id": "3f8c4ae0",
   "metadata": {},
   "outputs": [],
   "source": [
    "docs_users = top_interactions[top_interactions.application == 'objectiv-docs']\n",
    "docs_users.sort_values('unique_users', ascending=False).head()"
   ]
  },
  {
   "cell_type": "markdown",
   "id": "31b3686c",
   "metadata": {},
   "source": [
    "## Acquisition"
   ]
  },
  {
   "cell_type": "markdown",
   "id": "6422c6bb",
   "metadata": {},
   "source": [
    "We create a copy of the original df, as to not clutter our original df with columns that are only required for acquisition analysis. "
   ]
  },
  {
   "cell_type": "code",
   "execution_count": null,
   "id": "9d3d151a",
   "metadata": {},
   "outputs": [],
   "source": [
    "df_acquisition = df.copy()\n",
    "# extract referrer and marketing contexts from the global contexts\n",
    "df_acquisition['referrer'] = df_acquisition.global_contexts.gc.get_from_context_with_type_series(type='HttpContext', key='referrer')\n",
    "df_acquisition['utm_source'] = df_acquisition.global_contexts.gc.get_from_context_with_type_series(type='MarketingContext', key='source')\n",
    "df_acquisition['utm_medium'] = df_acquisition.global_contexts.gc.get_from_context_with_type_series(type='MarketingContext', key='medium')\n",
    "df_acquisition['utm_campaign'] = df_acquisition.global_contexts.gc.get_from_context_with_type_series(type='MarketingContext', key='campaign')\n",
    "df_acquisition['utm_content'] = df_acquisition.global_contexts.gc.get_from_context_with_type_series(type='MarketingContext', key='content')\n",
    "df_acquisition['utm_term'] = df_acquisition.global_contexts.gc.get_from_context_with_type_series(type='MarketingContext', key='term')"
   ]
  },
  {
   "cell_type": "markdown",
   "id": "eb7374f3",
   "metadata": {},
   "source": [
    "### User origin"
   ]
  },
  {
   "cell_type": "code",
   "execution_count": null,
   "id": "6aa28364",
   "metadata": {},
   "outputs": [],
   "source": [
    "# users by referrer\n",
    "modelhub.agg.unique_users(df_acquisition, groupby='referrer').sort_values(ascending=False).head()"
   ]
  },
  {
   "cell_type": "markdown",
   "id": "f0bdf159",
   "metadata": {},
   "source": [
    "### Marketing\n",
    "Calculate the number of users per campaign."
   ]
  },
  {
   "cell_type": "code",
   "execution_count": null,
   "id": "d60fe2d6",
   "metadata": {},
   "outputs": [],
   "source": [
    "# users by marketing campaign\n",
    "campaign_users = modelhub.agg.unique_users(df_acquisition, groupby=['utm_source', 'utm_medium', 'utm_campaign', 'utm_content', 'utm_term'])\n",
    "campaign_users = campaign_users.reset_index().dropna(axis=0, how='any', subset='utm_source')\n",
    "\n",
    "campaign_users.sort_values('utm_source', ascending=True).head()"
   ]
  },
  {
   "cell_type": "markdown",
   "id": "59bb032a",
   "metadata": {},
   "source": [
    "Look at top used features by campaign for only user interactions."
   ]
  },
  {
   "cell_type": "code",
   "execution_count": null,
   "id": "c701379c",
   "metadata": {},
   "outputs": [],
   "source": [
    "# users by feature per campaign source & term\n",
    "users_feature_campaign = modelhub.agg.unique_users(df_acquisition[\n",
    "    df_acquisition.stack_event_types.json.array_contains('InteractiveEvent')], \n",
    "                                                   groupby=['utm_source', \n",
    "                                                            'utm_term', \n",
    "                                                            'feature_nice_name', \n",
    "                                                            'event_type'])\n",
    "users_feature_campaign = users_feature_campaign.reset_index().dropna(axis=0, how='any', subset='utm_source')\n",
    "\n",
    "users_feature_campaign.sort_values(['utm_source', 'utm_term', 'unique_users'], ascending=[True, True, False]).head()"
   ]
  },
  {
   "cell_type": "markdown",
   "id": "3bda262d",
   "metadata": {},
   "source": [
    "## Conversions\n",
    "First we define a conversion event in the Objectiv DataFrame we created for acquisition analysis."
   ]
  },
  {
   "cell_type": "code",
   "execution_count": null,
   "id": "897180ac",
   "metadata": {
    "scrolled": true
   },
   "outputs": [],
   "source": [
    "# create a column that extracts all location stacks that lead to our github\n",
    "df_acquisition['github_press'] = df_acquisition.location_stack.json[{'id': 'objectiv-on-github', '_type': 'LinkContext'}:]\n",
    "df_acquisition.loc[df_acquisition.location_stack.json[{'id': 'github', '_type': 'LinkContext'}:]!=[],'github_press'] = df_acquisition.location_stack\n",
    "\n",
    "# define which events to use as conversion events\n",
    "modelhub.add_conversion_event(location_stack=df_acquisition.github_press,\n",
    "                              event_type='PressEvent',\n",
    "                              name='github_press')"
   ]
  },
  {
   "cell_type": "markdown",
   "id": "b8fd7827",
   "metadata": {},
   "source": [
    "This can be used by several models from the model hub using the defined name ('github_press'). First we calculate\n",
    "the number of unique converted users."
   ]
  },
  {
   "cell_type": "code",
   "execution_count": null,
   "id": "f4f6f7e7",
   "metadata": {},
   "outputs": [],
   "source": [
    "# model hub: calculate conversions\n",
    "df_acquisition['is_conversion_event'] = modelhub.map.is_conversion_event(df_acquisition, 'github_press')\n",
    "conversions = modelhub.aggregate.unique_users(df_acquisition[df_acquisition.is_conversion_event])\n",
    "conversions.to_frame().sort_index(ascending=False).head(10)"
   ]
  },
  {
   "cell_type": "markdown",
   "id": "6ee9995c",
   "metadata": {},
   "source": [
    "### Conversion rate\n",
    "We use the earlier created `daily_users` to calculate the daily conversion rate."
   ]
  },
  {
   "cell_type": "code",
   "execution_count": null,
   "id": "f4fa4649-1300-4647-bd67-616e95bc96d6",
   "metadata": {},
   "outputs": [],
   "source": [
    "# calculate conversion rate\n",
    "conversion_rate = conversions / daily_users\n",
    "conversion_rate.sort_index(ascending=False).head(10)"
   ]
  },
  {
   "cell_type": "markdown",
   "id": "44a4c4c2-100d-4a8f-b826-7c9463be48e9",
   "metadata": {
    "tags": []
   },
   "source": [
    "### Conversions by marketing campaign"
   ]
  },
  {
   "cell_type": "code",
   "execution_count": null,
   "id": "a11ebb50-0a3a-49ad-9cbc-7bee9b7a8cfc",
   "metadata": {},
   "outputs": [],
   "source": [
    "# model hub: calculate conversions per marketing canpaign based on UTM data in MarketingContext\n",
    "campaign_conversions = modelhub.aggregate.unique_users(df_acquisition[df_acquisition.is_conversion_event],\n",
    "                                                       groupby=['utm_source', 'utm_medium', 'utm_campaign'])\n",
    "campaign_conversions.reset_index().dropna(axis=0, how='any', subset='utm_source').head()"
   ]
  },
  {
   "cell_type": "markdown",
   "id": "cbc4e9a4",
   "metadata": {},
   "source": [
    "### Conversion product feature\n",
    "From which product feature do users convert most?"
   ]
  },
  {
   "cell_type": "code",
   "execution_count": null,
   "id": "88a0e85b",
   "metadata": {},
   "outputs": [],
   "source": [
    "conversion_locations = modelhub.agg.unique_users(df_acquisition[df_acquisition.is_conversion_event], \n",
    "                                                 groupby=['application', 'feature_nice_name', 'event_type'])\n",
    "\n",
    "# calling .to_frame() for nicer formatting\n",
    "conversion_locations.sort_values(ascending=False).to_frame().head()"
   ]
  },
  {
   "cell_type": "markdown",
   "id": "eeb9e9d4",
   "metadata": {},
   "source": [
    "## Events before conversion\n",
    "We can calculate what users did _before_ converting."
   ]
  },
  {
   "cell_type": "code",
   "execution_count": null,
   "id": "b6762c39",
   "metadata": {},
   "outputs": [],
   "source": [
    "top_features_before_conversion = modelhub.agg.top_product_features_before_conversion(df_acquisition, name='github_press')\n",
    "top_features_before_conversion.head()"
   ]
  },
  {
   "cell_type": "markdown",
   "id": "fb84157f",
   "metadata": {},
   "source": [
    "### Time spent before conversion\n",
    "At last we want to know how much time users that converted spent on our site before they converted."
   ]
  },
  {
   "cell_type": "code",
   "execution_count": null,
   "id": "191ead42",
   "metadata": {},
   "outputs": [],
   "source": [
    "# label sessions with a conversion\n",
    "df_acquisition['converted_users'] = modelhub.map.conversions_counter(df_acquisition, name='github_press') >= 1\n",
    "\n",
    "# label hits where at that point in time, there are 0 conversions in the session\n",
    "df_acquisition['zero_conversions_at_moment'] = modelhub.map.conversions_in_time(df_acquisition, 'github_press') == 0\n",
    "\n",
    "# filter on above created labels\n",
    "converted_users = df_acquisition[(df_acquisition.converted_users & df_acquisition.zero_conversions_at_moment)]\n",
    "\n",
    "# how much time do users spend before they convert?\n",
    "modelhub.aggregate.session_duration(converted_users, groupby=None).to_frame().head()"
   ]
  },
  {
   "cell_type": "markdown",
   "id": "c4b5b4d2-d72b-4f10-9702-afe22015b74f",
   "metadata": {},
   "source": [
    "## Get the SQL for any analysis"
   ]
  },
  {
   "cell_type": "code",
   "execution_count": null,
   "id": "3503632c-bd17-462f-a7e2-9b27a390c673",
   "metadata": {},
   "outputs": [],
   "source": [
    "# just one analysis as an example, this works for anything you do with Objectiv Bach\n",
    "display_sql_as_markdown(conversions)"
   ]
  }
 ],
 "metadata": {
  "kernelspec": {
   "display_name": "Python 3 (ipykernel)",
   "language": "python",
   "name": "python3"
  },
  "language_info": {
   "codemirror_mode": {
    "name": "ipython",
    "version": 3
   },
   "file_extension": ".py",
   "mimetype": "text/x-python",
   "name": "python",
   "nbconvert_exporter": "python",
   "pygments_lexer": "ipython3",
   "version": "3.9.10"
  }
 },
 "nbformat": 4,
 "nbformat_minor": 5
}
