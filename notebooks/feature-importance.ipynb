{
 "cells": [
  {
   "cell_type": "markdown",
   "id": "f983911b",
   "metadata": {},
   "source": [
    "In this example we show how the model hub can be used to get the contribution of features to reaching conversion. With the model hub, you can estimate the contribution, as well as evaluate the model performance. "
   ]
  },
  {
   "cell_type": "code",
   "execution_count": 1,
   "id": "08f492f8",
   "metadata": {},
   "outputs": [],
   "source": [
    "from modelhub import ModelHub\n",
    "from matplotlib import pyplot as plt"
   ]
  },
  {
   "cell_type": "code",
   "execution_count": 2,
   "id": "7c6c189f",
   "metadata": {},
   "outputs": [],
   "source": [
    "# instantiate the model hub\n",
    "modelhub = ModelHub(time_aggregation='YYYY-MM-DD')\n",
    "# get the Bach DataFrame with Objectiv data\n",
    "df = modelhub.get_objectiv_dataframe(start_date='2022-02-01')"
   ]
  },
  {
   "cell_type": "code",
   "execution_count": 3,
   "id": "04ec9742",
   "metadata": {},
   "outputs": [
    {
     "data": {
      "text/html": [
       "<div>\n",
       "<style scoped>\n",
       "    .dataframe tbody tr th:only-of-type {\n",
       "        vertical-align: middle;\n",
       "    }\n",
       "\n",
       "    .dataframe tbody tr th {\n",
       "        vertical-align: top;\n",
       "    }\n",
       "\n",
       "    .dataframe thead th {\n",
       "        text-align: right;\n",
       "    }\n",
       "</style>\n",
       "<table border=\"1\" class=\"dataframe\">\n",
       "  <thead>\n",
       "    <tr style=\"text-align: right;\">\n",
       "      <th></th>\n",
       "      <th>day</th>\n",
       "      <th>moment</th>\n",
       "      <th>user_id</th>\n",
       "      <th>global_contexts</th>\n",
       "      <th>location_stack</th>\n",
       "      <th>event_type</th>\n",
       "      <th>stack_event_types</th>\n",
       "      <th>session_id</th>\n",
       "      <th>session_hit_number</th>\n",
       "    </tr>\n",
       "    <tr>\n",
       "      <th>event_id</th>\n",
       "      <th></th>\n",
       "      <th></th>\n",
       "      <th></th>\n",
       "      <th></th>\n",
       "      <th></th>\n",
       "      <th></th>\n",
       "      <th></th>\n",
       "      <th></th>\n",
       "      <th></th>\n",
       "    </tr>\n",
       "  </thead>\n",
       "  <tbody>\n",
       "    <tr>\n",
       "      <th>d4a0cb80-729c-4e17-9a42-6cb48672250f</th>\n",
       "      <td>2022-03-15</td>\n",
       "      <td>2022-03-15 08:36:33.123</td>\n",
       "      <td>005aa19c-7e80-4960-928c-a0853355ee5f</td>\n",
       "      <td>[{'id': 'http_context', '_type': 'HttpContext'...</td>\n",
       "      <td>[{'id': 'about', '_type': 'RootLocationContext...</td>\n",
       "      <td>PressEvent</td>\n",
       "      <td>[AbstractEvent, InteractiveEvent, PressEvent]</td>\n",
       "      <td>1351</td>\n",
       "      <td>1</td>\n",
       "    </tr>\n",
       "    <tr>\n",
       "      <th>75afa7bc-5237-4033-a833-bf9e0e85a3c1</th>\n",
       "      <td>2022-03-15</td>\n",
       "      <td>2022-03-15 08:36:44.625</td>\n",
       "      <td>005aa19c-7e80-4960-928c-a0853355ee5f</td>\n",
       "      <td>[{'id': 'http_context', '_type': 'HttpContext'...</td>\n",
       "      <td>[{'id': 'about', '_type': 'RootLocationContext...</td>\n",
       "      <td>PressEvent</td>\n",
       "      <td>[AbstractEvent, InteractiveEvent, PressEvent]</td>\n",
       "      <td>1351</td>\n",
       "      <td>2</td>\n",
       "    </tr>\n",
       "    <tr>\n",
       "      <th>b232b68d-8494-4b9e-abeb-d1ef2e945039</th>\n",
       "      <td>2022-02-07</td>\n",
       "      <td>2022-02-07 08:36:19.809</td>\n",
       "      <td>009f4da5-774b-4e10-b2b6-d3d66e3bd08b</td>\n",
       "      <td>[{'id': 'objectiv-website', '_type': 'Applicat...</td>\n",
       "      <td>[{'id': 'blog', '_type': 'RootLocationContext'...</td>\n",
       "      <td>PressEvent</td>\n",
       "      <td>[AbstractEvent, InteractiveEvent, PressEvent]</td>\n",
       "      <td>540</td>\n",
       "      <td>1</td>\n",
       "    </tr>\n",
       "    <tr>\n",
       "      <th>2865beed-f191-467a-9359-7f1d858f6638</th>\n",
       "      <td>2022-04-14</td>\n",
       "      <td>2022-04-14 21:17:36.140</td>\n",
       "      <td>00b011eb-74ee-4d01-a00f-36617c6a0ee1</td>\n",
       "      <td>[{'id': 'http_context', '_type': 'HttpContext'...</td>\n",
       "      <td>[{'id': 'home', '_type': 'RootLocationContext'...</td>\n",
       "      <td>ApplicationLoadedEvent</td>\n",
       "      <td>[AbstractEvent, ApplicationLoadedEvent, NonInt...</td>\n",
       "      <td>1775</td>\n",
       "      <td>1</td>\n",
       "    </tr>\n",
       "    <tr>\n",
       "      <th>ed3f8d66-c354-4a4e-8714-2ff9db0d51a5</th>\n",
       "      <td>2022-04-14</td>\n",
       "      <td>2022-04-14 21:17:36.157</td>\n",
       "      <td>00b011eb-74ee-4d01-a00f-36617c6a0ee1</td>\n",
       "      <td>[{'id': 'http_context', '_type': 'HttpContext'...</td>\n",
       "      <td>[{'id': 'home', '_type': 'RootLocationContext'...</td>\n",
       "      <td>VisibleEvent</td>\n",
       "      <td>[AbstractEvent, NonInteractiveEvent, VisibleEv...</td>\n",
       "      <td>1775</td>\n",
       "      <td>2</td>\n",
       "    </tr>\n",
       "  </tbody>\n",
       "</table>\n",
       "</div>"
      ],
      "text/plain": [
       "                                             day                  moment  \\\n",
       "event_id                                                                   \n",
       "d4a0cb80-729c-4e17-9a42-6cb48672250f  2022-03-15 2022-03-15 08:36:33.123   \n",
       "75afa7bc-5237-4033-a833-bf9e0e85a3c1  2022-03-15 2022-03-15 08:36:44.625   \n",
       "b232b68d-8494-4b9e-abeb-d1ef2e945039  2022-02-07 2022-02-07 08:36:19.809   \n",
       "2865beed-f191-467a-9359-7f1d858f6638  2022-04-14 2022-04-14 21:17:36.140   \n",
       "ed3f8d66-c354-4a4e-8714-2ff9db0d51a5  2022-04-14 2022-04-14 21:17:36.157   \n",
       "\n",
       "                                                                   user_id  \\\n",
       "event_id                                                                     \n",
       "d4a0cb80-729c-4e17-9a42-6cb48672250f  005aa19c-7e80-4960-928c-a0853355ee5f   \n",
       "75afa7bc-5237-4033-a833-bf9e0e85a3c1  005aa19c-7e80-4960-928c-a0853355ee5f   \n",
       "b232b68d-8494-4b9e-abeb-d1ef2e945039  009f4da5-774b-4e10-b2b6-d3d66e3bd08b   \n",
       "2865beed-f191-467a-9359-7f1d858f6638  00b011eb-74ee-4d01-a00f-36617c6a0ee1   \n",
       "ed3f8d66-c354-4a4e-8714-2ff9db0d51a5  00b011eb-74ee-4d01-a00f-36617c6a0ee1   \n",
       "\n",
       "                                                                        global_contexts  \\\n",
       "event_id                                                                                  \n",
       "d4a0cb80-729c-4e17-9a42-6cb48672250f  [{'id': 'http_context', '_type': 'HttpContext'...   \n",
       "75afa7bc-5237-4033-a833-bf9e0e85a3c1  [{'id': 'http_context', '_type': 'HttpContext'...   \n",
       "b232b68d-8494-4b9e-abeb-d1ef2e945039  [{'id': 'objectiv-website', '_type': 'Applicat...   \n",
       "2865beed-f191-467a-9359-7f1d858f6638  [{'id': 'http_context', '_type': 'HttpContext'...   \n",
       "ed3f8d66-c354-4a4e-8714-2ff9db0d51a5  [{'id': 'http_context', '_type': 'HttpContext'...   \n",
       "\n",
       "                                                                         location_stack  \\\n",
       "event_id                                                                                  \n",
       "d4a0cb80-729c-4e17-9a42-6cb48672250f  [{'id': 'about', '_type': 'RootLocationContext...   \n",
       "75afa7bc-5237-4033-a833-bf9e0e85a3c1  [{'id': 'about', '_type': 'RootLocationContext...   \n",
       "b232b68d-8494-4b9e-abeb-d1ef2e945039  [{'id': 'blog', '_type': 'RootLocationContext'...   \n",
       "2865beed-f191-467a-9359-7f1d858f6638  [{'id': 'home', '_type': 'RootLocationContext'...   \n",
       "ed3f8d66-c354-4a4e-8714-2ff9db0d51a5  [{'id': 'home', '_type': 'RootLocationContext'...   \n",
       "\n",
       "                                                  event_type  \\\n",
       "event_id                                                       \n",
       "d4a0cb80-729c-4e17-9a42-6cb48672250f              PressEvent   \n",
       "75afa7bc-5237-4033-a833-bf9e0e85a3c1              PressEvent   \n",
       "b232b68d-8494-4b9e-abeb-d1ef2e945039              PressEvent   \n",
       "2865beed-f191-467a-9359-7f1d858f6638  ApplicationLoadedEvent   \n",
       "ed3f8d66-c354-4a4e-8714-2ff9db0d51a5            VisibleEvent   \n",
       "\n",
       "                                                                      stack_event_types  \\\n",
       "event_id                                                                                  \n",
       "d4a0cb80-729c-4e17-9a42-6cb48672250f      [AbstractEvent, InteractiveEvent, PressEvent]   \n",
       "75afa7bc-5237-4033-a833-bf9e0e85a3c1      [AbstractEvent, InteractiveEvent, PressEvent]   \n",
       "b232b68d-8494-4b9e-abeb-d1ef2e945039      [AbstractEvent, InteractiveEvent, PressEvent]   \n",
       "2865beed-f191-467a-9359-7f1d858f6638  [AbstractEvent, ApplicationLoadedEvent, NonInt...   \n",
       "ed3f8d66-c354-4a4e-8714-2ff9db0d51a5  [AbstractEvent, NonInteractiveEvent, VisibleEv...   \n",
       "\n",
       "                                      session_id  session_hit_number  \n",
       "event_id                                                              \n",
       "d4a0cb80-729c-4e17-9a42-6cb48672250f        1351                   1  \n",
       "75afa7bc-5237-4033-a833-bf9e0e85a3c1        1351                   2  \n",
       "b232b68d-8494-4b9e-abeb-d1ef2e945039         540                   1  \n",
       "2865beed-f191-467a-9359-7f1d858f6638        1775                   1  \n",
       "ed3f8d66-c354-4a4e-8714-2ff9db0d51a5        1775                   2  "
      ]
     },
     "execution_count": 3,
     "metadata": {},
     "output_type": "execute_result"
    }
   ],
   "source": [
    "df.head()"
   ]
  },
  {
   "cell_type": "code",
   "execution_count": 4,
   "id": "ac3768bb",
   "metadata": {},
   "outputs": [],
   "source": [
    "# define which events to use as conversion events\n",
    "modelhub.add_conversion_event(location_stack=df.location_stack.json[{'id': 'objectiv-on-github', \n",
    "                                                                     '_type': 'LinkContext'}:].fillna(\n",
    "                                             df.location_stack.json[{'id': 'github', '_type': 'LinkContext'}:]),\n",
    "                              event_type='PressEvent',\n",
    "                              name='github_press')"
   ]
  },
  {
   "cell_type": "code",
   "execution_count": 5,
   "id": "236d8e3e",
   "metadata": {},
   "outputs": [],
   "source": [
    "df['root'] = df.location_stack.ls.get_from_context_with_type_series(type='RootLocationContext', key='id')"
   ]
  },
  {
   "cell_type": "markdown",
   "id": "f83e7206",
   "metadata": {},
   "source": [
    "We want to obtain the impact of pressing in individual sections (root location) on our website. We assume a true causal relation between the number of clicks per root location and conversion. Make sure to think of this assumption when using this model on your own data. Therefore we estimate conversion by the number of presses in each root location on our site per user using a logistic regression model. The coefficients of this regression can be interpreted as the contribution to conversion (direction and magnitude). \n",
    "\n",
    "The feature importance model returns a trained model, but also the data sets that is used for training the model based on the parameters. \n",
    "\n",
    "This let's you adjust the data set further or use the model as is.\n",
    "\n",
    "The model has methods for the accuracy assesment."
   ]
  },
  {
   "cell_type": "markdown",
   "id": "73e0660d",
   "metadata": {},
   "source": [
    "#### todo \n",
    "\n",
    "model should be a class that allows for rerunning the data on a cleaned data set. currently just a dict with results."
   ]
  },
  {
   "cell_type": "code",
   "execution_count": 6,
   "id": "e08485d6",
   "metadata": {},
   "outputs": [],
   "source": [
    "X_temp, y_temp, model = modelhub.agg.feature_importance(\n",
    "    data=df[df.event_type=='PressEvent'],\n",
    "    name='github_press',\n",
    "    feature_column='root'\n",
    ")"
   ]
  },
  {
   "cell_type": "code",
   "execution_count": 7,
   "id": "3cd9af71",
   "metadata": {},
   "outputs": [
    {
     "data": {
      "text/plain": [
       "<bach.series.series_boolean.SeriesBoolean at 0x134d75c40>"
      ]
     },
     "execution_count": 7,
     "metadata": {},
     "output_type": "execute_result"
    }
   ],
   "source": [
    "y_temp"
   ]
  },
  {
   "cell_type": "code",
   "execution_count": 8,
   "id": "e1eb9035",
   "metadata": {},
   "outputs": [
    {
     "data": {
      "text/plain": [
       "user_id\n",
       "3c5a5bb8-e855-4bd2-9011-e0604bc60ad3     True\n",
       "30ea7fc7-7dbe-4080-b980-55120503479d     True\n",
       "e78fe4d7-ce68-4e8c-b284-4a52010547db    False\n",
       "bc5cca28-a860-402f-a482-38f78f8305e2    False\n",
       "a8409691-e826-4639-8ee2-aca9115a6f44     True\n",
       "Name: is_converted, dtype: bool"
      ]
     },
     "execution_count": 8,
     "metadata": {},
     "output_type": "execute_result"
    }
   ],
   "source": [
    "y_temp.head()"
   ]
  },
  {
   "cell_type": "code",
   "execution_count": 9,
   "id": "89a98eda",
   "metadata": {},
   "outputs": [
    {
     "data": {
      "text/plain": [
       "<bach.dataframe.DataFrame at 0x134d75bb0>"
      ]
     },
     "execution_count": 9,
     "metadata": {},
     "output_type": "execute_result"
    }
   ],
   "source": [
    "X_temp"
   ]
  },
  {
   "cell_type": "code",
   "execution_count": 10,
   "id": "e4c88e2d",
   "metadata": {},
   "outputs": [
    {
     "data": {
      "text/html": [
       "<div>\n",
       "<style scoped>\n",
       "    .dataframe tbody tr th:only-of-type {\n",
       "        vertical-align: middle;\n",
       "    }\n",
       "\n",
       "    .dataframe tbody tr th {\n",
       "        vertical-align: top;\n",
       "    }\n",
       "\n",
       "    .dataframe thead th {\n",
       "        text-align: right;\n",
       "    }\n",
       "</style>\n",
       "<table border=\"1\" class=\"dataframe\">\n",
       "  <thead>\n",
       "    <tr style=\"text-align: right;\">\n",
       "      <th></th>\n",
       "      <th>about</th>\n",
       "      <th>blog</th>\n",
       "      <th>docs</th>\n",
       "      <th>home</th>\n",
       "      <th>jobs</th>\n",
       "      <th>join-slack</th>\n",
       "      <th>modeling</th>\n",
       "      <th>privacy</th>\n",
       "      <th>taxonomy</th>\n",
       "      <th>tracking</th>\n",
       "    </tr>\n",
       "    <tr>\n",
       "      <th>user_id</th>\n",
       "      <th></th>\n",
       "      <th></th>\n",
       "      <th></th>\n",
       "      <th></th>\n",
       "      <th></th>\n",
       "      <th></th>\n",
       "      <th></th>\n",
       "      <th></th>\n",
       "      <th></th>\n",
       "      <th></th>\n",
       "    </tr>\n",
       "  </thead>\n",
       "  <tbody>\n",
       "    <tr>\n",
       "      <th>3c5a5bb8-e855-4bd2-9011-e0604bc60ad3</th>\n",
       "      <td>0</td>\n",
       "      <td>2</td>\n",
       "      <td>0</td>\n",
       "      <td>12</td>\n",
       "      <td>0</td>\n",
       "      <td>0</td>\n",
       "      <td>2</td>\n",
       "      <td>0</td>\n",
       "      <td>0</td>\n",
       "      <td>0</td>\n",
       "    </tr>\n",
       "    <tr>\n",
       "      <th>30ea7fc7-7dbe-4080-b980-55120503479d</th>\n",
       "      <td>12</td>\n",
       "      <td>10</td>\n",
       "      <td>0</td>\n",
       "      <td>25</td>\n",
       "      <td>2</td>\n",
       "      <td>0</td>\n",
       "      <td>3</td>\n",
       "      <td>0</td>\n",
       "      <td>7</td>\n",
       "      <td>4</td>\n",
       "    </tr>\n",
       "    <tr>\n",
       "      <th>e78fe4d7-ce68-4e8c-b284-4a52010547db</th>\n",
       "      <td>1</td>\n",
       "      <td>0</td>\n",
       "      <td>0</td>\n",
       "      <td>5</td>\n",
       "      <td>1</td>\n",
       "      <td>0</td>\n",
       "      <td>1</td>\n",
       "      <td>0</td>\n",
       "      <td>0</td>\n",
       "      <td>0</td>\n",
       "    </tr>\n",
       "    <tr>\n",
       "      <th>bc5cca28-a860-402f-a482-38f78f8305e2</th>\n",
       "      <td>2</td>\n",
       "      <td>23</td>\n",
       "      <td>50</td>\n",
       "      <td>52</td>\n",
       "      <td>0</td>\n",
       "      <td>0</td>\n",
       "      <td>19</td>\n",
       "      <td>0</td>\n",
       "      <td>17</td>\n",
       "      <td>12</td>\n",
       "    </tr>\n",
       "    <tr>\n",
       "      <th>a8409691-e826-4639-8ee2-aca9115a6f44</th>\n",
       "      <td>13</td>\n",
       "      <td>6</td>\n",
       "      <td>2</td>\n",
       "      <td>48</td>\n",
       "      <td>0</td>\n",
       "      <td>0</td>\n",
       "      <td>10</td>\n",
       "      <td>0</td>\n",
       "      <td>3</td>\n",
       "      <td>1</td>\n",
       "    </tr>\n",
       "  </tbody>\n",
       "</table>\n",
       "</div>"
      ],
      "text/plain": [
       "                                      about  blog  docs  home  jobs  \\\n",
       "user_id                                                               \n",
       "3c5a5bb8-e855-4bd2-9011-e0604bc60ad3      0     2     0    12     0   \n",
       "30ea7fc7-7dbe-4080-b980-55120503479d     12    10     0    25     2   \n",
       "e78fe4d7-ce68-4e8c-b284-4a52010547db      1     0     0     5     1   \n",
       "bc5cca28-a860-402f-a482-38f78f8305e2      2    23    50    52     0   \n",
       "a8409691-e826-4639-8ee2-aca9115a6f44     13     6     2    48     0   \n",
       "\n",
       "                                      join-slack  modeling  privacy  taxonomy  \\\n",
       "user_id                                                                         \n",
       "3c5a5bb8-e855-4bd2-9011-e0604bc60ad3           0         2        0         0   \n",
       "30ea7fc7-7dbe-4080-b980-55120503479d           0         3        0         7   \n",
       "e78fe4d7-ce68-4e8c-b284-4a52010547db           0         1        0         0   \n",
       "bc5cca28-a860-402f-a482-38f78f8305e2           0        19        0        17   \n",
       "a8409691-e826-4639-8ee2-aca9115a6f44           0        10        0         3   \n",
       "\n",
       "                                      tracking  \n",
       "user_id                                         \n",
       "3c5a5bb8-e855-4bd2-9011-e0604bc60ad3         0  \n",
       "30ea7fc7-7dbe-4080-b980-55120503479d         4  \n",
       "e78fe4d7-ce68-4e8c-b284-4a52010547db         0  \n",
       "bc5cca28-a860-402f-a482-38f78f8305e2        12  \n",
       "a8409691-e826-4639-8ee2-aca9115a6f44         1  "
      ]
     },
     "execution_count": 10,
     "metadata": {},
     "output_type": "execute_result"
    }
   ],
   "source": [
    "X_temp.head()"
   ]
  },
  {
   "cell_type": "markdown",
   "id": "7580bbc6",
   "metadata": {},
   "source": [
    "In our example, we will go into detailed assessment of the model's accuracy, so we won't jumpt to the model results, but instead first look at our data set and prepare a proper data set for the model."
   ]
  },
  {
   "cell_type": "code",
   "execution_count": 11,
   "id": "f4add891",
   "metadata": {},
   "outputs": [],
   "source": [
    "data_set_temp = X_temp.copy()\n",
    "data_set_temp['is_converted'] = y_temp\n",
    "# todo sum axis = 1? now gets all user ids\n",
    "data_set_temp['total_press'] = X_temp.stack().to_frame().reset_index().groupby('user_id').__stacked.sum().to_pandas()"
   ]
  },
  {
   "cell_type": "markdown",
   "id": "892c7955",
   "metadata": {},
   "source": [
    "### Review the dataset"
   ]
  },
  {
   "cell_type": "markdown",
   "id": "8a364490",
   "metadata": {},
   "source": [
    "First the data set has to be prepared. The data set and the relation between predictors and the predicted classes have to fulfill several assumptions, such as there are sample size, linearity between features and log odds and no influential outliers. We look at our data to try to get the best possible data set for the model`\n"
   ]
  },
  {
   "cell_type": "code",
   "execution_count": 12,
   "id": "7e505d25",
   "metadata": {},
   "outputs": [
    {
     "data": {
      "text/html": [
       "<div>\n",
       "<style scoped>\n",
       "    .dataframe tbody tr th:only-of-type {\n",
       "        vertical-align: middle;\n",
       "    }\n",
       "\n",
       "    .dataframe tbody tr th {\n",
       "        vertical-align: top;\n",
       "    }\n",
       "\n",
       "    .dataframe thead th {\n",
       "        text-align: right;\n",
       "    }\n",
       "</style>\n",
       "<table border=\"1\" class=\"dataframe\">\n",
       "  <thead>\n",
       "    <tr style=\"text-align: right;\">\n",
       "      <th></th>\n",
       "      <th>about</th>\n",
       "      <th>blog</th>\n",
       "      <th>docs</th>\n",
       "      <th>home</th>\n",
       "      <th>jobs</th>\n",
       "      <th>join-slack</th>\n",
       "      <th>modeling</th>\n",
       "      <th>privacy</th>\n",
       "      <th>taxonomy</th>\n",
       "      <th>tracking</th>\n",
       "      <th>total_press</th>\n",
       "    </tr>\n",
       "    <tr>\n",
       "      <th>__stat</th>\n",
       "      <th></th>\n",
       "      <th></th>\n",
       "      <th></th>\n",
       "      <th></th>\n",
       "      <th></th>\n",
       "      <th></th>\n",
       "      <th></th>\n",
       "      <th></th>\n",
       "      <th></th>\n",
       "      <th></th>\n",
       "      <th></th>\n",
       "    </tr>\n",
       "  </thead>\n",
       "  <tbody>\n",
       "    <tr>\n",
       "      <th>count</th>\n",
       "      <td>579.00</td>\n",
       "      <td>579.00</td>\n",
       "      <td>579.0</td>\n",
       "      <td>579.00</td>\n",
       "      <td>579.00</td>\n",
       "      <td>579.00</td>\n",
       "      <td>579.00</td>\n",
       "      <td>579.00</td>\n",
       "      <td>579.0</td>\n",
       "      <td>579.00</td>\n",
       "      <td>579.00</td>\n",
       "    </tr>\n",
       "    <tr>\n",
       "      <th>mean</th>\n",
       "      <td>0.46</td>\n",
       "      <td>0.61</td>\n",
       "      <td>0.9</td>\n",
       "      <td>2.41</td>\n",
       "      <td>0.31</td>\n",
       "      <td>0.00</td>\n",
       "      <td>0.62</td>\n",
       "      <td>0.00</td>\n",
       "      <td>0.3</td>\n",
       "      <td>0.53</td>\n",
       "      <td>6.13</td>\n",
       "    </tr>\n",
       "    <tr>\n",
       "      <th>std</th>\n",
       "      <td>1.17</td>\n",
       "      <td>1.51</td>\n",
       "      <td>7.3</td>\n",
       "      <td>5.02</td>\n",
       "      <td>0.96</td>\n",
       "      <td>0.04</td>\n",
       "      <td>4.12</td>\n",
       "      <td>0.04</td>\n",
       "      <td>1.5</td>\n",
       "      <td>3.06</td>\n",
       "      <td>16.10</td>\n",
       "    </tr>\n",
       "    <tr>\n",
       "      <th>min</th>\n",
       "      <td>0.00</td>\n",
       "      <td>0.00</td>\n",
       "      <td>0.0</td>\n",
       "      <td>0.00</td>\n",
       "      <td>0.00</td>\n",
       "      <td>0.00</td>\n",
       "      <td>0.00</td>\n",
       "      <td>0.00</td>\n",
       "      <td>0.0</td>\n",
       "      <td>0.00</td>\n",
       "      <td>1.00</td>\n",
       "    </tr>\n",
       "    <tr>\n",
       "      <th>max</th>\n",
       "      <td>13.00</td>\n",
       "      <td>23.00</td>\n",
       "      <td>146.0</td>\n",
       "      <td>56.00</td>\n",
       "      <td>12.00</td>\n",
       "      <td>1.00</td>\n",
       "      <td>80.00</td>\n",
       "      <td>1.00</td>\n",
       "      <td>17.0</td>\n",
       "      <td>33.00</td>\n",
       "      <td>213.00</td>\n",
       "    </tr>\n",
       "  </tbody>\n",
       "</table>\n",
       "</div>"
      ],
      "text/plain": [
       "         about    blog   docs    home    jobs  join-slack  modeling  privacy  \\\n",
       "__stat                                                                         \n",
       "count   579.00  579.00  579.0  579.00  579.00      579.00    579.00   579.00   \n",
       "mean      0.46    0.61    0.9    2.41    0.31        0.00      0.62     0.00   \n",
       "std       1.17    1.51    7.3    5.02    0.96        0.04      4.12     0.04   \n",
       "min       0.00    0.00    0.0    0.00    0.00        0.00      0.00     0.00   \n",
       "max      13.00   23.00  146.0   56.00   12.00        1.00     80.00     1.00   \n",
       "\n",
       "        taxonomy  tracking  total_press  \n",
       "__stat                                   \n",
       "count      579.0    579.00       579.00  \n",
       "mean         0.3      0.53         6.13  \n",
       "std          1.5      3.06        16.10  \n",
       "min          0.0      0.00         1.00  \n",
       "max         17.0     33.00       213.00  "
      ]
     },
     "execution_count": 12,
     "metadata": {},
     "output_type": "execute_result"
    }
   ],
   "source": [
    "data_set_temp.describe().head()"
   ]
  },
  {
   "cell_type": "code",
   "execution_count": 13,
   "id": "99d41954",
   "metadata": {},
   "outputs": [
    {
     "data": {
      "text/plain": [
       "is_converted\n",
       "False    509\n",
       "True      70\n",
       "Name: value_counts, dtype: int64"
      ]
     },
     "execution_count": 13,
     "metadata": {},
     "output_type": "execute_result"
    }
   ],
   "source": [
    "data_set_temp.is_converted.value_counts().head()"
   ]
  },
  {
   "cell_type": "code",
   "execution_count": 14,
   "id": "032873b3",
   "metadata": {},
   "outputs": [
    {
     "data": {
      "text/plain": [
       "is_converted\n",
       "False    0.879102\n",
       "True     0.120898\n",
       "Name: value_counts, dtype: float64"
      ]
     },
     "execution_count": 14,
     "metadata": {},
     "output_type": "execute_result"
    }
   ],
   "source": [
    "(data_set_temp.is_converted.value_counts()/data_set_temp.is_converted.count()).head()"
   ]
  },
  {
   "cell_type": "markdown",
   "id": "0d1a07fc",
   "metadata": {},
   "source": [
    "We see most variables have a mean of less than zero. We can also look at the distributions of the variables. We split the histograms for each variable by conversion."
   ]
  },
  {
   "cell_type": "code",
   "execution_count": 15,
   "id": "c9949439",
   "metadata": {
    "scrolled": false
   },
   "outputs": [
    {
     "data": {
      "image/png": "[encoded data removed]",
      "text/plain": [
       "<Figure size 1080x2160 with 20 Axes>"
      ]
     },
     "metadata": {
      "needs_background": "light"
     },
     "output_type": "display_data"
    }
   ],
   "source": [
    "figure, axis = plt.subplots(len(X_temp.data_columns), 2, figsize=(15,30))\n",
    "\n",
    "for idx, name in enumerate(X_temp.data_columns):\n",
    "    data_set_temp[data_set_temp.is_converted==True][[name]].plot.hist(bins=20, title='Converted', ax=axis[idx][0])\n",
    "    data_set_temp[data_set_temp.is_converted==False][[name]].plot.hist(bins=20, title='Not converted', ax=axis[idx][1])\n",
    "plt.tight_layout()"
   ]
  },
  {
   "cell_type": "markdown",
   "id": "2053a4a5",
   "metadata": {},
   "source": [
    "To make this problem less, we first drop two variables that have (almost) no distribution at all: privacy and join slack."
   ]
  },
  {
   "cell_type": "code",
   "execution_count": 16,
   "id": "488eead9",
   "metadata": {},
   "outputs": [],
   "source": [
    "data_set_temp = data_set_temp.drop(columns=['privacy','join-slack'])\n",
    "columns_remaining = [x for x in data_set_temp.data_columns if x in X_temp.data_columns]"
   ]
  },
  {
   "cell_type": "markdown",
   "id": "25efdb73",
   "metadata": {},
   "source": [
    "Also, to unskew the data, we drop all users that have visited only one page, as we believe that such cases don't have any explanatory power to the target (it means reaching the goal after one click). \n",
    "\n",
    "Those might, for instance, be users that wanted to go to our github, and this was the quickest way to get there with the results Google provided them. In that case, the intent of the user (something of which we can never be sure), was going to the github page. The features did not convince them. \n",
    "\n",
    "By filtering like this, it is more likely that the used features on our website did, or did not convince a user to check out our product on github. This is exactly what we are after."
   ]
  },
  {
   "cell_type": "code",
   "execution_count": 17,
   "id": "637fb4d4",
   "metadata": {},
   "outputs": [],
   "source": [
    "data_set_temp = data_set_temp[data_set_temp.total_press>1]"
   ]
  },
  {
   "cell_type": "code",
   "execution_count": 18,
   "id": "0d560011",
   "metadata": {},
   "outputs": [
    {
     "data": {
      "text/html": [
       "<div>\n",
       "<style scoped>\n",
       "    .dataframe tbody tr th:only-of-type {\n",
       "        vertical-align: middle;\n",
       "    }\n",
       "\n",
       "    .dataframe tbody tr th {\n",
       "        vertical-align: top;\n",
       "    }\n",
       "\n",
       "    .dataframe thead th {\n",
       "        text-align: right;\n",
       "    }\n",
       "</style>\n",
       "<table border=\"1\" class=\"dataframe\">\n",
       "  <thead>\n",
       "    <tr style=\"text-align: right;\">\n",
       "      <th></th>\n",
       "      <th>about</th>\n",
       "      <th>blog</th>\n",
       "      <th>docs</th>\n",
       "      <th>home</th>\n",
       "      <th>jobs</th>\n",
       "      <th>modeling</th>\n",
       "      <th>taxonomy</th>\n",
       "      <th>tracking</th>\n",
       "      <th>total_press</th>\n",
       "    </tr>\n",
       "    <tr>\n",
       "      <th>__stat</th>\n",
       "      <th></th>\n",
       "      <th></th>\n",
       "      <th></th>\n",
       "      <th></th>\n",
       "      <th></th>\n",
       "      <th></th>\n",
       "      <th></th>\n",
       "      <th></th>\n",
       "      <th></th>\n",
       "    </tr>\n",
       "  </thead>\n",
       "  <tbody>\n",
       "    <tr>\n",
       "      <th>count</th>\n",
       "      <td>362.00</td>\n",
       "      <td>362.00</td>\n",
       "      <td>362.00</td>\n",
       "      <td>362.00</td>\n",
       "      <td>362.00</td>\n",
       "      <td>362.00</td>\n",
       "      <td>362.00</td>\n",
       "      <td>362.00</td>\n",
       "      <td>362.00</td>\n",
       "    </tr>\n",
       "    <tr>\n",
       "      <th>mean</th>\n",
       "      <td>0.70</td>\n",
       "      <td>0.81</td>\n",
       "      <td>1.43</td>\n",
       "      <td>3.48</td>\n",
       "      <td>0.48</td>\n",
       "      <td>0.98</td>\n",
       "      <td>0.48</td>\n",
       "      <td>0.84</td>\n",
       "      <td>9.21</td>\n",
       "    </tr>\n",
       "    <tr>\n",
       "      <th>std</th>\n",
       "      <td>1.42</td>\n",
       "      <td>1.86</td>\n",
       "      <td>9.19</td>\n",
       "      <td>6.09</td>\n",
       "      <td>1.18</td>\n",
       "      <td>5.18</td>\n",
       "      <td>1.88</td>\n",
       "      <td>3.84</td>\n",
       "      <td>19.75</td>\n",
       "    </tr>\n",
       "    <tr>\n",
       "      <th>min</th>\n",
       "      <td>0.00</td>\n",
       "      <td>0.00</td>\n",
       "      <td>0.00</td>\n",
       "      <td>0.00</td>\n",
       "      <td>0.00</td>\n",
       "      <td>0.00</td>\n",
       "      <td>0.00</td>\n",
       "      <td>0.00</td>\n",
       "      <td>2.00</td>\n",
       "    </tr>\n",
       "    <tr>\n",
       "      <th>max</th>\n",
       "      <td>13.00</td>\n",
       "      <td>23.00</td>\n",
       "      <td>146.00</td>\n",
       "      <td>56.00</td>\n",
       "      <td>12.00</td>\n",
       "      <td>80.00</td>\n",
       "      <td>17.00</td>\n",
       "      <td>33.00</td>\n",
       "      <td>213.00</td>\n",
       "    </tr>\n",
       "  </tbody>\n",
       "</table>\n",
       "</div>"
      ],
      "text/plain": [
       "         about    blog    docs    home    jobs  modeling  taxonomy  tracking  \\\n",
       "__stat                                                                         \n",
       "count   362.00  362.00  362.00  362.00  362.00    362.00    362.00    362.00   \n",
       "mean      0.70    0.81    1.43    3.48    0.48      0.98      0.48      0.84   \n",
       "std       1.42    1.86    9.19    6.09    1.18      5.18      1.88      3.84   \n",
       "min       0.00    0.00    0.00    0.00    0.00      0.00      0.00      0.00   \n",
       "max      13.00   23.00  146.00   56.00   12.00     80.00     17.00     33.00   \n",
       "\n",
       "        total_press  \n",
       "__stat               \n",
       "count        362.00  \n",
       "mean           9.21  \n",
       "std           19.75  \n",
       "min            2.00  \n",
       "max          213.00  "
      ]
     },
     "execution_count": 18,
     "metadata": {},
     "output_type": "execute_result"
    }
   ],
   "source": [
    "data_set_temp.describe().head()"
   ]
  },
  {
   "cell_type": "code",
   "execution_count": 19,
   "id": "218150c8",
   "metadata": {
    "scrolled": false
   },
   "outputs": [
    {
     "data": {
      "image/png": "[encoded data removed]",
      "text/plain": [
       "<Figure size 1080x2160 with 16 Axes>"
      ]
     },
     "metadata": {
      "needs_background": "light"
     },
     "output_type": "display_data"
    }
   ],
   "source": [
    "figure, axis = plt.subplots(len(columns_remaining), 2, figsize=(15,30))\n",
    "\n",
    "for idx, name in enumerate(columns_remaining):\n",
    "    data_set_temp[data_set_temp.is_converted==True][[name]].plot.hist(bins=20, title='Converted', ax=axis[idx][0])\n",
    "    data_set_temp[data_set_temp.is_converted==False][[name]].plot.hist(bins=20, title='Not converted', ax=axis[idx][1])\n",
    "plt.tight_layout()"
   ]
  },
  {
   "cell_type": "markdown",
   "id": "6f18d276",
   "metadata": {},
   "source": [
    "Although our feature usage is still skewed, with many users using a feature 0 times, it is better than before. The data set is also smaller, but (slgihtly) more balanced. This can be seen from the (in most cases) higher mean and std as well as the plots."
   ]
  },
  {
   "cell_type": "code",
   "execution_count": 20,
   "id": "e631dacc",
   "metadata": {},
   "outputs": [
    {
     "data": {
      "text/plain": [
       "is_converted\n",
       "False    309\n",
       "True      53\n",
       "Name: value_counts, dtype: int64"
      ]
     },
     "execution_count": 20,
     "metadata": {},
     "output_type": "execute_result"
    }
   ],
   "source": [
    "data_set_temp.is_converted.value_counts().head()"
   ]
  },
  {
   "cell_type": "code",
   "execution_count": 21,
   "id": "ffd356f4",
   "metadata": {},
   "outputs": [
    {
     "data": {
      "text/plain": [
       "is_converted\n",
       "False    0.853591\n",
       "True     0.146409\n",
       "Name: value_counts, dtype: float64"
      ]
     },
     "execution_count": 21,
     "metadata": {},
     "output_type": "execute_result"
    }
   ],
   "source": [
    "(data_set_temp.is_converted.value_counts()/data_set_temp.is_converted.count()).head()"
   ]
  },
  {
   "cell_type": "code",
   "execution_count": 22,
   "id": "d97ea37d",
   "metadata": {},
   "outputs": [],
   "source": [
    "data_set = data_set_temp[columns_remaining+['is_converted']]\n",
    "X = data_set[columns_remaining]\n",
    "y = data_set.is_converted"
   ]
  },
  {
   "cell_type": "markdown",
   "id": "8b5936f0",
   "metadata": {},
   "source": [
    "## Model"
   ]
  },
  {
   "cell_type": "markdown",
   "id": "9c68f2ca",
   "metadata": {},
   "source": [
    "The model of choice is a logistic regression. This model gives a probablity of converting and also lets us interpret the feature coefficients, which is key to our goal."
   ]
  },
  {
   "cell_type": "markdown",
   "id": "4381230f",
   "metadata": {},
   "source": [
    "#### Error metric\n",
    "\n",
    "We choose the error metric. Not overall f1 score, becasue we have an imbalanced dataset. So we look at predicting conversions in particular, while keeping in mind that overall accuracy shouldnt drop too much.\n",
    "\n",
    "One way is to balance data set, but we don't cause we want to use all data.\n",
    "\n",
    "The most important measure of model goodness is AUC. The reason is that we are not so much interested in the actual predicted label, as we are interested in the coefficients of the model. The AUC can then give a good indication of performance compared to a baseline.\n",
    "\n"
   ]
  },
  {
   "cell_type": "markdown",
   "id": "b66080f6",
   "metadata": {},
   "source": [
    "The 'feature_importance_proto' model splits the data in three parts and runs the model in three folds. The results is based on the average of the coeficients of the three runs. The AUC for each model is averaged and interpreted as model goodness."
   ]
  },
  {
   "cell_type": "code",
   "execution_count": 23,
   "id": "04c8d733",
   "metadata": {},
   "outputs": [],
   "source": [
    "model.fit(X, y, seed=.4)"
   ]
  },
  {
   "cell_type": "code",
   "execution_count": 24,
   "id": "d5b67bd5",
   "metadata": {},
   "outputs": [
    {
     "data": {
      "text/html": [
       "<div>\n",
       "<style scoped>\n",
       "    .dataframe tbody tr th:only-of-type {\n",
       "        vertical-align: middle;\n",
       "    }\n",
       "\n",
       "    .dataframe tbody tr th {\n",
       "        vertical-align: top;\n",
       "    }\n",
       "\n",
       "    .dataframe thead th {\n",
       "        text-align: right;\n",
       "    }\n",
       "</style>\n",
       "<table border=\"1\" class=\"dataframe\">\n",
       "  <thead>\n",
       "    <tr style=\"text-align: right;\">\n",
       "      <th></th>\n",
       "      <th>mean</th>\n",
       "      <th>std</th>\n",
       "    </tr>\n",
       "  </thead>\n",
       "  <tbody>\n",
       "    <tr>\n",
       "      <th>about</th>\n",
       "      <td>-0.527056</td>\n",
       "      <td>0.187823</td>\n",
       "    </tr>\n",
       "    <tr>\n",
       "      <th>taxonomy</th>\n",
       "      <td>-0.382087</td>\n",
       "      <td>0.408441</td>\n",
       "    </tr>\n",
       "    <tr>\n",
       "      <th>modeling</th>\n",
       "      <td>-0.177952</td>\n",
       "      <td>0.138875</td>\n",
       "    </tr>\n",
       "    <tr>\n",
       "      <th>docs</th>\n",
       "      <td>-0.153020</td>\n",
       "      <td>0.068133</td>\n",
       "    </tr>\n",
       "    <tr>\n",
       "      <th>tracking</th>\n",
       "      <td>0.062448</td>\n",
       "      <td>0.020743</td>\n",
       "    </tr>\n",
       "    <tr>\n",
       "      <th>home</th>\n",
       "      <td>0.208223</td>\n",
       "      <td>0.028553</td>\n",
       "    </tr>\n",
       "    <tr>\n",
       "      <th>jobs</th>\n",
       "      <td>0.379888</td>\n",
       "      <td>0.121377</td>\n",
       "    </tr>\n",
       "    <tr>\n",
       "      <th>blog</th>\n",
       "      <td>0.492551</td>\n",
       "      <td>0.123766</td>\n",
       "    </tr>\n",
       "  </tbody>\n",
       "</table>\n",
       "</div>"
      ],
      "text/plain": [
       "              mean       std\n",
       "about    -0.527056  0.187823\n",
       "taxonomy -0.382087  0.408441\n",
       "modeling -0.177952  0.138875\n",
       "docs     -0.153020  0.068133\n",
       "tracking  0.062448  0.020743\n",
       "home      0.208223  0.028553\n",
       "jobs      0.379888  0.121377\n",
       "blog      0.492551  0.123766"
      ]
     },
     "execution_count": 24,
     "metadata": {},
     "output_type": "execute_result"
    }
   ],
   "source": [
    "model.results()"
   ]
  },
  {
   "cell_type": "markdown",
   "id": "4191d818",
   "metadata": {},
   "source": [
    "The average of the AUC on the three test sets indicates an ok performance. Therefore the coefficients can be interpreted as giving some explanation to predicting conversion."
   ]
  },
  {
   "cell_type": "code",
   "execution_count": 25,
   "id": "49947877",
   "metadata": {},
   "outputs": [
    {
     "data": {
      "text/html": [
       "<div>\n",
       "<style scoped>\n",
       "    .dataframe tbody tr th:only-of-type {\n",
       "        vertical-align: middle;\n",
       "    }\n",
       "\n",
       "    .dataframe tbody tr th {\n",
       "        vertical-align: top;\n",
       "    }\n",
       "\n",
       "    .dataframe thead th {\n",
       "        text-align: right;\n",
       "    }\n",
       "</style>\n",
       "<table border=\"1\" class=\"dataframe\">\n",
       "  <thead>\n",
       "    <tr style=\"text-align: right;\">\n",
       "      <th></th>\n",
       "      <th>mean</th>\n",
       "      <th>std</th>\n",
       "    </tr>\n",
       "  </thead>\n",
       "  <tbody>\n",
       "    <tr>\n",
       "      <th>about</th>\n",
       "      <td>-0.527056</td>\n",
       "      <td>0.187823</td>\n",
       "    </tr>\n",
       "    <tr>\n",
       "      <th>taxonomy</th>\n",
       "      <td>-0.382087</td>\n",
       "      <td>0.408441</td>\n",
       "    </tr>\n",
       "    <tr>\n",
       "      <th>modeling</th>\n",
       "      <td>-0.177952</td>\n",
       "      <td>0.138875</td>\n",
       "    </tr>\n",
       "    <tr>\n",
       "      <th>docs</th>\n",
       "      <td>-0.153020</td>\n",
       "      <td>0.068133</td>\n",
       "    </tr>\n",
       "    <tr>\n",
       "      <th>tracking</th>\n",
       "      <td>0.062448</td>\n",
       "      <td>0.020743</td>\n",
       "    </tr>\n",
       "    <tr>\n",
       "      <th>home</th>\n",
       "      <td>0.208223</td>\n",
       "      <td>0.028553</td>\n",
       "    </tr>\n",
       "    <tr>\n",
       "      <th>jobs</th>\n",
       "      <td>0.379888</td>\n",
       "      <td>0.121377</td>\n",
       "    </tr>\n",
       "    <tr>\n",
       "      <th>blog</th>\n",
       "      <td>0.492551</td>\n",
       "      <td>0.123766</td>\n",
       "    </tr>\n",
       "  </tbody>\n",
       "</table>\n",
       "</div>"
      ],
      "text/plain": [
       "              mean       std\n",
       "about    -0.527056  0.187823\n",
       "taxonomy -0.382087  0.408441\n",
       "modeling -0.177952  0.138875\n",
       "docs     -0.153020  0.068133\n",
       "tracking  0.062448  0.020743\n",
       "home      0.208223  0.028553\n",
       "jobs      0.379888  0.121377\n",
       "blog      0.492551  0.123766"
      ]
     },
     "execution_count": 25,
     "metadata": {},
     "output_type": "execute_result"
    }
   ],
   "source": [
    "model.results()"
   ]
  },
  {
   "cell_type": "code",
   "execution_count": 26,
   "id": "f1d3059c",
   "metadata": {},
   "outputs": [
    {
     "data": {
      "text/html": [
       "<div>\n",
       "<style scoped>\n",
       "    .dataframe tbody tr th:only-of-type {\n",
       "        vertical-align: middle;\n",
       "    }\n",
       "\n",
       "    .dataframe tbody tr th {\n",
       "        vertical-align: top;\n",
       "    }\n",
       "\n",
       "    .dataframe thead th {\n",
       "        text-align: right;\n",
       "    }\n",
       "</style>\n",
       "<table border=\"1\" class=\"dataframe\">\n",
       "  <thead>\n",
       "    <tr style=\"text-align: right;\">\n",
       "      <th></th>\n",
       "      <th>about</th>\n",
       "      <th>blog</th>\n",
       "      <th>docs</th>\n",
       "      <th>home</th>\n",
       "      <th>jobs</th>\n",
       "      <th>modeling</th>\n",
       "      <th>taxonomy</th>\n",
       "      <th>tracking</th>\n",
       "    </tr>\n",
       "  </thead>\n",
       "  <tbody>\n",
       "    <tr>\n",
       "      <th>0</th>\n",
       "      <td>-0.716767</td>\n",
       "      <td>0.597797</td>\n",
       "      <td>-0.151692</td>\n",
       "      <td>0.181995</td>\n",
       "      <td>0.35433</td>\n",
       "      <td>-0.161922</td>\n",
       "      <td>0.020103</td>\n",
       "      <td>0.038694</td>\n",
       "    </tr>\n",
       "    <tr>\n",
       "      <th>0</th>\n",
       "      <td>-0.34118</td>\n",
       "      <td>0.356199</td>\n",
       "      <td>-0.221807</td>\n",
       "      <td>0.204036</td>\n",
       "      <td>0.512009</td>\n",
       "      <td>-0.047788</td>\n",
       "      <td>-0.369859</td>\n",
       "      <td>0.07167</td>\n",
       "    </tr>\n",
       "    <tr>\n",
       "      <th>0</th>\n",
       "      <td>-0.523219</td>\n",
       "      <td>0.523655</td>\n",
       "      <td>-0.08556</td>\n",
       "      <td>0.238639</td>\n",
       "      <td>0.273325</td>\n",
       "      <td>-0.324147</td>\n",
       "      <td>-0.796505</td>\n",
       "      <td>0.076982</td>\n",
       "    </tr>\n",
       "  </tbody>\n",
       "</table>\n",
       "</div>"
      ],
      "text/plain": [
       "      about      blog      docs      home      jobs  modeling  taxonomy  \\\n",
       "0 -0.716767  0.597797 -0.151692  0.181995   0.35433 -0.161922  0.020103   \n",
       "0  -0.34118  0.356199 -0.221807  0.204036  0.512009 -0.047788 -0.369859   \n",
       "0 -0.523219  0.523655  -0.08556  0.238639  0.273325 -0.324147 -0.796505   \n",
       "\n",
       "   tracking  \n",
       "0  0.038694  \n",
       "0   0.07167  \n",
       "0  0.076982  "
      ]
     },
     "execution_count": 26,
     "metadata": {},
     "output_type": "execute_result"
    }
   ],
   "source": [
    "model.results(full=True)"
   ]
  },
  {
   "cell_type": "markdown",
   "id": "5e37fe0a",
   "metadata": {},
   "source": [
    "The average feature coeficient, for most features is, quite stable and has the same sign for all runs, tested solely on unseen data for model training. The lower the standard deviation, the more stable the coefficient is in the different training runs. Do note that 1/2 of every training set contains the same data."
   ]
  }
 ],
 "metadata": {
  "kernelspec": {
   "display_name": "Python 3 (ipykernel)",
   "language": "python",
   "name": "python3"
  },
  "language_info": {
   "codemirror_mode": {
    "name": "ipython",
    "version": 3
   },
   "file_extension": ".py",
   "mimetype": "text/x-python",
   "name": "python",
   "nbconvert_exporter": "python",
   "pygments_lexer": "ipython3",
   "version": "3.9.4"
  }
 },
 "nbformat": 4,
 "nbformat_minor": 5
}
