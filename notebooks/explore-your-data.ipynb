{
 "cells": [
  {
   "cell_type": "markdown",
   "id": "afb5dddf",
   "metadata": {},
   "source": [
    "This is one of the Objectiv example notebooks. For more examples visit the \n",
    "[example notebooks](https://objectiv.io/docs/modeling/example-notebooks/) section of our docs. The notebooks can run with the demo data set that comes with the our [quickstart](https://objectiv.io/docs/home/quickstart-guide/), but can be used to run on your own collected data as well.\n",
    "\n",
    "All example notebooks are also available in our [quickstart](https://objectiv.io/docs/home/quickstart-guide/). With the quickstart you can spin up a fully functional Objectiv demo pipeline in five minutes. This also allows you to run these notebooks and experiment with them on a demo data set."
   ]
  },
  {
   "cell_type": "markdown",
   "id": "990f0ae2-48cd-4220-8960-844af284fcce",
   "metadata": {
    "tags": []
   },
   "source": [
    "# Explore your data"
   ]
  },
  {
   "cell_type": "markdown",
   "id": "fc19e049-754f-4c0e-8a5a-0ff89bdb7724",
   "metadata": {},
   "source": [
    "In this notebook, we briefly demonstrate how you can easily explore your new data collected with Objectiv."
   ]
  },
  {
   "cell_type": "markdown",
   "id": "277e303e",
   "metadata": {},
   "source": [
    "## Getting started\n",
    "If you are running this example on your own collected data, [see the instructions here](https://objectiv.io/docs/modeling/get-started-in-your-notebook/) on how to setup the database connection and get started in your favorite notebook tool."
   ]
  },
  {
   "cell_type": "markdown",
   "id": "96aeea32",
   "metadata": {},
   "source": [
    "### Import the required packages for this notebook\n",
    "The open model hub package can be installed with `pip install objectiv-modelhub` (this installs Bach as well).  \n",
    "If you are running this notebook from our quickstart, the model hub and Bach are already installed, so you don't have to install it separately."
   ]
  },
  {
   "cell_type": "code",
   "execution_count": null,
   "id": "4bd369f6",
   "metadata": {},
   "outputs": [],
   "source": [
    "from modelhub import ModelHub\n",
    "from bach import display_sql_as_markdown"
   ]
  },
  {
   "cell_type": "markdown",
   "id": "765624df",
   "metadata": {},
   "source": [
    "At first we have to instantiate the Objectiv DataFrame object and the model hub."
   ]
  },
  {
   "cell_type": "code",
   "execution_count": null,
   "id": "3756a344-8072-4d6d-9c86-ea6bb8428ff8",
   "metadata": {},
   "outputs": [],
   "source": [
    "# instantiate the model hub and set the default time aggregation to daily\n",
    "modelhub = ModelHub(time_aggregation='%Y-%m-%d')"
   ]
  },
  {
   "cell_type": "code",
   "execution_count": null,
   "id": "da4ec1a0",
   "metadata": {},
   "outputs": [],
   "source": [
    "# get the Bach DataFrame with Objectiv data\n",
    "df = modelhub.get_objectiv_dataframe(start_date='2022-02-02')"
   ]
  },
  {
   "cell_type": "markdown",
   "id": "5759b781-4d3a-4ca2-9908-1d795507a233",
   "metadata": {},
   "source": [
    "## A first look at the data"
   ]
  },
  {
   "cell_type": "code",
   "execution_count": null,
   "id": "e303e574-09fc-437c-97ba-020392dda222",
   "metadata": {},
   "outputs": [],
   "source": [
    "# have a look at the data\n",
    "df.sort_values(['session_id', 'session_hit_number'], ascending=False).head()"
   ]
  },
  {
   "cell_type": "markdown",
   "id": "4af54249-0722-47a7-8b3d-fd2708935e1f",
   "metadata": {},
   "source": [
    "## Understanding the columns"
   ]
  },
  {
   "cell_type": "code",
   "execution_count": null,
   "id": "027d7433-a68d-494a-a5ff-218cb8d29b40",
   "metadata": {},
   "outputs": [],
   "source": [
    "# show the data type of each column\n",
    "df.dtypes"
   ]
  },
  {
   "cell_type": "markdown",
   "id": "9a8e5561-c497-49c3-a917-a93a4cbd3edc",
   "metadata": {},
   "source": [
    "What is in these columns:\n",
    "\n",
    "* `day`: the day of the session as a date.\n",
    "* `moment`: the exact moment of the event.\n",
    "* `user_id`: the unique identifier of the user based on the cookie.\n",
    "* `global_contexts`: a json-like data column that stores additional information on the event that is logged. This includes data like device data, application data, and cookie information. [See this example notebook](open-taxonomy-how-to.ipynb#global_contexts) for more detailed explanation. \n",
    "* `location_stack`: a json-like data column that stores information on the exact location where the event is triggered in the product's UI. [See this example notebook](open-taxonomy-how-to.ipynb#location_stack-&-global_contexts) for more detailed explanation.\n",
    "* `event_type`: the type of event that is logged.\n",
    "* `stack_event_types`: the parents of the event_type.\n",
    "* `session_id`: a unique incremented integer id for each session. Starts at 1 for the selected data in the DataFrame.\n",
    "* `session_hit_number`: a incremented integer id for each hit in session ordered by moment."
   ]
  },
  {
   "cell_type": "markdown",
   "id": "12d80b53-06c4-4725-9354-1a4384b1ecc3",
   "metadata": {},
   "source": [
    "## Open Analytics Taxonomy\n",
    "\n",
    "To get a good understanding of all the data and what you can get out of it, the open analytics taxonomy documentation is the place to go:\n",
    "* [Event types, the stored data and hierarchy](https://objectiv.io/docs/taxonomy/events).\n",
    "* [Global contexts and what data you can find where](https://objectiv.io/docs/taxonomy/global-contexts).\n",
    "* [Location contexts to capture your product's UI in the data](https://objectiv.io/docs/taxonomy/location-contexts)."
   ]
  },
  {
   "cell_type": "markdown",
   "id": "687e20f8-77e5-4e1e-aa69-7ab384ddd762",
   "metadata": {},
   "source": [
    "## Your first Objectiv event data\n",
    "Before we dig any deeper, let's look at what data Objectiv is now tracking from your product. An easy way to do this, is by looking at it from the 'root locations', these are the main sections in your products UI."
   ]
  },
  {
   "cell_type": "markdown",
   "id": "76e09b04-a0b4-401c-965c-1ece7ae77aac",
   "metadata": {},
   "source": [
    "Before we can do this, we first extract data from the Global Contexts and Location Stack. These columns contain all relevant context about the event. See more detailed examples on how you can do this in [this example notebook](open-taxonomy-how-to.ipynb#location_stack-&-global_contexts)."
   ]
  },
  {
   "cell_type": "code",
   "execution_count": null,
   "id": "ae539d54-bb7d-42ce-94ac-cd52d4179310",
   "metadata": {},
   "outputs": [],
   "source": [
    "# adding specific contexts to the data as columns\n",
    "df['application'] = df.global_contexts.gc.application\n",
    "df['root_location'] = df.location_stack.ls.get_from_context_with_type_series(type='RootLocationContext', key='id')\n",
    "df['path'] = df.global_contexts.gc.get_from_context_with_type_series(type='PathContext', key='id')"
   ]
  },
  {
   "cell_type": "code",
   "execution_count": null,
   "id": "2f442985-f622-404d-8943-30a6f3ac511d",
   "metadata": {},
   "outputs": [],
   "source": [
    "# now, we can easily slice the data using these columns\n",
    "event_data = modelhub.agg.unique_users(df, groupby=['application', 'root_location', 'path', 'event_type'])\n",
    "event_data.sort_values(ascending=False).to_frame().head(50)"
   ]
  },
  {
   "cell_type": "markdown",
   "id": "a1b3f9b1",
   "metadata": {},
   "source": [
    "## Understanding product features"
   ]
  },
  {
   "cell_type": "markdown",
   "id": "d6162142-2cf3-41b8-9f0f-4a7b51e614d8",
   "metadata": {},
   "source": [
    "Objectiv captures the UI of your product in the data using the Location Context. This means, you can easily slice the data on any part of the UI that you're interested in. See [this example notebook](open-taxonomy-how-to.ipynb#location_stack-&-global_contexts). It also means you can make product features very readable and easy to understand for your internal data reports."
   ]
  },
  {
   "cell_type": "code",
   "execution_count": null,
   "id": "4e130b67",
   "metadata": {},
   "outputs": [],
   "source": [
    "# adding the readable product feature name to the data frame as column\n",
    "df['feature_nice_name'] = df.location_stack.ls.nice_name"
   ]
  },
  {
   "cell_type": "code",
   "execution_count": null,
   "id": "3c4ad65e",
   "metadata": {},
   "outputs": [],
   "source": [
    "# now, we can easily look at the data by product feature\n",
    "product_feature_data = modelhub.agg.unique_users(df, groupby=['feature_nice_name', 'event_type'])\n",
    "product_feature_data.sort_values(ascending=False).to_frame().head(50)"
   ]
  },
  {
   "cell_type": "markdown",
   "id": "c4b5b4d2-d72b-4f10-9702-afe22015b74f",
   "metadata": {},
   "source": [
    "## Get the SQL for any analysis"
   ]
  },
  {
   "cell_type": "code",
   "execution_count": null,
   "id": "3503632c-bd17-462f-a7e2-9b27a390c673",
   "metadata": {},
   "outputs": [],
   "source": [
    "# just one analysis as an example, this works for anything you do with Objectiv Bach\n",
    "display_sql_as_markdown(product_feature_data)"
   ]
  },
  {
   "cell_type": "markdown",
   "id": "a6f1c079-659f-4d00-82e2-d05f40252281",
   "metadata": {},
   "source": [
    "## Where to go next\n",
    "Now that you had a first look at your new data collected with Objectiv, the best place to go next is looking at the [basic product analytics example notebook](basic-product-analytics.ipynb). This will help you get familiar product analytics metrics from Objectiv. Straight from your raw data & ready to go."
   ]
  }
 ],
 "metadata": {
  "kernelspec": {
   "display_name": "Python 3 (ipykernel)",
   "language": "python",
   "name": "python3"
  },
  "language_info": {
   "codemirror_mode": {
    "name": "ipython",
    "version": 3
   },
   "file_extension": ".py",
   "mimetype": "text/x-python",
   "name": "python",
   "nbconvert_exporter": "python",
   "pygments_lexer": "ipython3",
   "version": "3.9.10"
  }
 },
 "nbformat": 4,
 "nbformat_minor": 5
}
