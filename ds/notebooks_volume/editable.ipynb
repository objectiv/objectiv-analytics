{
 "cells": [
  {
   "cell_type": "code",
   "execution_count": 4,
   "id": "exotic-bradley",
   "metadata": {
    "scrolled": false
   },
   "outputs": [
    {
     "name": "stdout",
     "output_type": "stream",
     "text": [
      "No data found\n"
     ]
    }
   ],
   "source": [
    "import psycopg2\n",
    "import psycopg2.extras\n",
    "import os\n",
    "import json\n",
    "\n",
    "POSTGRES_USER = os.environ.get('POSTGRES_USER', 'postgres')\n",
    "POSTGRES_PASSWORD = os.environ.get('POSTGRES_PASSWORD', '')\n",
    "POSTGRES_DB = os.environ.get('POSTGRES_DB', 'objectiv')\n",
    "POSTGRES_HOSTNAME = os.environ.get('POSTGRES_HOSTNAME', 'localhost')\n",
    "POSTGRES_PORT = os.environ.get('POSTGRES_PORT', '5432')\n",
    "\n",
    "connection = psycopg2.connect(user=POSTGRES_USER,\n",
    "                            password=POSTGRES_PASSWORD,\n",
    "                            host=POSTGRES_HOSTNAME,\n",
    "                            port=POSTGRES_PORT,\n",
    "                            database=POSTGRES_DB)\n",
    "\n",
    "# This file should be mapped to a volume in the docker container,\n",
    "# so changes to this file from within the container can be persisted.\n",
    "\n",
    "with connection:\n",
    "    with connection.cursor(cursor_factory=psycopg2.extras.DictCursor) as cursor:\n",
    "        query = '''\n",
    "                select *\n",
    "                from data_with_sessions\n",
    "                order by moment desc\n",
    "                limit 1\n",
    "            '''\n",
    "        cursor.execute(query)\n",
    "        row = cursor.fetchone()\n",
    "\n",
    "if not row:\n",
    "    print('No data found')\n",
    "else:\n",
    "    stack = row['value']\n",
    "    print(json.dumps(stack, indent=4))\n",
    "\n",
    "    print(f'Got {stack[\"event\"]} @ {row[\"moment\"]} session_id: {row[\"session_id\"]} hit#: {row[\"session_hit_number\"]}')\n",
    "    for context in stack['global_contexts'] + stack['location_stack']:\n",
    "        print(f'found context: {context[\"_context_type\"]}')"
   ]
  }
 ],
 "metadata": {
  "kernelspec": {
   "display_name": "Python 3",
   "language": "python",
   "name": "python3"
  },
  "language_info": {
   "codemirror_mode": {
    "name": "ipython",
    "version": 3
   },
   "file_extension": ".py",
   "mimetype": "text/x-python",
   "name": "python",
   "nbconvert_exporter": "python",
   "pygments_lexer": "ipython3",
   "version": "3.8.8"
  }
 },
 "nbformat": 4,
 "nbformat_minor": 5
}