{
 "cells": [
  {
   "cell_type": "code",
   "execution_count": 12,
   "metadata": {
    "pycharm": {
     "name": "#%%\n"
    }
   },
   "outputs": [
    {
     "name": "stdout",
     "output_type": "stream",
     "text": [
      "Compiling model.objectiv.stats_per_url_day\n",
      "Compiling model.objectiv.sessionized_data\n",
      "Compiling model.objectiv.event_id_url\n"
     ]
    }
   ],
   "source": [
    "from dbt_utils import get_sql_improved\n",
    "\n",
    "override_vars = {\n",
    "    'stats_per_url_day': {'session_gap_seconds': '1234', 'test_variable': 'X'},\n",
    "    'event_id_url': {'session_gap_seconds': '123', 'test_variable': 'Y'},\n",
    "    'sessionized_data': {'session_gap_seconds': '12', 'test_variable': 'Z'},\n",
    "}\n",
    "sql0 = get_sql_improved(model='stats_per_url_day',\n",
    "                        vars={'feature_table': 'basic_features'},\n",
    "                        depth_ephemeral_models=None,\n",
    "                        model_specific_vars=override_vars)"
   ]
  },
  {
   "cell_type": "code",
   "execution_count": 13,
   "metadata": {
    "pycharm": {
     "name": "#%%\n"
    }
   },
   "outputs": [
    {
     "name": "stdout",
     "output_type": "stream",
     "text": [
      "with __dbt__CTE__extracted_contexts as (\n",
      "SELECT *,\n",
      "        value->>'event' AS event,\n",
      "        JSON_EXTRACT_PATH(value, 'global_contexts') AS global_contexts,\n",
      "        JSON_EXTRACT_PATH(value, 'location_stack') AS location_stack,\n",
      "        JSON_EXTRACT_PATH(value, 'time') AS time,\n",
      "        JSON_EXTRACT_PATH(value, 'events') AS events\n",
      " FROM \"objectiv\".\"public\".\"data\"\n",
      "),  __dbt__CTE__hashed_features as (\n",
      "WITH selected_stacks AS\n",
      "(\n",
      "SELECT   event_id,\n",
      "         Array_to_string(Array_agg(Cast(x AS TEXT)),',') AS stack_selection,\n",
      "         Array_to_json(Array_agg(Row_to_json(x))) as selected_stack_location\n",
      "FROM     __dbt__CTE__extracted_contexts,\n",
      "         json_to_recordset(location_stack) AS x(_context_type text,id text)\n",
      "GROUP BY event_id\n",
      "ORDER BY event_id\n",
      ")\n",
      "SELECT *,\n",
      "       md5(concat(stack_selection,event)) as feature_hash\n",
      "FROM __dbt__CTE__extracted_contexts\n",
      "JOIN selected_stacks USING (event_id)\n",
      "),  __dbt__CTE__sessionized_data as (\n",
      "--\n",
      "--\n",
      "-- TEST VAR: Z - Table \"objectiv\".\"public\".\"sessionized_data\"\n",
      "--\n",
      "--\n",
      "with session_starts as (\n",
      "    select\n",
      "        cookie_id as cookie_id,\n",
      "        event_id as event_id,\n",
      "        coalesce(\n",
      "            extract(\n",
      "                epoch from (moment - lag(moment, 1) over (partition by cookie_id order by moment, event_id))\n",
      "            ) > 12,\n",
      "            true\n",
      "        ) as is_start_of_session,\n",
      "        moment as moment\n",
      "    from __dbt__CTE__hashed_features\n",
      "),\n",
      "session_id_and_start as (\n",
      "    select\n",
      "           -- TODO: do something smart so this can scale.\n",
      "           -- currently we always have to query all data. We want to have consistent session_ids, but don't\n",
      "           -- want to calculate them from scratch every time.\n",
      "           -- uuid_generate_v1() as session_id,\n",
      "           row_number() over (order by moment asc) as session_id,\n",
      "           cookie_id,\n",
      "           event_id,\n",
      "           moment as moment\n",
      "    from session_starts\n",
      "    where is_start_of_session\n",
      ")\n",
      "select\n",
      "        s.session_id as session_id,\n",
      "        row_number() over (partition by s.session_id order by d.moment, d.event_id asc) as session_hit_number,\n",
      "        d.cookie_id as user_id,\n",
      "        d.*\n",
      "from __dbt__CTE__hashed_features as d\n",
      "inner join session_id_and_start as s on s.cookie_id = d.cookie_id and s.moment <= d.moment\n",
      "where not exists (\n",
      "    select *\n",
      "    from session_id_and_start as s2\n",
      "    where\n",
      "      -- a session start for the same cookie\n",
      "          s2.cookie_id = d.cookie_id\n",
      "      and s2.moment <= d.moment\n",
      "      -- and that session is closer to pq.moment than the selected session s\n",
      "      and s2.moment > s.moment\n",
      ")\n",
      "order by session_id, moment\n",
      "),  __dbt__CTE__event_id_url as (\n",
      "\n",
      "--\n",
      "--\n",
      "-- TEST VAR: Y - Table \"objectiv\".\"public\".\"event_id_url\"\n",
      "--\n",
      "--\n",
      "select\n",
      "    event_id,\n",
      "    context ->> 'id' as url\n",
      "from \"objectiv\".\"public\".\"event_id_context_type\"\n",
      "where context_type = 'WebDocumentContext'\n",
      "-- todo: make sure event_id is unique\n",
      ")--\n",
      "-- Per url and day the number of unique users, sessions and events\n",
      "--\n",
      "\n",
      "--\n",
      "--\n",
      "-- TEST VAR: X - Table \"objectiv\".\"public\".\"stats_per_url_day\"\n",
      "--\n",
      "--\n",
      "select\n",
      "       eiu.url,\n",
      "       sd.day,\n",
      "       count(distinct sd.cookie_id) as users,\n",
      "       count(distinct sd.session_id) as sessions,\n",
      "       count(*) as events\n",
      "from __dbt__CTE__sessionized_data as sd\n",
      "inner join __dbt__CTE__event_id_url as eiu on eiu.event_id = sd.event_id\n",
      "group by eiu.url, sd.day\n"
     ]
    }
   ],
   "source": [
    "print(sql0)\n"
   ]
  }
 ],
 "metadata": {
  "kernelspec": {
   "display_name": "Python 3",
   "language": "python",
   "name": "python3"
  },
  "language_info": {
   "codemirror_mode": {
    "name": "ipython",
    "version": 3
   },
   "file_extension": ".py",
   "mimetype": "text/x-python",
   "name": "python",
   "nbconvert_exporter": "python",
   "pygments_lexer": "ipython3",
   "version": "3.8.5"
  }
 },
 "nbformat": 4,
 "nbformat_minor": 1
}