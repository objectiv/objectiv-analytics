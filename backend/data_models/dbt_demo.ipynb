{
 "cells": [
  {
   "cell_type": "code",
   "execution_count": 10,
   "metadata": {
    "pycharm": {
     "name": "#%%\n"
    }
   },
   "outputs": [
    {
     "ename": "TypeError",
     "evalue": "get_sql_improved() got an unexpected keyword argument 'override_vars'",
     "output_type": "error",
     "traceback": [
      "\u001B[0;31m---------------------------------------------------------------------------\u001B[0m",
      "\u001B[0;31mTypeError\u001B[0m                                 Traceback (most recent call last)",
      "\u001B[0;32m<ipython-input-10-e73314a2d94f>\u001B[0m in \u001B[0;36m<module>\u001B[0;34m\u001B[0m\n\u001B[1;32m      2\u001B[0m \u001B[0;34m\u001B[0m\u001B[0m\n\u001B[1;32m      3\u001B[0m \u001B[0moverride_vars\u001B[0m \u001B[0;34m=\u001B[0m \u001B[0;34m{\u001B[0m\u001B[0;34m'stats_per_feature_day'\u001B[0m\u001B[0;34m:\u001B[0m \u001B[0;34m{\u001B[0m\u001B[0;34m'session_gap_seconds'\u001B[0m\u001B[0;34m:\u001B[0m \u001B[0;34m'123'\u001B[0m\u001B[0;34m}\u001B[0m\u001B[0;34m}\u001B[0m\u001B[0;34m\u001B[0m\u001B[0;34m\u001B[0m\u001B[0m\n\u001B[0;32m----> 4\u001B[0;31m sql0 = get_sql_improved(model='stats_per_feature_day',\n\u001B[0m\u001B[1;32m      5\u001B[0m                         \u001B[0mvars\u001B[0m\u001B[0;34m=\u001B[0m\u001B[0;34m{\u001B[0m\u001B[0;34m'feature_table'\u001B[0m\u001B[0;34m:\u001B[0m \u001B[0;34m'basic_features'\u001B[0m\u001B[0;34m}\u001B[0m\u001B[0;34m,\u001B[0m\u001B[0;34m\u001B[0m\u001B[0;34m\u001B[0m\u001B[0m\n\u001B[1;32m      6\u001B[0m                         \u001B[0mdepth_ephemeral_models\u001B[0m\u001B[0;34m=\u001B[0m\u001B[0;32mNone\u001B[0m\u001B[0;34m,\u001B[0m\u001B[0;34m\u001B[0m\u001B[0;34m\u001B[0m\u001B[0m\n",
      "\u001B[0;31mTypeError\u001B[0m: get_sql_improved() got an unexpected keyword argument 'override_vars'"
     ]
    }
   ],
   "source": [
    "from dbt_utils import get_sql_improved\n",
    "\n",
    "override_vars = {'stats_per_feature_day': {'session_gap_seconds': '123'}}\n",
    "sql0 = get_sql_improved(model='stats_per_feature_day',\n",
    "                        vars={'feature_table': 'basic_features'},\n",
    "                        depth_ephemeral_models=None,\n",
    "                        model_specific_vars=override_vars)\n",
    "sql1 = get_sql_improved(model='event_id_url', vars={'feature_table': 'basic_features'})\n",
    "sql2 = get_sql_improved(model='event_id_url', vars={'feature_table': 'basic_features'}, depth_ephemeral_models=3)\n",
    "\n"
   ]
  },
  {
   "cell_type": "code",
   "execution_count": null,
   "outputs": [],
   "source": [
    "#print(sql0)\n"
   ],
   "metadata": {
    "collapsed": false,
    "pycharm": {
     "name": "#%%\n"
    }
   }
  },
  {
   "cell_type": "code",
   "execution_count": null,
   "metadata": {
    "pycharm": {
     "name": "#%%\n"
    }
   },
   "outputs": [],
   "source": [
    "import psycopg2\n",
    "import psycopg2.extras\n",
    "import os\n",
    "POSTGRES_USER =     os.environ.get('POSTGRES_USER',     'objectiv')\n",
    "POSTGRES_PASSWORD = os.environ.get('POSTGRES_PASSWORD', '0bj3ctiv')\n",
    "POSTGRES_DB =       os.environ.get('POSTGRES_DB',       'objectiv')\n",
    "POSTGRES_HOSTNAME = os.environ.get('POSTGRES_HOSTNAME', 'localhost')\n",
    "POSTGRES_PORT =     os.environ.get('POSTGRES_PORT',     '5432')\n",
    "\n",
    "connection = psycopg2.connect(user=POSTGRES_USER,\n",
    "                            password=POSTGRES_PASSWORD,\n",
    "                            host=POSTGRES_HOSTNAME,\n",
    "                            port=POSTGRES_PORT,\n",
    "                            database=POSTGRES_DB)\n",
    "\n",
    "# This file should be mapped to a volume in the docker container,\n",
    "# so changes to this file from within the container can be persisted.\n",
    "\n",
    "with connection:\n",
    "    with connection.cursor(cursor_factory=psycopg2.extras.DictCursor) as cursor:\n",
    "        cursor.execute(sql0)\n",
    "        rows = cursor.fetchall()\n"
   ]
  },
  {
   "cell_type": "code",
   "execution_count": null,
   "metadata": {},
   "outputs": [],
   "source": []
  }
 ],
 "metadata": {
  "kernelspec": {
   "display_name": "Python 3",
   "language": "python",
   "name": "python3"
  },
  "language_info": {
   "codemirror_mode": {
    "name": "ipython",
    "version": 3
   },
   "file_extension": ".py",
   "mimetype": "text/x-python",
   "name": "python",
   "nbconvert_exporter": "python",
   "pygments_lexer": "ipython3",
   "version": "3.8.5"
  }
 },
 "nbformat": 4,
 "nbformat_minor": 1
}