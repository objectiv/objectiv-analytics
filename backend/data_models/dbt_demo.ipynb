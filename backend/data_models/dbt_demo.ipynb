{
 "cells": [
  {
   "cell_type": "code",
   "execution_count": 3,
   "metadata": {
    "pycharm": {
     "name": "#%%\n"
    }
   },
   "outputs": [
    {
     "name": "stdout",
     "output_type": "stream",
     "text": [
      "model.objectiv.event_id_url ephemeral\n",
      "model.objectiv.event_id_context_type ephemeral\n",
      "\n",
      "select\n",
      "    event_id,\n",
      "    context ->> 'id' as url\n",
      "from \"objectiv\".\"public\".\"event_id_context_type\"\n",
      "where context_type = 'WebDocumentContext'\n",
      "-- todo: make sure event_id is unique\n"
     ]
    }
   ],
   "source": [
    "from dbt_utils import get_sql_improved\n",
    "\n",
    "sql0 = get_sql_improved(model='stats_per_feature_day', vars={'feature_table': 'basic_features'})\n",
    "sql1 = get_sql_improved(model='event_id_url', vars={'feature_table': 'basic_features'})\n",
    "sql2 = get_sql_improved(model='event_id_url', vars={'feature_table': 'basic_features'}, depth_ephemeral_models=5)\n",
    "\n",
    "print(sql1)"
   ]
  },
  {
   "cell_type": "code",
   "execution_count": 4,
   "outputs": [
    {
     "name": "stdout",
     "output_type": "stream",
     "text": [
      "\n",
      "with __dbt__CTE__event_id_context_type as (\n",
      "\n",
      "with data as (\n",
      "    select *\n",
      "    from \"objectiv\".\"public\".\"data\"\n",
      "), id_context as (\n",
      "    select data.event_id as event_id,\n",
      "           ctxs.rn as context_number,\n",
      "           ctxs.ctx as context\n",
      "    from data\n",
      "    left join lateral json_array_elements(data.value->'contexts') with ordinality as ctxs (ctx, rn) on true\n",
      "), id_context_type_context as (\n",
      "    select event_id                                              as event_id,\n",
      "           context_number,\n",
      "           json_array_elements_text(context -> '_context_types') as context_type,\n",
      "           context                                               as context\n",
      "    from id_context\n",
      ")\n",
      "select\n",
      "    event_id,\n",
      "    context_number,\n",
      "    context_type,\n",
      "    context\n",
      "from id_context_type_context\n",
      "order by event_id, context_number\n",
      ")select\n",
      "    event_id,\n",
      "    context ->> 'id' as url\n",
      "from __dbt__CTE__event_id_context_type\n",
      "where context_type = 'WebDocumentContext'\n",
      "-- todo: make sure event_id is unique\n"
     ]
    }
   ],
   "source": [
    "print(sql2)"
   ],
   "metadata": {
    "collapsed": false,
    "pycharm": {
     "name": "#%%\n"
    }
   }
  },
  {
   "cell_type": "code",
   "execution_count": 2,
   "metadata": {
    "pycharm": {
     "name": "#%%\n"
    }
   },
   "outputs": [],
   "source": [
    "import psycopg2\n",
    "import psycopg2.extras\n",
    "import os\n",
    "POSTGRES_USER =     os.environ.get('POSTGRES_USER',     'objectiv')\n",
    "POSTGRES_PASSWORD = os.environ.get('POSTGRES_PASSWORD', '0bj3ctiv')\n",
    "POSTGRES_DB =       os.environ.get('POSTGRES_DB',       'objectiv')\n",
    "POSTGRES_HOSTNAME = os.environ.get('POSTGRES_HOSTNAME', 'localhost')\n",
    "POSTGRES_PORT =     os.environ.get('POSTGRES_PORT',     '5432')\n",
    "\n",
    "connection = psycopg2.connect(user=POSTGRES_USER,\n",
    "                            password=POSTGRES_PASSWORD,\n",
    "                            host=POSTGRES_HOSTNAME,\n",
    "                            port=POSTGRES_PORT,\n",
    "                            database=POSTGRES_DB)\n",
    "\n",
    "# This file should be mapped to a volume in the docker container,\n",
    "# so changes to this file from within the container can be persisted.\n",
    "\n",
    "with connection:\n",
    "    with connection.cursor(cursor_factory=psycopg2.extras.DictCursor) as cursor:\n",
    "        cursor.execute(sql0)\n",
    "        rows = cursor.fetchall()\n"
   ]
  },
  {
   "cell_type": "code",
   "execution_count": 3,
   "metadata": {
    "pycharm": {
     "name": "#%%\n"
    }
   },
   "outputs": [
    {
     "data": {
      "text/plain": [
       "[['Pretty(NavigationContext,navigation),(OverlayContext,navigation-drawer),(WebDocumentContext,rod-web)',\n",
       "  datetime.date(2021, 5, 6),\n",
       "  1,\n",
       "  1,\n",
       "  1],\n",
       " ['Pretty(NavigationContext,navigation),(WebDocumentContext,rod-web)',\n",
       "  datetime.date(2021, 5, 6),\n",
       "  1,\n",
       "  1,\n",
       "  1],\n",
       " ['Pretty(SectionContext,home),(SectionContext,for-you),(ButtonContext,prev),(WebDocumentContext,rod-web)',\n",
       "  datetime.date(2021, 5, 6),\n",
       "  1,\n",
       "  2,\n",
       "  5],\n",
       " ['Pretty(SectionContext,home),(SectionContext,for-you),(ItemContext,5o7WEv5Q5ZE),(WebDocumentContext,rod-web)',\n",
       "  datetime.date(2021, 5, 6),\n",
       "  1,\n",
       "  2,\n",
       "  3],\n",
       " ['Pretty(SectionContext,home),(SectionContext,for-you),(ItemContext,BeyEGebJ1l4),(WebDocumentContext,rod-web)',\n",
       "  datetime.date(2021, 5, 6),\n",
       "  1,\n",
       "  2,\n",
       "  3],\n",
       " ['Pretty(SectionContext,home),(SectionContext,for-you),(ItemContext,BodkSiBOw3A),(WebDocumentContext,rod-web)',\n",
       "  datetime.date(2021, 5, 6),\n",
       "  1,\n",
       "  2,\n",
       "  3],\n",
       " ['Pretty(SectionContext,home),(SectionContext,for-you),(ItemContext,cc91EfoBh8A),(WebDocumentContext,rod-web)',\n",
       "  datetime.date(2021, 5, 6),\n",
       "  1,\n",
       "  2,\n",
       "  3],\n",
       " ['Pretty(SectionContext,home),(SectionContext,for-you),(ItemContext,dQw4w9WgXcQ),(WebDocumentContext,rod-web)',\n",
       "  datetime.date(2021, 5, 6),\n",
       "  1,\n",
       "  3,\n",
       "  4],\n",
       " ['Pretty(SectionContext,home),(SectionContext,for-you),(ItemContext,DqZS89jFCFg),(WebDocumentContext,rod-web)',\n",
       "  datetime.date(2021, 5, 6),\n",
       "  1,\n",
       "  3,\n",
       "  4],\n",
       " ['Pretty(SectionContext,home),(SectionContext,for-you),(ItemContext,eYuUAGXN0KM),(WebDocumentContext,rod-web)',\n",
       "  datetime.date(2021, 5, 6),\n",
       "  1,\n",
       "  3,\n",
       "  4],\n",
       " ['Pretty(SectionContext,home),(SectionContext,for-you),(ItemContext,yBwD4iYcWC4),(WebDocumentContext,rod-web)',\n",
       "  datetime.date(2021, 5, 6),\n",
       "  1,\n",
       "  2,\n",
       "  4],\n",
       " ['Pretty(SectionContext,home),(SectionContext,for-you),(ItemContext,yPYZpwSpKmA),(WebDocumentContext,rod-web)',\n",
       "  datetime.date(2021, 5, 6),\n",
       "  1,\n",
       "  2,\n",
       "  4],\n",
       " ['Pretty(SectionContext,home),(SectionContext,for-you),(ItemContext,ZVshSddRqAc),(WebDocumentContext,rod-web)',\n",
       "  datetime.date(2021, 5, 6),\n",
       "  1,\n",
       "  3,\n",
       "  4],\n",
       " ['Pretty(SectionContext,home),(SectionContext,for-you),(WebDocumentContext,rod-web)',\n",
       "  datetime.date(2021, 5, 6),\n",
       "  1,\n",
       "  1,\n",
       "  1],\n",
       " ['Pretty(SectionContext,home),(SectionContext,new),(ItemContext,BeyEGebJ1l4),(WebDocumentContext,rod-web)',\n",
       "  datetime.date(2021, 5, 6),\n",
       "  1,\n",
       "  1,\n",
       "  1],\n",
       " ['Pretty(SectionContext,home),(SectionContext,new),(ItemContext,BodkSiBOw3A),(WebDocumentContext,rod-web)',\n",
       "  datetime.date(2021, 5, 6),\n",
       "  1,\n",
       "  1,\n",
       "  1],\n",
       " ['Pretty(SectionContext,home),(SectionContext,new),(ItemContext,cc91EfoBh8A),(WebDocumentContext,rod-web)',\n",
       "  datetime.date(2021, 5, 6),\n",
       "  1,\n",
       "  1,\n",
       "  1],\n",
       " ['Pretty(SectionContext,home),(SectionContext,new),(ItemContext,DqZS89jFCFg),(WebDocumentContext,rod-web)',\n",
       "  datetime.date(2021, 5, 6),\n",
       "  1,\n",
       "  1,\n",
       "  1],\n",
       " ['Pretty(SectionContext,home),(SectionContext,new),(WebDocumentContext,rod-web)',\n",
       "  datetime.date(2021, 5, 6),\n",
       "  1,\n",
       "  1,\n",
       "  1],\n",
       " ['Pretty(SectionContext,home),(SectionContext,top-10),(ButtonContext,prev),(WebDocumentContext,rod-web)',\n",
       "  datetime.date(2021, 5, 6),\n",
       "  1,\n",
       "  1,\n",
       "  1],\n",
       " ['Pretty(SectionContext,home),(SectionContext,top-10),(ItemContext,BodkSiBOw3A),(WebDocumentContext,rod-web)',\n",
       "  datetime.date(2021, 5, 6),\n",
       "  1,\n",
       "  1,\n",
       "  1],\n",
       " ['Pretty(SectionContext,home),(SectionContext,top-10),(ItemContext,cc91EfoBh8A),(WebDocumentContext,rod-web)',\n",
       "  datetime.date(2021, 5, 6),\n",
       "  1,\n",
       "  1,\n",
       "  1],\n",
       " ['Pretty(SectionContext,home),(SectionContext,top-10),(ItemContext,DqZS89jFCFg),(WebDocumentContext,rod-web)',\n",
       "  datetime.date(2021, 5, 6),\n",
       "  1,\n",
       "  2,\n",
       "  2],\n",
       " ['Pretty(SectionContext,home),(SectionContext,top-10),(ItemContext,eYuUAGXN0KM),(WebDocumentContext,rod-web)',\n",
       "  datetime.date(2021, 5, 6),\n",
       "  1,\n",
       "  1,\n",
       "  1],\n",
       " ['Pretty(SectionContext,home),(SectionContext,top-10),(ItemContext,yBwD4iYcWC4),(WebDocumentContext,rod-web)',\n",
       "  datetime.date(2021, 5, 6),\n",
       "  1,\n",
       "  1,\n",
       "  1],\n",
       " ['Pretty(SectionContext,home),(SectionContext,top-10),(ItemContext,yPYZpwSpKmA),(WebDocumentContext,rod-web)',\n",
       "  datetime.date(2021, 5, 6),\n",
       "  1,\n",
       "  2,\n",
       "  2],\n",
       " ['Pretty(SectionContext,home),(SectionContext,top-10),(ItemContext,ZVshSddRqAc),(WebDocumentContext,rod-web)',\n",
       "  datetime.date(2021, 5, 6),\n",
       "  1,\n",
       "  2,\n",
       "  2],\n",
       " ['Pretty(SectionContext,home),(SectionContext,top-10),(WebDocumentContext,rod-web)',\n",
       "  datetime.date(2021, 5, 6),\n",
       "  1,\n",
       "  1,\n",
       "  1],\n",
       " ['Pretty(SectionContext,home),(SectionContext,yep),(ItemContext,5o7WEv5Q5ZE),(WebDocumentContext,rod-web)',\n",
       "  datetime.date(2021, 5, 6),\n",
       "  1,\n",
       "  1,\n",
       "  1],\n",
       " ['Pretty(SectionContext,home),(SectionContext,yep),(ItemContext,DqZS89jFCFg),(WebDocumentContext,rod-web)',\n",
       "  datetime.date(2021, 5, 6),\n",
       "  1,\n",
       "  1,\n",
       "  1],\n",
       " ['Pretty(SectionContext,home),(SectionContext,yep),(ItemContext,eYuUAGXN0KM),(WebDocumentContext,rod-web)',\n",
       "  datetime.date(2021, 5, 6),\n",
       "  1,\n",
       "  1,\n",
       "  1],\n",
       " ['Pretty(SectionContext,home),(SectionContext,yep),(ItemContext,yPYZpwSpKmA),(WebDocumentContext,rod-web)',\n",
       "  datetime.date(2021, 5, 6),\n",
       "  1,\n",
       "  1,\n",
       "  1],\n",
       " ['Pretty(SectionContext,home),(SectionContext,yep),(WebDocumentContext,rod-web)',\n",
       "  datetime.date(2021, 5, 6),\n",
       "  1,\n",
       "  1,\n",
       "  1],\n",
       " ['Pretty(SectionContext,home),(WebDocumentContext,rod-web)',\n",
       "  datetime.date(2021, 5, 6),\n",
       "  1,\n",
       "  1,\n",
       "  1],\n",
       " ['Pretty(WebDocumentContext,rod-web)', datetime.date(2021, 5, 6), 1, 1, 3]]"
      ]
     },
     "execution_count": 3,
     "metadata": {},
     "output_type": "execute_result"
    }
   ],
   "source": [
    "rows"
   ]
  },
  {
   "cell_type": "code",
   "execution_count": 4,
   "metadata": {
    "pycharm": {
     "name": "#%%\n"
    }
   },
   "outputs": [
    {
     "data": {
      "text/plain": [
       "'with __dbt__CTE__extracted_contexts as (\\nSELECT *,\\n        value->>\\'event\\' AS event,\\n        JSON_EXTRACT_PATH(value, \\'global_contexts\\') AS global_contexts,\\n        JSON_EXTRACT_PATH(value, \\'location_stack\\') AS location_stack,\\n        JSON_EXTRACT_PATH(value, \\'time\\') AS time,\\n        JSON_EXTRACT_PATH(value, \\'events\\') AS events\\n FROM \"objectiv\".\"public\".\"data\"\\n),  __dbt__CTE__hashed_features as (\\nWITH selected_stacks AS\\n(\\nSELECT   event_id,\\n         Array_to_string(Array_agg(Cast(x AS TEXT)),\\',\\') AS stack_selection,\\n         Array_to_json(Array_agg(Row_to_json(x))) as selected_stack_location\\nFROM     __dbt__CTE__extracted_contexts,\\n         json_to_recordset(location_stack) AS x(_context_type text,id text)\\nGROUP BY event_id\\nORDER BY event_id\\n)\\nSELECT *,\\n       md5(concat(stack_selection,event)) as feature_hash\\nFROM __dbt__CTE__extracted_contexts\\nJOIN selected_stacks USING (event_id)\\n),  __dbt__CTE__sessionized_data as (\\nwith session_starts as (\\n    select\\n        cookie_id as cookie_id,\\n        event_id as event_id,\\n        coalesce(\\n            extract(\\n                epoch from (moment - lag(moment, 1) over (partition by cookie_id order by moment, event_id))\\n            ) > 5,\\n            true\\n        ) as is_start_of_session,\\n        moment as moment\\n    from __dbt__CTE__hashed_features\\n),\\nsession_id_and_start as (\\n    select\\n           -- TODO: do something smart so this can scale.\\n           -- currently we always have to query all data. We want to have consistent session_ids, but don\\'t\\n           -- want to calculate them from scratch every time.\\n           -- uuid_generate_v1() as session_id,\\n           row_number() over (order by moment asc) as session_id,\\n           cookie_id,\\n           event_id,\\n           moment as moment\\n    from session_starts\\n    where is_start_of_session\\n)\\nselect\\n        s.session_id as session_id,\\n        row_number() over (partition by s.session_id order by d.moment, d.event_id asc) as session_hit_number,\\n        d.cookie_id as user_id,\\n        d.*\\nfrom __dbt__CTE__hashed_features as d\\ninner join session_id_and_start as s on s.cookie_id = d.cookie_id and s.moment <= d.moment\\nwhere not exists (\\n    select *\\n    from session_id_and_start as s2\\n    where\\n      -- a session start for the same cookie\\n          s2.cookie_id = d.cookie_id\\n      and s2.moment <= d.moment\\n      -- and that session is closer to pq.moment than the selected session s\\n      and s2.moment > s.moment\\n)\\norder by session_id, moment\\n),  __dbt__CTE__basic_features as (\\nSELECT DISTINCT feature_hash,\\n                stack_selection as feature_name,\\n                \\'Pretty\\' || stack_selection as feature_pretty_name\\n-- TODO, get this from a variable to use dynamic feature selection\\nFROM __dbt__CTE__hashed_features\\n)--\\n-- Per feature and day the number of unique users, sessions and events\\n--\\nselect\\n       f.feature_pretty_name,\\n       sd.day,\\n       count(distinct sd.user_id) as users,\\n       count(distinct sd.session_id) as sessions,\\n       count(*) as events\\nfrom __dbt__CTE__sessionized_data as sd\\ninner join __dbt__CTE__basic_features as f using (feature_hash)\\ngroup by f.feature_pretty_name, sd.day'"
      ]
     },
     "execution_count": 4,
     "metadata": {},
     "output_type": "execute_result"
    }
   ],
   "source": [
    "sql\n"
   ]
  },
  {
   "cell_type": "code",
   "execution_count": 4,
   "metadata": {
    "pycharm": {
     "name": "#%%\n"
    }
   },
   "outputs": [],
   "source": []
  },
  {
   "cell_type": "code",
   "execution_count": 4,
   "metadata": {},
   "outputs": [],
   "source": []
  }
 ],
 "metadata": {
  "kernelspec": {
   "display_name": "Python 3",
   "language": "python",
   "name": "python3"
  },
  "language_info": {
   "codemirror_mode": {
    "name": "ipython",
    "version": 3
   },
   "file_extension": ".py",
   "mimetype": "text/x-python",
   "name": "python",
   "nbconvert_exporter": "python",
   "pygments_lexer": "ipython3",
   "version": "3.8.5"
  }
 },
 "nbformat": 4,
 "nbformat_minor": 1
}