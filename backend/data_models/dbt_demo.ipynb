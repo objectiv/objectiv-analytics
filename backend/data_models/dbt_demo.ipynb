{
 "cells": [
  {
   "cell_type": "code",
   "execution_count": 8,
   "metadata": {
    "pycharm": {
     "name": "#%%\n"
    }
   },
   "outputs": [],
   "source": [
    "from dbt_utils import get_sql_improved\n",
    "\n",
    "sql0 = get_sql_improved(model='stats_per_feature_day', vars={'feature_table': 'basic_features'}, depth_ephemeral_models=None)\n",
    "sql1 = get_sql_improved(model='event_id_url', vars={'feature_table': 'basic_features'})\n",
    "sql2 = get_sql_improved(model='event_id_url', vars={'feature_table': 'basic_features'}, depth_ephemeral_models=3)\n",
    "\n"
   ]
  },
  {
   "cell_type": "code",
   "execution_count": null,
   "metadata": {},
   "outputs": [],
   "source": []
  },
  {
   "cell_type": "code",
   "execution_count": null,
   "metadata": {
    "pycharm": {
     "name": "#%%\n"
    }
   },
   "outputs": [],
   "source": []
  },
  {
   "cell_type": "code",
   "execution_count": 17,
   "metadata": {
    "pycharm": {
     "name": "#%%\n"
    }
   },
   "outputs": [],
   "source": [
    "import psycopg2\n",
    "import psycopg2.extras\n",
    "import os\n",
    "POSTGRES_USER =     os.environ.get('POSTGRES_USER',     'objectiv')\n",
    "POSTGRES_PASSWORD = os.environ.get('POSTGRES_PASSWORD', '0bj3ctiv')\n",
    "POSTGRES_DB =       os.environ.get('POSTGRES_DB',       'objectiv')\n",
    "POSTGRES_HOSTNAME = os.environ.get('POSTGRES_HOSTNAME', 'localhost')\n",
    "POSTGRES_PORT =     os.environ.get('POSTGRES_PORT',     '5432')\n",
    "\n",
    "connection = psycopg2.connect(user=POSTGRES_USER,\n",
    "                            password=POSTGRES_PASSWORD,\n",
    "                            host=POSTGRES_HOSTNAME,\n",
    "                            port=POSTGRES_PORT,\n",
    "                            database=POSTGRES_DB)\n",
    "\n",
    "# This file should be mapped to a volume in the docker container,\n",
    "# so changes to this file from within the container can be persisted.\n",
    "\n",
    "with connection:\n",
    "    with connection.cursor(cursor_factory=psycopg2.extras.DictCursor) as cursor:\n",
    "        cursor.execute(sql0)\n",
    "        rows = cursor.fetchall()\n"
   ]
  },
  {
   "cell_type": "code",
   "execution_count": null,
   "metadata": {
    "pycharm": {
     "name": "#%%\n"
    }
   },
   "outputs": [],
   "source": []
  },
  {
   "cell_type": "code",
   "execution_count": null,
   "metadata": {
    "pycharm": {
     "name": "#%%\n"
    }
   },
   "outputs": [],
   "source": []
  },
  {
   "cell_type": "code",
   "execution_count": 4,
   "metadata": {
    "pycharm": {
     "name": "#%%\n"
    }
   },
   "outputs": [],
   "source": []
  },
  {
   "cell_type": "code",
   "execution_count": 4,
   "metadata": {},
   "outputs": [],
   "source": []
  }
 ],
 "metadata": {
  "kernelspec": {
   "display_name": "Python 3",
   "language": "python",
   "name": "python3"
  },
  "language_info": {
   "codemirror_mode": {
    "name": "ipython",
    "version": 3
   },
   "file_extension": ".py",
   "mimetype": "text/x-python",
   "name": "python",
   "nbconvert_exporter": "python",
   "pygments_lexer": "ipython3",
   "version": "3.8.5"
  }
 },
 "nbformat": 4,
 "nbformat_minor": 1
}
