{
 "cells": [
  {
   "cell_type": "code",
   "execution_count": 3,
   "metadata": {
    "pycharm": {
     "name": "#%%\n"
    }
   },
   "outputs": [],
   "source": [
    "from dbt_utils import get_sql\n",
    "sql = get_sql(model='stats_per_feature_day', vars={'feature_table': 'basic_features'})\n",
    "#print(sql)"
   ]
  },
  {
   "cell_type": "code",
   "execution_count": 4,
   "metadata": {
    "pycharm": {
     "name": "#%%\n"
    }
   },
   "outputs": [],
   "source": [
    "import psycopg2\n",
    "import psycopg2.extras\n",
    "import os\n",
    "POSTGRES_USER =     os.environ.get('POSTGRES_USER',     'objectiv')\n",
    "POSTGRES_PASSWORD = os.environ.get('POSTGRES_PASSWORD', '0bj3ctiv')\n",
    "POSTGRES_DB =       os.environ.get('POSTGRES_DB',       'objectiv')\n",
    "POSTGRES_HOSTNAME = os.environ.get('POSTGRES_HOSTNAME', 'localhost')\n",
    "POSTGRES_PORT =     os.environ.get('POSTGRES_PORT',     '5432')\n",
    "\n",
    "connection = psycopg2.connect(user=POSTGRES_USER,\n",
    "                            password=POSTGRES_PASSWORD,\n",
    "                            host=POSTGRES_HOSTNAME,\n",
    "                            port=POSTGRES_PORT,\n",
    "                            database=POSTGRES_DB)\n",
    "\n",
    "# This file should be mapped to a volume in the docker container,\n",
    "# so changes to this file from within the container can be persisted.\n",
    "\n",
    "with connection:\n",
    "    with connection.cursor(cursor_factory=psycopg2.extras.DictCursor) as cursor:\n",
    "        cursor.execute(sql)\n",
    "        rows = cursor.fetchall()\n"
   ]
  },
  {
   "cell_type": "code",
   "execution_count": 8,
   "metadata": {
    "pycharm": {
     "name": "#%%\n"
    }
   },
   "outputs": [],
   "source": [
    "rows"
   ]
  },
  {
   "cell_type": "code",
   "execution_count": 9,
   "metadata": {
    "pycharm": {
     "name": "#%%\n"
    }
   },
   "outputs": [],
   "source": [
    "sql\n"
   ]
  },
  {
   "cell_type": "code",
   "execution_count": null,
   "metadata": {
    "pycharm": {
     "name": "#%%\n"
    }
   },
   "outputs": [],
   "source": []
  },
  {
   "cell_type": "code",
   "execution_count": null,
   "metadata": {},
   "outputs": [],
   "source": []
  }
 ],
 "metadata": {
  "kernelspec": {
   "display_name": "Python 3",
   "language": "python",
   "name": "python3"
  },
  "language_info": {
   "codemirror_mode": {
    "name": "ipython",
    "version": 3
   },
   "file_extension": ".py",
   "mimetype": "text/x-python",
   "name": "python",
   "nbconvert_exporter": "python",
   "pygments_lexer": "ipython3",
   "version": "3.8.5"
  }
 },
 "nbformat": 4,
 "nbformat_minor": 1
}