{
 "cells": [
  {
   "cell_type": "code",
   "execution_count": 10,
   "metadata": {
    "pycharm": {
     "name": "#%%\n"
    }
   },
   "outputs": [
    {
     "data": {
      "text/plain": [
       "True"
      ]
     },
     "execution_count": 10,
     "metadata": {},
     "output_type": "execute_result"
    }
   ],
   "source": [
    "from dbt import tracking\n",
    "from dbt.adapters.factory import get_adapter\n",
    "from dbt.tracking import User\n",
    "\n",
    "from dbt_utils import get_sql, get_compile_task, get_sql_improved\n",
    "tracking.active_user = User('')\n",
    "tracking.active_user.do_not_track = True\n",
    "\n",
    "#sql = get_sql(model='stats_per_feature_day', vars={'feature_table': 'basic_features'})\n",
    "#sql2 = get_sql_improved(model='stats_per_feature_day', vars={'feature_table': 'basic_features'})\n",
    "ctask = get_compile_task(model='stats_per_feature_day', vars={'feature_table': 'basic_features'})\n",
    "ctask.config.target_path\n",
    "#ctask.graph is None\n",
    "ctask.manifest is None\n",
    "#graph_queue = ctask.get_graph_queue()\n",
    "#print(sql)"
   ]
  },
  {
   "cell_type": "code",
   "execution_count": 14,
   "metadata": {},
   "outputs": [],
   "source": [
    "ctask.load_manifest()\n",
    "ctask.compile_manifest()\n",
    "manifest = ctask.manifest\n",
    "#ctask.graph\n",
    "\n",
    "# graph = ctask.graph.graph\n",
    "# node_id = 'model.objectiv.stats_per_feature_day'\n",
    "# z = manifest.nodes['model.objectiv.stats_per_feature_day']\n",
    "# #graph.manifest.nodes\n",
    "# #x= graph.pred[node_id]\n",
    "adapter = get_adapter(ctask.config)\n",
    "compiler = adapter.get_compiler()\n",
    "# selector = ctask.get_node_selector()\n",
    "# spec = ctask.get_selection_spec()"
   ]
  },
  {
   "cell_type": "code",
   "execution_count": 15,
   "metadata": {},
   "outputs": [],
   "source": [
    "graph_queue = ctask.get_graph_queue()\n",
    "#graph_queue.get_selected_nodes()\n",
    "# [graph_queue.get().unique_id\n",
    "# ,graph_queue.get().unique_id\n",
    "# ,graph_queue.get().unique_id\n",
    "# ,graph_queue.get().unique_id\n",
    "# ,graph_queue.get().unique_id]\n",
    "\n",
    "result = []\n",
    "while not graph_queue.empty():\n",
    "    node = graph_queue.get()\n",
    "    result.append(node.unique_id)\n",
    "#'model.objectiv.stats_per_feature_day'\n",
    "result\n",
    "y = compiler.compile_node(node=node, manifest=manifest, extra_context=None, write=False)\n",
    "sql = y.compiled_sql"
   ]
  },
  {
   "cell_type": "code",
   "execution_count": 16,
   "metadata": {
    "pycharm": {
     "name": "#%%\n"
    }
   },
   "outputs": [],
   "source": [
    "import psycopg2\n",
    "import psycopg2.extras\n",
    "import os\n",
    "POSTGRES_USER =     os.environ.get('POSTGRES_USER',     'objectiv')\n",
    "POSTGRES_PASSWORD = os.environ.get('POSTGRES_PASSWORD', '0bj3ctiv')\n",
    "POSTGRES_DB =       os.environ.get('POSTGRES_DB',       'objectiv')\n",
    "POSTGRES_HOSTNAME = os.environ.get('POSTGRES_HOSTNAME', 'localhost')\n",
    "POSTGRES_PORT =     os.environ.get('POSTGRES_PORT',     '5432')\n",
    "\n",
    "connection = psycopg2.connect(user=POSTGRES_USER,\n",
    "                            password=POSTGRES_PASSWORD,\n",
    "                            host=POSTGRES_HOSTNAME,\n",
    "                            port=POSTGRES_PORT,\n",
    "                            database=POSTGRES_DB)\n",
    "\n",
    "# This file should be mapped to a volume in the docker container,\n",
    "# so changes to this file from within the container can be persisted.\n",
    "\n",
    "with connection:\n",
    "    with connection.cursor(cursor_factory=psycopg2.extras.DictCursor) as cursor:\n",
    "        cursor.execute(sql)\n",
    "        rows = cursor.fetchall()\n"
   ]
  },
  {
   "cell_type": "code",
   "execution_count": 18,
   "metadata": {
    "pycharm": {
     "name": "#%%\n"
    }
   },
   "outputs": [],
   "source": [
    "#rows"
   ]
  },
  {
   "cell_type": "code",
   "execution_count": 19,
   "metadata": {
    "pycharm": {
     "name": "#%%\n"
    }
   },
   "outputs": [],
   "source": [
    "#sql"
   ]
  },
  {
   "cell_type": "code",
   "execution_count": 4,
   "metadata": {
    "pycharm": {
     "name": "#%%\n"
    }
   },
   "outputs": [],
   "source": []
  },
  {
   "cell_type": "code",
   "execution_count": 4,
   "metadata": {},
   "outputs": [],
   "source": []
  }
 ],
 "metadata": {
  "kernelspec": {
   "display_name": "Python 3",
   "language": "python",
   "name": "python3"
  },
  "language_info": {
   "codemirror_mode": {
    "name": "ipython",
    "version": 3
   },
   "file_extension": ".py",
   "mimetype": "text/x-python",
   "name": "python",
   "nbconvert_exporter": "python",
   "pygments_lexer": "ipython3",
   "version": "3.8.5"
  }
 },
 "nbformat": 4,
 "nbformat_minor": 1
}
