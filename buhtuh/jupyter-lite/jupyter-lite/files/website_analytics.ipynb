{
 "cells": [
  {
   "cell_type": "code",
   "execution_count": 1,
   "id": "8229aa62",
   "metadata": {},
   "outputs": [],
   "source": [
    "import sys\n",
    "import datetime\n",
    "import plotly\n",
    "import plotly.graph_objects as go\n",
    "import sqlalchemy\n",
    "\n",
    "from buhtuh.pandasql import BuhTuhDataFrame\n",
    "\n",
    "# enable these once we visualize sankey charts\n",
    "# from IPython.core.display import display, HTML\n",
    "# display(HTML(\"<style>.container { width:100% !important; }</style>\"))\n",
    "# import pandas as pd"
   ]
  },
  {
   "cell_type": "markdown",
   "id": "0a8b47e4-e1c6-443f-a164-31078ed3ae8b",
   "metadata": {},
   "source": [
    "## Get website production data"
   ]
  },
  {
   "cell_type": "code",
   "execution_count": 2,
   "id": "c1e2a831",
   "metadata": {},
   "outputs": [],
   "source": [
    "## get some data, add database and credentials here\n",
    "engine = sqlalchemy.create_engine('postgresql://objectiv:@localhost:5432/website')"
   ]
  },
  {
   "cell_type": "code",
   "execution_count": 3,
   "id": "8310a973",
   "metadata": {},
   "outputs": [],
   "source": [
    "## production website data (from sessionized_data + features)\n",
    "buh_tuh = BuhTuhDataFrame.from_table(engine=engine, table_name='basic_features', index=['event_id'])"
   ]
  },
  {
   "cell_type": "markdown",
   "id": "237a13bf-52e0-4082-a4a2-c382871b1713",
   "metadata": {},
   "source": [
    "## Set the timeframe"
   ]
  },
  {
   "cell_type": "code",
   "execution_count": 4,
   "id": "3177f1fb-c741-4269-8086-dbab942afbeb",
   "metadata": {},
   "outputs": [
    {
     "data": {
      "text/html": [
       "<div>\n",
       "<style scoped>\n",
       "    .dataframe tbody tr th:only-of-type {\n",
       "        vertical-align: middle;\n",
       "    }\n",
       "\n",
       "    .dataframe tbody tr th {\n",
       "        vertical-align: top;\n",
       "    }\n",
       "\n",
       "    .dataframe thead th {\n",
       "        text-align: right;\n",
       "    }\n",
       "</style>\n",
       "<table border=\"1\" class=\"dataframe\">\n",
       "  <thead>\n",
       "    <tr style=\"text-align: right;\">\n",
       "      <th></th>\n",
       "      <th>session_id</th>\n",
       "      <th>session_hit_number</th>\n",
       "      <th>user_id</th>\n",
       "      <th>moment</th>\n",
       "      <th>cookie_id</th>\n",
       "      <th>event</th>\n",
       "      <th>global_contexts</th>\n",
       "      <th>location_stack</th>\n",
       "      <th>time</th>\n",
       "      <th>events</th>\n",
       "      <th>stack_selection</th>\n",
       "      <th>selected_stack_location</th>\n",
       "      <th>feature_hash</th>\n",
       "      <th>feature</th>\n",
       "      <th>feature_pretty_name</th>\n",
       "    </tr>\n",
       "    <tr>\n",
       "      <th>event_id</th>\n",
       "      <th></th>\n",
       "      <th></th>\n",
       "      <th></th>\n",
       "      <th></th>\n",
       "      <th></th>\n",
       "      <th></th>\n",
       "      <th></th>\n",
       "      <th></th>\n",
       "      <th></th>\n",
       "      <th></th>\n",
       "      <th></th>\n",
       "      <th></th>\n",
       "      <th></th>\n",
       "      <th></th>\n",
       "      <th></th>\n",
       "    </tr>\n",
       "  </thead>\n",
       "  <tbody>\n",
       "    <tr>\n",
       "      <th>1b3dcc5f-f18e-437d-bdec-b41ff6317e28</th>\n",
       "      <td>4936</td>\n",
       "      <td>1</td>\n",
       "      <td>b481654c-95f2-471d-aaf0-231bbdd2b787</td>\n",
       "      <td>2021-10-01 10:13:00.095</td>\n",
       "      <td>b481654c-95f2-471d-aaf0-231bbdd2b787</td>\n",
       "      <td>ApplicationLoadedEvent</td>\n",
       "      <td>[{'_type': 'ApplicationContext', 'id': 'object...</td>\n",
       "      <td>[{'_type': 'WebDocumentContext', 'id': '#docum...</td>\n",
       "      <td>1633083180095</td>\n",
       "      <td>[AbstractEvent, ApplicationLoadedEvent, NonInt...</td>\n",
       "      <td>(,#document)</td>\n",
       "      <td>[{'_context_type': None, 'id': '#document'}]</td>\n",
       "      <td>d42f522a327a683306856a6d62d15c27</td>\n",
       "      <td>(,#document)</td>\n",
       "      <td>Pretty(,#document)</td>\n",
       "    </tr>\n",
       "    <tr>\n",
       "      <th>1b74c640-d5e7-42a1-8079-69412c6689fb</th>\n",
       "      <td>4935</td>\n",
       "      <td>2</td>\n",
       "      <td>75e20436-1367-4cbd-aeaf-830ba471a2e8</td>\n",
       "      <td>2021-10-01 09:33:52.571</td>\n",
       "      <td>75e20436-1367-4cbd-aeaf-830ba471a2e8</td>\n",
       "      <td>SectionHiddenEvent</td>\n",
       "      <td>[{'_type': 'ApplicationContext', 'id': 'object...</td>\n",
       "      <td>[{'_type': 'WebDocumentContext', 'id': '#docum...</td>\n",
       "      <td>1633080832571</td>\n",
       "      <td>[AbstractEvent, NonInteractiveEvent, SectionHi...</td>\n",
       "      <td>(,#document),(,hamburger-menu)</td>\n",
       "      <td>[{'_context_type': None, 'id': '#document'}, {...</td>\n",
       "      <td>e92418c86d6f0c6835427d70b58f1cfd</td>\n",
       "      <td>(,#document),(,hamburger-menu)</td>\n",
       "      <td>Pretty(,#document),(,hamburger-menu)</td>\n",
       "    </tr>\n",
       "    <tr>\n",
       "      <th>a45552ef-331f-4f02-a4a9-dfd137d25391</th>\n",
       "      <td>4935</td>\n",
       "      <td>1</td>\n",
       "      <td>75e20436-1367-4cbd-aeaf-830ba471a2e8</td>\n",
       "      <td>2021-10-01 09:33:50.138</td>\n",
       "      <td>75e20436-1367-4cbd-aeaf-830ba471a2e8</td>\n",
       "      <td>SectionVisibleEvent</td>\n",
       "      <td>[{'_type': 'ApplicationContext', 'id': 'object...</td>\n",
       "      <td>[{'_type': 'WebDocumentContext', 'id': '#docum...</td>\n",
       "      <td>1633080830138</td>\n",
       "      <td>[AbstractEvent, NonInteractiveEvent, SectionVi...</td>\n",
       "      <td>(,#document),(,hamburger-menu)</td>\n",
       "      <td>[{'_context_type': None, 'id': '#document'}, {...</td>\n",
       "      <td>fb89df4c89d614ffe0cd806e6a92df2f</td>\n",
       "      <td>(,#document),(,hamburger-menu)</td>\n",
       "      <td>Pretty(,#document),(,hamburger-menu)</td>\n",
       "    </tr>\n",
       "    <tr>\n",
       "      <th>36ee5bfe-673b-457d-a0d8-d17e778198d5</th>\n",
       "      <td>4934</td>\n",
       "      <td>1</td>\n",
       "      <td>75e20436-1367-4cbd-aeaf-830ba471a2e8</td>\n",
       "      <td>2021-10-01 09:33:41.547</td>\n",
       "      <td>75e20436-1367-4cbd-aeaf-830ba471a2e8</td>\n",
       "      <td>ApplicationLoadedEvent</td>\n",
       "      <td>[{'_type': 'ApplicationContext', 'id': 'object...</td>\n",
       "      <td>[{'_type': 'WebDocumentContext', 'id': '#docum...</td>\n",
       "      <td>1633080821547</td>\n",
       "      <td>[AbstractEvent, ApplicationLoadedEvent, NonInt...</td>\n",
       "      <td>(,#document)</td>\n",
       "      <td>[{'_context_type': None, 'id': '#document'}]</td>\n",
       "      <td>d42f522a327a683306856a6d62d15c27</td>\n",
       "      <td>(,#document)</td>\n",
       "      <td>Pretty(,#document)</td>\n",
       "    </tr>\n",
       "    <tr>\n",
       "      <th>61052546-b963-47b6-a6e9-5a0a15bff55e</th>\n",
       "      <td>4933</td>\n",
       "      <td>5</td>\n",
       "      <td>fe2657f1-a08c-4e33-b762-441c2f52855c</td>\n",
       "      <td>2021-10-01 09:18:49.419</td>\n",
       "      <td>fe2657f1-a08c-4e33-b762-441c2f52855c</td>\n",
       "      <td>SectionVisibleEvent</td>\n",
       "      <td>[{'_type': 'ApplicationContext', 'id': 'object...</td>\n",
       "      <td>[{'_type': 'WebDocumentContext', 'id': '#docum...</td>\n",
       "      <td>1633079929419</td>\n",
       "      <td>[AbstractEvent, NonInteractiveEvent, SectionVi...</td>\n",
       "      <td>(,#document),(,footer)</td>\n",
       "      <td>[{'_context_type': None, 'id': '#document'}, {...</td>\n",
       "      <td>4eb9370797053f1879ceb4dcf2c1b9eb</td>\n",
       "      <td>(,#document),(,footer)</td>\n",
       "      <td>Pretty(,#document),(,footer)</td>\n",
       "    </tr>\n",
       "  </tbody>\n",
       "</table>\n",
       "</div>"
      ],
      "text/plain": [
       "                                      session_id  session_hit_number  \\\n",
       "event_id                                                               \n",
       "1b3dcc5f-f18e-437d-bdec-b41ff6317e28        4936                   1   \n",
       "1b74c640-d5e7-42a1-8079-69412c6689fb        4935                   2   \n",
       "a45552ef-331f-4f02-a4a9-dfd137d25391        4935                   1   \n",
       "36ee5bfe-673b-457d-a0d8-d17e778198d5        4934                   1   \n",
       "61052546-b963-47b6-a6e9-5a0a15bff55e        4933                   5   \n",
       "\n",
       "                                                                   user_id  \\\n",
       "event_id                                                                     \n",
       "1b3dcc5f-f18e-437d-bdec-b41ff6317e28  b481654c-95f2-471d-aaf0-231bbdd2b787   \n",
       "1b74c640-d5e7-42a1-8079-69412c6689fb  75e20436-1367-4cbd-aeaf-830ba471a2e8   \n",
       "a45552ef-331f-4f02-a4a9-dfd137d25391  75e20436-1367-4cbd-aeaf-830ba471a2e8   \n",
       "36ee5bfe-673b-457d-a0d8-d17e778198d5  75e20436-1367-4cbd-aeaf-830ba471a2e8   \n",
       "61052546-b963-47b6-a6e9-5a0a15bff55e  fe2657f1-a08c-4e33-b762-441c2f52855c   \n",
       "\n",
       "                                                      moment  \\\n",
       "event_id                                                       \n",
       "1b3dcc5f-f18e-437d-bdec-b41ff6317e28 2021-10-01 10:13:00.095   \n",
       "1b74c640-d5e7-42a1-8079-69412c6689fb 2021-10-01 09:33:52.571   \n",
       "a45552ef-331f-4f02-a4a9-dfd137d25391 2021-10-01 09:33:50.138   \n",
       "36ee5bfe-673b-457d-a0d8-d17e778198d5 2021-10-01 09:33:41.547   \n",
       "61052546-b963-47b6-a6e9-5a0a15bff55e 2021-10-01 09:18:49.419   \n",
       "\n",
       "                                                                 cookie_id  \\\n",
       "event_id                                                                     \n",
       "1b3dcc5f-f18e-437d-bdec-b41ff6317e28  b481654c-95f2-471d-aaf0-231bbdd2b787   \n",
       "1b74c640-d5e7-42a1-8079-69412c6689fb  75e20436-1367-4cbd-aeaf-830ba471a2e8   \n",
       "a45552ef-331f-4f02-a4a9-dfd137d25391  75e20436-1367-4cbd-aeaf-830ba471a2e8   \n",
       "36ee5bfe-673b-457d-a0d8-d17e778198d5  75e20436-1367-4cbd-aeaf-830ba471a2e8   \n",
       "61052546-b963-47b6-a6e9-5a0a15bff55e  fe2657f1-a08c-4e33-b762-441c2f52855c   \n",
       "\n",
       "                                                       event  \\\n",
       "event_id                                                       \n",
       "1b3dcc5f-f18e-437d-bdec-b41ff6317e28  ApplicationLoadedEvent   \n",
       "1b74c640-d5e7-42a1-8079-69412c6689fb      SectionHiddenEvent   \n",
       "a45552ef-331f-4f02-a4a9-dfd137d25391     SectionVisibleEvent   \n",
       "36ee5bfe-673b-457d-a0d8-d17e778198d5  ApplicationLoadedEvent   \n",
       "61052546-b963-47b6-a6e9-5a0a15bff55e     SectionVisibleEvent   \n",
       "\n",
       "                                                                        global_contexts  \\\n",
       "event_id                                                                                  \n",
       "1b3dcc5f-f18e-437d-bdec-b41ff6317e28  [{'_type': 'ApplicationContext', 'id': 'object...   \n",
       "1b74c640-d5e7-42a1-8079-69412c6689fb  [{'_type': 'ApplicationContext', 'id': 'object...   \n",
       "a45552ef-331f-4f02-a4a9-dfd137d25391  [{'_type': 'ApplicationContext', 'id': 'object...   \n",
       "36ee5bfe-673b-457d-a0d8-d17e778198d5  [{'_type': 'ApplicationContext', 'id': 'object...   \n",
       "61052546-b963-47b6-a6e9-5a0a15bff55e  [{'_type': 'ApplicationContext', 'id': 'object...   \n",
       "\n",
       "                                                                         location_stack  \\\n",
       "event_id                                                                                  \n",
       "1b3dcc5f-f18e-437d-bdec-b41ff6317e28  [{'_type': 'WebDocumentContext', 'id': '#docum...   \n",
       "1b74c640-d5e7-42a1-8079-69412c6689fb  [{'_type': 'WebDocumentContext', 'id': '#docum...   \n",
       "a45552ef-331f-4f02-a4a9-dfd137d25391  [{'_type': 'WebDocumentContext', 'id': '#docum...   \n",
       "36ee5bfe-673b-457d-a0d8-d17e778198d5  [{'_type': 'WebDocumentContext', 'id': '#docum...   \n",
       "61052546-b963-47b6-a6e9-5a0a15bff55e  [{'_type': 'WebDocumentContext', 'id': '#docum...   \n",
       "\n",
       "                                               time  \\\n",
       "event_id                                              \n",
       "1b3dcc5f-f18e-437d-bdec-b41ff6317e28  1633083180095   \n",
       "1b74c640-d5e7-42a1-8079-69412c6689fb  1633080832571   \n",
       "a45552ef-331f-4f02-a4a9-dfd137d25391  1633080830138   \n",
       "36ee5bfe-673b-457d-a0d8-d17e778198d5  1633080821547   \n",
       "61052546-b963-47b6-a6e9-5a0a15bff55e  1633079929419   \n",
       "\n",
       "                                                                                 events  \\\n",
       "event_id                                                                                  \n",
       "1b3dcc5f-f18e-437d-bdec-b41ff6317e28  [AbstractEvent, ApplicationLoadedEvent, NonInt...   \n",
       "1b74c640-d5e7-42a1-8079-69412c6689fb  [AbstractEvent, NonInteractiveEvent, SectionHi...   \n",
       "a45552ef-331f-4f02-a4a9-dfd137d25391  [AbstractEvent, NonInteractiveEvent, SectionVi...   \n",
       "36ee5bfe-673b-457d-a0d8-d17e778198d5  [AbstractEvent, ApplicationLoadedEvent, NonInt...   \n",
       "61052546-b963-47b6-a6e9-5a0a15bff55e  [AbstractEvent, NonInteractiveEvent, SectionVi...   \n",
       "\n",
       "                                                     stack_selection  \\\n",
       "event_id                                                               \n",
       "1b3dcc5f-f18e-437d-bdec-b41ff6317e28                    (,#document)   \n",
       "1b74c640-d5e7-42a1-8079-69412c6689fb  (,#document),(,hamburger-menu)   \n",
       "a45552ef-331f-4f02-a4a9-dfd137d25391  (,#document),(,hamburger-menu)   \n",
       "36ee5bfe-673b-457d-a0d8-d17e778198d5                    (,#document)   \n",
       "61052546-b963-47b6-a6e9-5a0a15bff55e          (,#document),(,footer)   \n",
       "\n",
       "                                                                selected_stack_location  \\\n",
       "event_id                                                                                  \n",
       "1b3dcc5f-f18e-437d-bdec-b41ff6317e28       [{'_context_type': None, 'id': '#document'}]   \n",
       "1b74c640-d5e7-42a1-8079-69412c6689fb  [{'_context_type': None, 'id': '#document'}, {...   \n",
       "a45552ef-331f-4f02-a4a9-dfd137d25391  [{'_context_type': None, 'id': '#document'}, {...   \n",
       "36ee5bfe-673b-457d-a0d8-d17e778198d5       [{'_context_type': None, 'id': '#document'}]   \n",
       "61052546-b963-47b6-a6e9-5a0a15bff55e  [{'_context_type': None, 'id': '#document'}, {...   \n",
       "\n",
       "                                                          feature_hash  \\\n",
       "event_id                                                                 \n",
       "1b3dcc5f-f18e-437d-bdec-b41ff6317e28  d42f522a327a683306856a6d62d15c27   \n",
       "1b74c640-d5e7-42a1-8079-69412c6689fb  e92418c86d6f0c6835427d70b58f1cfd   \n",
       "a45552ef-331f-4f02-a4a9-dfd137d25391  fb89df4c89d614ffe0cd806e6a92df2f   \n",
       "36ee5bfe-673b-457d-a0d8-d17e778198d5  d42f522a327a683306856a6d62d15c27   \n",
       "61052546-b963-47b6-a6e9-5a0a15bff55e  4eb9370797053f1879ceb4dcf2c1b9eb   \n",
       "\n",
       "                                                             feature  \\\n",
       "event_id                                                               \n",
       "1b3dcc5f-f18e-437d-bdec-b41ff6317e28                    (,#document)   \n",
       "1b74c640-d5e7-42a1-8079-69412c6689fb  (,#document),(,hamburger-menu)   \n",
       "a45552ef-331f-4f02-a4a9-dfd137d25391  (,#document),(,hamburger-menu)   \n",
       "36ee5bfe-673b-457d-a0d8-d17e778198d5                    (,#document)   \n",
       "61052546-b963-47b6-a6e9-5a0a15bff55e          (,#document),(,footer)   \n",
       "\n",
       "                                                       feature_pretty_name  \n",
       "event_id                                                                    \n",
       "1b3dcc5f-f18e-437d-bdec-b41ff6317e28                    Pretty(,#document)  \n",
       "1b74c640-d5e7-42a1-8079-69412c6689fb  Pretty(,#document),(,hamburger-menu)  \n",
       "a45552ef-331f-4f02-a4a9-dfd137d25391  Pretty(,#document),(,hamburger-menu)  \n",
       "36ee5bfe-673b-457d-a0d8-d17e778198d5                    Pretty(,#document)  \n",
       "61052546-b963-47b6-a6e9-5a0a15bff55e          Pretty(,#document),(,footer)  "
      ]
     },
     "execution_count": 4,
     "metadata": {},
     "output_type": "execute_result"
    }
   ],
   "source": [
    "# set the timeframe for analysis\n",
    "selector = (buh_tuh['moment'] >= datetime.date(2021,6,1)) & (buh_tuh['moment'] < datetime.date(2021,10,2))\n",
    "\n",
    "# create one sampled df with timeframe applied and one with the full dataset\n",
    "timeframe_df = buh_tuh[selector]\n",
    "full_df = buh_tuh\n",
    "\n",
    "timeframe_df.sort_values({'moment': False}).head()"
   ]
  },
  {
   "cell_type": "markdown",
   "id": "0f1d4954-cabc-44e7-81b8-d18f9d303ed9",
   "metadata": {},
   "source": [
    "## Set the time aggregation "
   ]
  },
  {
   "cell_type": "code",
   "execution_count": 5,
   "id": "0a697920-a443-4593-8acd-71c514aa7406",
   "metadata": {},
   "outputs": [],
   "source": [
    "# choose for which level of time aggregation the rest of the analysis will run\n",
    "# supports all Postgres datetime template patterns:\n",
    "# https://www.postgresql.org/docs/9.1/functions-formatting.html#FUNCTIONS-FORMATTING-DATETIME-TABLE\n",
    "\n",
    "#agg_level = 'YYYYIW'\n",
    "agg_level = 'YYYYMMDD'\n",
    "\n",
    "def time_aggr(bt, format, aggr):\n",
    "    bt[format.lower()] = bt['moment'].format(format)\n",
    "    group = bt.groupby([format.lower()])\n",
    "    return group[list(aggr.keys())].aggregate(aggr)"
   ]
  },
  {
   "cell_type": "markdown",
   "id": "89b453c8-db28-4f74-be09-0664d32b3e22",
   "metadata": {},
   "source": [
    "## User & session totals"
   ]
  },
  {
   "cell_type": "code",
   "execution_count": 6,
   "id": "465a4b0c-49a3-44cc-a4b1-260a7f818c76",
   "metadata": {},
   "outputs": [],
   "source": [
    "# calculate total users & sessions, we can resuse these later\n",
    "total_users = timeframe_df.groupby()['user_id'].nunique()\n",
    "total_sessions = timeframe_df.groupby()['session_id'].nunique()"
   ]
  },
  {
   "cell_type": "markdown",
   "id": "0697e0d3-8443-427b-a3a9-09342adf624e",
   "metadata": {},
   "source": [
    "## Users"
   ]
  },
  {
   "cell_type": "code",
   "execution_count": 7,
   "id": "77e00ffd-9940-4ff3-b5db-2734730f240e",
   "metadata": {},
   "outputs": [
    {
     "data": {
      "text/html": [
       "<div>\n",
       "<style scoped>\n",
       "    .dataframe tbody tr th:only-of-type {\n",
       "        vertical-align: middle;\n",
       "    }\n",
       "\n",
       "    .dataframe tbody tr th {\n",
       "        vertical-align: top;\n",
       "    }\n",
       "\n",
       "    .dataframe thead th {\n",
       "        text-align: right;\n",
       "    }\n",
       "</style>\n",
       "<table border=\"1\" class=\"dataframe\">\n",
       "  <thead>\n",
       "    <tr style=\"text-align: right;\">\n",
       "      <th></th>\n",
       "      <th>user_id_nunique</th>\n",
       "    </tr>\n",
       "    <tr>\n",
       "      <th>yyyymmdd</th>\n",
       "      <th></th>\n",
       "    </tr>\n",
       "  </thead>\n",
       "  <tbody>\n",
       "    <tr>\n",
       "      <th>20211001</th>\n",
       "      <td>14</td>\n",
       "    </tr>\n",
       "    <tr>\n",
       "      <th>20210930</th>\n",
       "      <td>2382</td>\n",
       "    </tr>\n",
       "    <tr>\n",
       "      <th>20210929</th>\n",
       "      <td>382</td>\n",
       "    </tr>\n",
       "    <tr>\n",
       "      <th>20210928</th>\n",
       "      <td>67</td>\n",
       "    </tr>\n",
       "    <tr>\n",
       "      <th>20210927</th>\n",
       "      <td>13</td>\n",
       "    </tr>\n",
       "  </tbody>\n",
       "</table>\n",
       "</div>"
      ],
      "text/plain": [
       "          user_id_nunique\n",
       "yyyymmdd                 \n",
       "20211001               14\n",
       "20210930             2382\n",
       "20210929              382\n",
       "20210928               67\n",
       "20210927               13"
      ]
     },
     "execution_count": 7,
     "metadata": {},
     "output_type": "execute_result"
    }
   ],
   "source": [
    "# calculate unique users \n",
    "users = time_aggr(timeframe_df, agg_level, {'user_id':'nunique'})\n",
    "\n",
    "users.sort_values({agg_level.lower():False}).head()"
   ]
  },
  {
   "cell_type": "code",
   "execution_count": 21,
   "id": "951d9b1e-5159-416d-a904-75b63b795e28",
   "metadata": {},
   "outputs": [
    {
     "data": {
      "text/plain": [
       "<AxesSubplot:xlabel='yyyymmdd'>"
      ]
     },
     "execution_count": 21,
     "metadata": {},
     "output_type": "execute_result"
    },
    {
     "data": {
      "image/png": "[encoded data removed]",
      "text/plain": [
       "<Figure size 432x288 with 1 Axes>"
      ]
     },
     "metadata": {
      "needs_background": "light"
     },
     "output_type": "display_data"
    }
   ],
   "source": [
    "# visualize users\n",
    "users['user_id_nunique'].sort_values({agg_level.lower():True}).head(60).plot()"
   ]
  },
  {
   "cell_type": "markdown",
   "id": "378f5454-f7c7-409b-a6d0-996e078c851a",
   "metadata": {},
   "source": [
    "## Sessions"
   ]
  },
  {
   "cell_type": "code",
   "execution_count": 22,
   "id": "71c3c2a3-9616-43d6-b529-acf5f6d210d1",
   "metadata": {},
   "outputs": [
    {
     "data": {
      "text/html": [
       "<div>\n",
       "<style scoped>\n",
       "    .dataframe tbody tr th:only-of-type {\n",
       "        vertical-align: middle;\n",
       "    }\n",
       "\n",
       "    .dataframe tbody tr th {\n",
       "        vertical-align: top;\n",
       "    }\n",
       "\n",
       "    .dataframe thead th {\n",
       "        text-align: right;\n",
       "    }\n",
       "</style>\n",
       "<table border=\"1\" class=\"dataframe\">\n",
       "  <thead>\n",
       "    <tr style=\"text-align: right;\">\n",
       "      <th></th>\n",
       "      <th>session_id_nunique</th>\n",
       "    </tr>\n",
       "    <tr>\n",
       "      <th>yyyymmdd</th>\n",
       "      <th></th>\n",
       "    </tr>\n",
       "  </thead>\n",
       "  <tbody>\n",
       "    <tr>\n",
       "      <th>20210928</th>\n",
       "      <td>8</td>\n",
       "    </tr>\n",
       "    <tr>\n",
       "      <th>20210927</th>\n",
       "      <td>20</td>\n",
       "    </tr>\n",
       "    <tr>\n",
       "      <th>20210926</th>\n",
       "      <td>14</td>\n",
       "    </tr>\n",
       "    <tr>\n",
       "      <th>20210925</th>\n",
       "      <td>16</td>\n",
       "    </tr>\n",
       "    <tr>\n",
       "      <th>20210924</th>\n",
       "      <td>50</td>\n",
       "    </tr>\n",
       "  </tbody>\n",
       "</table>\n",
       "</div>"
      ],
      "text/plain": [
       "          session_id_nunique\n",
       "yyyymmdd                    \n",
       "20210928                   8\n",
       "20210927                  20\n",
       "20210926                  14\n",
       "20210925                  16\n",
       "20210924                  50"
      ]
     },
     "execution_count": 22,
     "metadata": {},
     "output_type": "execute_result"
    }
   ],
   "source": [
    "# calculate unique sessions\n",
    "sessions = time_aggr(timeframe_df, agg_level, {'session_id':'nunique'})\n",
    "\n",
    "sessions.sort_values({agg_level.lower():False}).head()"
   ]
  },
  {
   "cell_type": "code",
   "execution_count": 23,
   "id": "560fc334-17c9-4604-85dd-24fa43abaf07",
   "metadata": {},
   "outputs": [
    {
     "data": {
      "text/plain": [
       "<AxesSubplot:xlabel='yyyymmdd'>"
      ]
     },
     "execution_count": 23,
     "metadata": {},
     "output_type": "execute_result"
    },
    {
     "data": {
      "image/png": "[encoded data removed]",
      "text/plain": [
       "<Figure size 432x288 with 1 Axes>"
      ]
     },
     "metadata": {
      "needs_background": "light"
     },
     "output_type": "display_data"
    }
   ],
   "source": [
    "# visualize sessions\n",
    "sessions['session_id_nunique'].sort_values({agg_level.lower():True}).head(60).plot()"
   ]
  },
  {
   "cell_type": "markdown",
   "id": "6888435d-4287-4cdc-8767-985fe2b9c216",
   "metadata": {},
   "source": [
    "## Sessions per user"
   ]
  },
  {
   "cell_type": "code",
   "execution_count": 24,
   "id": "77706040",
   "metadata": {},
   "outputs": [
    {
     "data": {
      "text/html": [
       "<div>\n",
       "<style scoped>\n",
       "    .dataframe tbody tr th:only-of-type {\n",
       "        vertical-align: middle;\n",
       "    }\n",
       "\n",
       "    .dataframe tbody tr th {\n",
       "        vertical-align: top;\n",
       "    }\n",
       "\n",
       "    .dataframe thead th {\n",
       "        text-align: right;\n",
       "    }\n",
       "</style>\n",
       "<table border=\"1\" class=\"dataframe\">\n",
       "  <thead>\n",
       "    <tr style=\"text-align: right;\">\n",
       "      <th></th>\n",
       "      <th>sessions_per_user_avg</th>\n",
       "    </tr>\n",
       "    <tr>\n",
       "      <th>yyyymmdd</th>\n",
       "      <th></th>\n",
       "    </tr>\n",
       "  </thead>\n",
       "  <tbody>\n",
       "    <tr>\n",
       "      <th>20210928</th>\n",
       "      <td>1.142857</td>\n",
       "    </tr>\n",
       "    <tr>\n",
       "      <th>20210927</th>\n",
       "      <td>1.538462</td>\n",
       "    </tr>\n",
       "    <tr>\n",
       "      <th>20210926</th>\n",
       "      <td>1.272727</td>\n",
       "    </tr>\n",
       "    <tr>\n",
       "      <th>20210925</th>\n",
       "      <td>2.000000</td>\n",
       "    </tr>\n",
       "    <tr>\n",
       "      <th>20210924</th>\n",
       "      <td>1.612903</td>\n",
       "    </tr>\n",
       "  </tbody>\n",
       "</table>\n",
       "</div>"
      ],
      "text/plain": [
       "          sessions_per_user_avg\n",
       "yyyymmdd                       \n",
       "20210928               1.142857\n",
       "20210927               1.538462\n",
       "20210926               1.272727\n",
       "20210925               2.000000\n",
       "20210924               1.612903"
      ]
     },
     "execution_count": 24,
     "metadata": {},
     "output_type": "execute_result"
    }
   ],
   "source": [
    "# merge users and sessions\n",
    "users_sessions = sessions.merge(users)\n",
    "\n",
    "# calculate average sessions per user\n",
    "users_sessions['sessions_per_user_avg'] = users_sessions['session_id_nunique'] / users_sessions['user_id_nunique']\n",
    "\n",
    "# clean-up columns\n",
    "del(users_sessions['session_id_nunique', 'user_id_nunique'])\n",
    "\n",
    "users_sessions.sort_values({agg_level.lower():False}).head()"
   ]
  },
  {
   "cell_type": "code",
   "execution_count": 25,
   "id": "e33f68a2-1253-448b-bb78-a3dc4bd17ef9",
   "metadata": {
    "tags": []
   },
   "outputs": [
    {
     "data": {
      "text/plain": [
       "<AxesSubplot:xlabel='yyyymmdd'>"
      ]
     },
     "execution_count": 25,
     "metadata": {},
     "output_type": "execute_result"
    },
    {
     "data": {
      "image/png": "[encoded data removed]",
      "text/plain": [
       "<Figure size 432x288 with 1 Axes>"
      ]
     },
     "metadata": {
      "needs_background": "light"
     },
     "output_type": "display_data"
    }
   ],
   "source": [
    "# visualize average sessions per user\n",
    "users_sessions['sessions_per_user_avg'].sort_values({agg_level.lower():True}).head(60).plot()"
   ]
  },
  {
   "cell_type": "markdown",
   "id": "6fbaaf82-ee41-4602-a2cd-f622fa84b0b2",
   "metadata": {},
   "source": [
    "## New users"
   ]
  },
  {
   "cell_type": "code",
   "execution_count": 26,
   "id": "d917e1a3-5b16-4365-98e0-ea0040babebe",
   "metadata": {
    "tags": []
   },
   "outputs": [
    {
     "data": {
      "text/html": [
       "<div>\n",
       "<style scoped>\n",
       "    .dataframe tbody tr th:only-of-type {\n",
       "        vertical-align: middle;\n",
       "    }\n",
       "\n",
       "    .dataframe tbody tr th {\n",
       "        vertical-align: top;\n",
       "    }\n",
       "\n",
       "    .dataframe thead th {\n",
       "        text-align: right;\n",
       "    }\n",
       "</style>\n",
       "<table border=\"1\" class=\"dataframe\">\n",
       "  <thead>\n",
       "    <tr style=\"text-align: right;\">\n",
       "      <th></th>\n",
       "      <th>total_users</th>\n",
       "      <th>new_users</th>\n",
       "      <th>new_user_share</th>\n",
       "      <th>returning_user_share</th>\n",
       "    </tr>\n",
       "    <tr>\n",
       "      <th>yyyymmdd</th>\n",
       "      <th></th>\n",
       "      <th></th>\n",
       "      <th></th>\n",
       "      <th></th>\n",
       "    </tr>\n",
       "  </thead>\n",
       "  <tbody>\n",
       "    <tr>\n",
       "      <th>20210928</th>\n",
       "      <td>7</td>\n",
       "      <td>6</td>\n",
       "      <td>0.857143</td>\n",
       "      <td>0.142857</td>\n",
       "    </tr>\n",
       "    <tr>\n",
       "      <th>20210927</th>\n",
       "      <td>13</td>\n",
       "      <td>7</td>\n",
       "      <td>0.538462</td>\n",
       "      <td>0.461538</td>\n",
       "    </tr>\n",
       "    <tr>\n",
       "      <th>20210926</th>\n",
       "      <td>11</td>\n",
       "      <td>10</td>\n",
       "      <td>0.909091</td>\n",
       "      <td>0.090909</td>\n",
       "    </tr>\n",
       "    <tr>\n",
       "      <th>20210925</th>\n",
       "      <td>8</td>\n",
       "      <td>6</td>\n",
       "      <td>0.750000</td>\n",
       "      <td>0.250000</td>\n",
       "    </tr>\n",
       "    <tr>\n",
       "      <th>20210924</th>\n",
       "      <td>31</td>\n",
       "      <td>27</td>\n",
       "      <td>0.870968</td>\n",
       "      <td>0.129032</td>\n",
       "    </tr>\n",
       "  </tbody>\n",
       "</table>\n",
       "</div>"
      ],
      "text/plain": [
       "          total_users  new_users  new_user_share  returning_user_share\n",
       "yyyymmdd                                                              \n",
       "20210928            7          6        0.857143              0.142857\n",
       "20210927           13          7        0.538462              0.461538\n",
       "20210926           11         10        0.909091              0.090909\n",
       "20210925            8          6        0.750000              0.250000\n",
       "20210924           31         27        0.870968              0.129032"
      ]
     },
     "execution_count": 26,
     "metadata": {},
     "output_type": "execute_result"
    }
   ],
   "source": [
    "# define first seen per user, based on full dataset\n",
    "user_first_seen = full_df.groupby(['user_id'])['moment'].min()\n",
    "user_first_seen[agg_level.lower()] = user_first_seen['moment_min'].format(agg_level)\n",
    "\n",
    "# calculate new users for each timeframe\n",
    "new_users = user_first_seen.groupby(agg_level.lower())['user_id'].nunique()\n",
    "\n",
    "# merge with total users, to calculate ratio and limit to timerange\n",
    "new_total_users = users.merge(new_users)\n",
    "\n",
    "# rename and clean-up columns\n",
    "new_total_users['total_users'] = new_total_users['user_id_nunique_left']\n",
    "new_total_users['new_users'] = new_total_users['user_id_nunique_right']\n",
    "del(new_total_users['user_id_nunique_left','user_id_nunique_right'])\n",
    "\n",
    "# calculate new & returning user share\n",
    "new_total_users['new_user_share'] = new_total_users['new_users'] / new_total_users['total_users']\n",
    "new_total_users['returning_user_share'] = (new_total_users['total_users'] - new_total_users['new_users']) / new_total_users['total_users']\n",
    "\n",
    "new_total_users.sort_values({agg_level.lower():False}).head()"
   ]
  },
  {
   "cell_type": "code",
   "execution_count": 27,
   "id": "eca9d062-dd61-49c2-b669-bf0f45c68451",
   "metadata": {
    "tags": []
   },
   "outputs": [
    {
     "data": {
      "text/plain": [
       "<AxesSubplot:xlabel='yyyymmdd'>"
      ]
     },
     "execution_count": 27,
     "metadata": {},
     "output_type": "execute_result"
    },
    {
     "data": {
      "image/png": "[encoded data removed]",
      "text/plain": [
       "<Figure size 432x288 with 1 Axes>"
      ]
     },
     "metadata": {
      "needs_background": "light"
     },
     "output_type": "display_data"
    }
   ],
   "source": [
    "# visualize new users\n",
    "new_total_users['new_users', 'total_users'].sort_values({agg_level.lower():True}).head(60).plot()"
   ]
  },
  {
   "cell_type": "code",
   "execution_count": 28,
   "id": "77552035-793a-4615-a595-29e528af2a48",
   "metadata": {},
   "outputs": [
    {
     "data": {
      "text/plain": [
       "<AxesSubplot:xlabel='yyyymmdd'>"
      ]
     },
     "execution_count": 28,
     "metadata": {},
     "output_type": "execute_result"
    },
    {
     "data": {
      "image/png": "[encoded data removed]",
      "text/plain": [
       "<Figure size 432x288 with 1 Axes>"
      ]
     },
     "metadata": {
      "needs_background": "light"
     },
     "output_type": "display_data"
    }
   ],
   "source": [
    "# visualize returning users\n",
    "new_total_users['returning_user_share'].sort_values({agg_level.lower():True}).head(60).plot()"
   ]
  },
  {
   "cell_type": "markdown",
   "id": "14b2a479-bd03-4cba-be97-83ccfbf38337",
   "metadata": {},
   "source": [
    "## Frequency"
   ]
  },
  {
   "cell_type": "code",
   "execution_count": 29,
   "id": "2d8fc165-5b6a-4df4-839e-53b6df4084f9",
   "metadata": {},
   "outputs": [
    {
     "data": {
      "text/html": [
       "<div>\n",
       "<style scoped>\n",
       "    .dataframe tbody tr th:only-of-type {\n",
       "        vertical-align: middle;\n",
       "    }\n",
       "\n",
       "    .dataframe tbody tr th {\n",
       "        vertical-align: top;\n",
       "    }\n",
       "\n",
       "    .dataframe thead th {\n",
       "        text-align: right;\n",
       "    }\n",
       "</style>\n",
       "<table border=\"1\" class=\"dataframe\">\n",
       "  <thead>\n",
       "    <tr style=\"text-align: right;\">\n",
       "      <th></th>\n",
       "      <th>user_id_nunique</th>\n",
       "      <th>share_of_users</th>\n",
       "    </tr>\n",
       "    <tr>\n",
       "      <th>session_id_nunique</th>\n",
       "      <th></th>\n",
       "      <th></th>\n",
       "    </tr>\n",
       "  </thead>\n",
       "  <tbody>\n",
       "    <tr>\n",
       "      <th>1</th>\n",
       "      <td>749</td>\n",
       "      <td>0.758865</td>\n",
       "    </tr>\n",
       "    <tr>\n",
       "      <th>2</th>\n",
       "      <td>115</td>\n",
       "      <td>0.116515</td>\n",
       "    </tr>\n",
       "    <tr>\n",
       "      <th>3</th>\n",
       "      <td>53</td>\n",
       "      <td>0.053698</td>\n",
       "    </tr>\n",
       "    <tr>\n",
       "      <th>4</th>\n",
       "      <td>27</td>\n",
       "      <td>0.027356</td>\n",
       "    </tr>\n",
       "    <tr>\n",
       "      <th>5</th>\n",
       "      <td>14</td>\n",
       "      <td>0.014184</td>\n",
       "    </tr>\n",
       "  </tbody>\n",
       "</table>\n",
       "</div>"
      ],
      "text/plain": [
       "                    user_id_nunique  share_of_users\n",
       "session_id_nunique                                 \n",
       "1                               749        0.758865\n",
       "2                               115        0.116515\n",
       "3                                53        0.053698\n",
       "4                                27        0.027356\n",
       "5                                14        0.014184"
      ]
     },
     "execution_count": 29,
     "metadata": {},
     "output_type": "execute_result"
    }
   ],
   "source": [
    "# number of total sessions per user\n",
    "total_sessions_user = timeframe_df.groupby(['user_id'])['session_id'].nunique()\n",
    "\n",
    "# calculate frequency\n",
    "frequency = total_sessions_user.groupby(['session_id_nunique'])['user_id'].nunique()\n",
    "\n",
    "# add total users and calculate share per number of sessions\n",
    "frequency['share_of_users'] = frequency['user_id_nunique'] / total_users['user_id_nunique'][1]\n",
    "\n",
    "frequency.sort_values({'session_id_nunique':True}).head()"
   ]
  },
  {
   "cell_type": "code",
   "execution_count": 30,
   "id": "771461f0-9cc6-482e-ada3-76a4da4152de",
   "metadata": {},
   "outputs": [
    {
     "data": {
      "text/plain": [
       "<AxesSubplot:xlabel='session_id_nunique'>"
      ]
     },
     "execution_count": 30,
     "metadata": {},
     "output_type": "execute_result"
    },
    {
     "data": {
      "image/png": "[encoded data removed]",
      "text/plain": [
       "<Figure size 432x288 with 1 Axes>"
      ]
     },
     "metadata": {
      "needs_background": "light"
     },
     "output_type": "display_data"
    }
   ],
   "source": [
    "# visualize frequency\n",
    "frequency['share_of_users'].sort_values({'session_id_nunique':True}).head(10).plot()"
   ]
  },
  {
   "cell_type": "markdown",
   "id": "046eb7e6-fba5-4048-ba17-8cff59d92b38",
   "metadata": {},
   "source": [
    "## Events"
   ]
  },
  {
   "cell_type": "code",
   "execution_count": 31,
   "id": "24c743b4-dae4-41b9-a4d5-15a87c3b295c",
   "metadata": {},
   "outputs": [
    {
     "data": {
      "text/html": [
       "<div>\n",
       "<style scoped>\n",
       "    .dataframe tbody tr th:only-of-type {\n",
       "        vertical-align: middle;\n",
       "    }\n",
       "\n",
       "    .dataframe tbody tr th {\n",
       "        vertical-align: top;\n",
       "    }\n",
       "\n",
       "    .dataframe thead th {\n",
       "        text-align: right;\n",
       "    }\n",
       "</style>\n",
       "<table border=\"1\" class=\"dataframe\">\n",
       "  <thead>\n",
       "    <tr style=\"text-align: right;\">\n",
       "      <th></th>\n",
       "      <th></th>\n",
       "      <th>user_id_nunique</th>\n",
       "    </tr>\n",
       "    <tr>\n",
       "      <th>yyyymmdd</th>\n",
       "      <th>feature</th>\n",
       "      <th></th>\n",
       "    </tr>\n",
       "  </thead>\n",
       "  <tbody>\n",
       "    <tr>\n",
       "      <th>20210928</th>\n",
       "      <th>(WebDocumentContext,#document)</th>\n",
       "      <td>7</td>\n",
       "    </tr>\n",
       "    <tr>\n",
       "      <th rowspan=\"5\" valign=\"top\">20210927</th>\n",
       "      <th>(WebDocumentContext,#document)</th>\n",
       "      <td>13</td>\n",
       "    </tr>\n",
       "    <tr>\n",
       "      <th>(WebDocumentContext,#document),(SectionContext,announcement-bar),(LinkContext,/jobs)</th>\n",
       "      <td>2</td>\n",
       "    </tr>\n",
       "    <tr>\n",
       "      <th>(WebDocumentContext,#document),(LinkContext,logo)</th>\n",
       "      <td>1</td>\n",
       "    </tr>\n",
       "    <tr>\n",
       "      <th>(WebDocumentContext,#document),(InputContext,keep-me-posted-input),(ButtonContext,subscribe)</th>\n",
       "      <td>1</td>\n",
       "    </tr>\n",
       "    <tr>\n",
       "      <th>(WebDocumentContext,#document),(SectionContext,desktop-menu),(LinkContext,GitHub)</th>\n",
       "      <td>1</td>\n",
       "    </tr>\n",
       "    <tr>\n",
       "      <th rowspan=\"3\" valign=\"top\">20210926</th>\n",
       "      <th>(WebDocumentContext,#document)</th>\n",
       "      <td>11</td>\n",
       "    </tr>\n",
       "    <tr>\n",
       "      <th>(WebDocumentContext,#document),(SectionContext,announcement-bar),(LinkContext,/jobs)</th>\n",
       "      <td>1</td>\n",
       "    </tr>\n",
       "    <tr>\n",
       "      <th>(WebDocumentContext,#document),(SectionContext,desktop-menu),(LinkContext,GitHub)</th>\n",
       "      <td>1</td>\n",
       "    </tr>\n",
       "    <tr>\n",
       "      <th rowspan=\"2\" valign=\"top\">20210925</th>\n",
       "      <th>(WebDocumentContext,#document)</th>\n",
       "      <td>8</td>\n",
       "    </tr>\n",
       "    <tr>\n",
       "      <th>(WebDocumentContext,#document),(OverlayContext,hamburger-menu),(LinkContext,GitHub)</th>\n",
       "      <td>1</td>\n",
       "    </tr>\n",
       "    <tr>\n",
       "      <th rowspan=\"7\" valign=\"top\">20210924</th>\n",
       "      <th>(WebDocumentContext,#document)</th>\n",
       "      <td>31</td>\n",
       "    </tr>\n",
       "    <tr>\n",
       "      <th>(WebDocumentContext,#document),(SectionContext,desktop-menu),(LinkContext,GitHub)</th>\n",
       "      <td>3</td>\n",
       "    </tr>\n",
       "    <tr>\n",
       "      <th>(WebDocumentContext,#document),(SectionContext,announcement-bar),(LinkContext,/jobs)</th>\n",
       "      <td>2</td>\n",
       "    </tr>\n",
       "    <tr>\n",
       "      <th>(WebDocumentContext,#document),(InputContext,keep-me-posted-input),(ButtonContext,subscribe)</th>\n",
       "      <td>2</td>\n",
       "    </tr>\n",
       "    <tr>\n",
       "      <th>(WebDocumentContext,#document),(LinkContext,logo)</th>\n",
       "      <td>1</td>\n",
       "    </tr>\n",
       "    <tr>\n",
       "      <th>(WebDocumentContext,#document),(OverlayContext,hamburger-menu),(LinkContext,Twitter)</th>\n",
       "      <td>1</td>\n",
       "    </tr>\n",
       "    <tr>\n",
       "      <th>(WebDocumentContext,#document),(SectionContext,desktop-menu),(LinkContext,\"Contact Us\")</th>\n",
       "      <td>1</td>\n",
       "    </tr>\n",
       "    <tr>\n",
       "      <th rowspan=\"2\" valign=\"top\">20210923</th>\n",
       "      <th>(WebDocumentContext,#document)</th>\n",
       "      <td>26</td>\n",
       "    </tr>\n",
       "    <tr>\n",
       "      <th>(WebDocumentContext,#document),(SectionContext,announcement-bar),(LinkContext,/jobs)</th>\n",
       "      <td>5</td>\n",
       "    </tr>\n",
       "  </tbody>\n",
       "</table>\n",
       "</div>"
      ],
      "text/plain": [
       "                                                             user_id_nunique\n",
       "yyyymmdd feature                                                            \n",
       "20210928 (WebDocumentContext,#document)                                    7\n",
       "20210927 (WebDocumentContext,#document)                                   13\n",
       "         (WebDocumentContext,#document),(SectionContext,...                2\n",
       "         (WebDocumentContext,#document),(LinkContext,logo)                 1\n",
       "         (WebDocumentContext,#document),(InputContext,ke...                1\n",
       "         (WebDocumentContext,#document),(SectionContext,...                1\n",
       "20210926 (WebDocumentContext,#document)                                   11\n",
       "         (WebDocumentContext,#document),(SectionContext,...                1\n",
       "         (WebDocumentContext,#document),(SectionContext,...                1\n",
       "20210925 (WebDocumentContext,#document)                                    8\n",
       "         (WebDocumentContext,#document),(OverlayContext,...                1\n",
       "20210924 (WebDocumentContext,#document)                                   31\n",
       "         (WebDocumentContext,#document),(SectionContext,...                3\n",
       "         (WebDocumentContext,#document),(SectionContext,...                2\n",
       "         (WebDocumentContext,#document),(InputContext,ke...                2\n",
       "         (WebDocumentContext,#document),(LinkContext,logo)                 1\n",
       "         (WebDocumentContext,#document),(OverlayContext,...                1\n",
       "         (WebDocumentContext,#document),(SectionContext,...                1\n",
       "20210923 (WebDocumentContext,#document)                                   26\n",
       "         (WebDocumentContext,#document),(SectionContext,...                5"
      ]
     },
     "execution_count": 31,
     "metadata": {},
     "output_type": "execute_result"
    }
   ],
   "source": [
    "# number of total user per feature\n",
    "# users_per_event = timeframe_df.groupby(['feature'])['user_id'].nunique()\n",
    "\n",
    "# users_per_event.sort_values({'user_id_nunique':False}).head()\n",
    "\n",
    "events_users = timeframe_df['moment', 'feature', 'user_id']\n",
    "events_users[agg_level.lower()] = events_users['moment'].format(agg_level)\n",
    "\n",
    "# calculate hits per session\n",
    "users_per_event = events_users.groupby([agg_level.lower(), 'feature'])['user_id'].nunique()\n",
    "\n",
    "users_per_event.sort_values({agg_level.lower():False, 'user_id_nunique':False}).head(20)\n",
    "# TODO: \n",
    "# 1) add feature aggregation magic from Bach here, so we make the features show-off what we can do much more \n",
    "# 2) add location stack, showing the power of this very soon in the demo's"
   ]
  },
  {
   "cell_type": "markdown",
   "id": "9acf9cf5-c4e6-4d71-a15d-64bea1bf4d55",
   "metadata": {},
   "source": [
    "## Conversion"
   ]
  },
  {
   "cell_type": "code",
   "execution_count": 38,
   "id": "96311ded-e799-4a27-a466-2c8dcce5ec3b",
   "metadata": {},
   "outputs": [
    {
     "data": {
      "text/html": [
       "<div>\n",
       "<style scoped>\n",
       "    .dataframe tbody tr th:only-of-type {\n",
       "        vertical-align: middle;\n",
       "    }\n",
       "\n",
       "    .dataframe tbody tr th {\n",
       "        vertical-align: top;\n",
       "    }\n",
       "\n",
       "    .dataframe thead th {\n",
       "        text-align: right;\n",
       "    }\n",
       "</style>\n",
       "<table border=\"1\" class=\"dataframe\">\n",
       "  <thead>\n",
       "    <tr style=\"text-align: right;\">\n",
       "      <th></th>\n",
       "      <th>converting_users</th>\n",
       "      <th>total_users</th>\n",
       "      <th>conversion_rate</th>\n",
       "    </tr>\n",
       "    <tr>\n",
       "      <th>yyyymmdd</th>\n",
       "      <th></th>\n",
       "      <th></th>\n",
       "      <th></th>\n",
       "    </tr>\n",
       "  </thead>\n",
       "  <tbody>\n",
       "    <tr>\n",
       "      <th>20210927</th>\n",
       "      <td>1</td>\n",
       "      <td>13</td>\n",
       "      <td>0.076923</td>\n",
       "    </tr>\n",
       "    <tr>\n",
       "      <th>20210924</th>\n",
       "      <td>2</td>\n",
       "      <td>31</td>\n",
       "      <td>0.064516</td>\n",
       "    </tr>\n",
       "    <tr>\n",
       "      <th>20210923</th>\n",
       "      <td>2</td>\n",
       "      <td>26</td>\n",
       "      <td>0.076923</td>\n",
       "    </tr>\n",
       "    <tr>\n",
       "      <th>20210919</th>\n",
       "      <td>1</td>\n",
       "      <td>10</td>\n",
       "      <td>0.100000</td>\n",
       "    </tr>\n",
       "    <tr>\n",
       "      <th>20210907</th>\n",
       "      <td>4</td>\n",
       "      <td>24</td>\n",
       "      <td>0.166667</td>\n",
       "    </tr>\n",
       "    <tr>\n",
       "      <th>20210906</th>\n",
       "      <td>1</td>\n",
       "      <td>17</td>\n",
       "      <td>0.058824</td>\n",
       "    </tr>\n",
       "    <tr>\n",
       "      <th>20210905</th>\n",
       "      <td>1</td>\n",
       "      <td>5</td>\n",
       "      <td>0.200000</td>\n",
       "    </tr>\n",
       "    <tr>\n",
       "      <th>20210831</th>\n",
       "      <td>3</td>\n",
       "      <td>27</td>\n",
       "      <td>0.111111</td>\n",
       "    </tr>\n",
       "    <tr>\n",
       "      <th>20210825</th>\n",
       "      <td>1</td>\n",
       "      <td>17</td>\n",
       "      <td>0.058824</td>\n",
       "    </tr>\n",
       "    <tr>\n",
       "      <th>20210820</th>\n",
       "      <td>1</td>\n",
       "      <td>10</td>\n",
       "      <td>0.100000</td>\n",
       "    </tr>\n",
       "    <tr>\n",
       "      <th>20210816</th>\n",
       "      <td>1</td>\n",
       "      <td>21</td>\n",
       "      <td>0.047619</td>\n",
       "    </tr>\n",
       "    <tr>\n",
       "      <th>20210811</th>\n",
       "      <td>1</td>\n",
       "      <td>22</td>\n",
       "      <td>0.045455</td>\n",
       "    </tr>\n",
       "    <tr>\n",
       "      <th>20210720</th>\n",
       "      <td>2</td>\n",
       "      <td>77</td>\n",
       "      <td>0.025974</td>\n",
       "    </tr>\n",
       "  </tbody>\n",
       "</table>\n",
       "</div>"
      ],
      "text/plain": [
       "          converting_users  total_users  conversion_rate\n",
       "yyyymmdd                                                \n",
       "20210927                 1           13         0.076923\n",
       "20210924                 2           31         0.064516\n",
       "20210923                 2           26         0.076923\n",
       "20210919                 1           10         0.100000\n",
       "20210907                 4           24         0.166667\n",
       "20210906                 1           17         0.058824\n",
       "20210905                 1            5         0.200000\n",
       "20210831                 3           27         0.111111\n",
       "20210825                 1           17         0.058824\n",
       "20210820                 1           10         0.100000\n",
       "20210816                 1           21         0.047619\n",
       "20210811                 1           22         0.045455\n",
       "20210720                 2           77         0.025974"
      ]
     },
     "execution_count": 38,
     "metadata": {},
     "output_type": "execute_result"
    }
   ],
   "source": [
    "# TODO: \n",
    "# We can do much better here once we integrate feature selection & aggregation\n",
    "\n",
    "# NOTE: WE NEED TO UPDATE THIS ONCE THE FIRST NEW EVENT FORMAT DATA COMES IN FOR A CONVERSION\n",
    "# set the goal event that you define as conversion, using our subcribe-to-mailing\n",
    "conv_selector = (timeframe_df['feature'] == '(WebDocumentContext,#document),(InputContext,keep-me-posted-input),(ButtonContext,subscribe)')\n",
    "\n",
    "# create df with only conversion events\n",
    "conversions_df = timeframe_df[conv_selector]\n",
    "\n",
    "# calculate conversions, now per user, but can easily be aggregated to session_id instead\n",
    "conversions = time_aggr(conversions_df, agg_level, {'user_id':'nunique'})\n",
    "\n",
    "# merge with users, but can easily be done with sessions instead\n",
    "conversion_rate = conversions.merge(users)\n",
    "\n",
    "# clean-up and rename columns\n",
    "conversion_rate['converting_users'] = conversion_rate['user_id_nunique_left']\n",
    "conversion_rate['total_users'] = conversion_rate['user_id_nunique_right']\n",
    "del(conversion_rate['user_id_nunique_left','user_id_nunique_right'])\n",
    "\n",
    "# calculate conversion rate\n",
    "conversion_rate['conversion_rate'] = conversion_rate['converting_users'] / conversion_rate['total_users']\n",
    "\n",
    "conversion_rate.sort_values({agg_level.lower():False}).head(30)"
   ]
  },
  {
   "cell_type": "code",
   "execution_count": 33,
   "id": "91715bec-e0c2-4abc-b049-0b7b590348ee",
   "metadata": {},
   "outputs": [
    {
     "data": {
      "text/plain": [
       "<AxesSubplot:xlabel='yyyymmdd'>"
      ]
     },
     "execution_count": 33,
     "metadata": {},
     "output_type": "execute_result"
    },
    {
     "data": {
      "image/png": "[encoded data removed]",
      "text/plain": [
       "<Figure size 432x288 with 1 Axes>"
      ]
     },
     "metadata": {
      "needs_background": "light"
     },
     "output_type": "display_data"
    }
   ],
   "source": [
    "# visualize conversion rate\n",
    "conversion_rate['conversion_rate'].sort_values({agg_level.lower():True}).head(60).plot()"
   ]
  },
  {
   "cell_type": "markdown",
   "id": "4fec7d10-afd6-4c22-8881-b3f790d5dc20",
   "metadata": {},
   "source": [
    "## Bounce rate"
   ]
  },
  {
   "cell_type": "code",
   "execution_count": 34,
   "id": "4db4319e-eaef-4361-8b99-b266d308b051",
   "metadata": {},
   "outputs": [
    {
     "data": {
      "text/html": [
       "<div>\n",
       "<style scoped>\n",
       "    .dataframe tbody tr th:only-of-type {\n",
       "        vertical-align: middle;\n",
       "    }\n",
       "\n",
       "    .dataframe tbody tr th {\n",
       "        vertical-align: top;\n",
       "    }\n",
       "\n",
       "    .dataframe thead th {\n",
       "        text-align: right;\n",
       "    }\n",
       "</style>\n",
       "<table border=\"1\" class=\"dataframe\">\n",
       "  <thead>\n",
       "    <tr style=\"text-align: right;\">\n",
       "      <th></th>\n",
       "      <th>bounce_rate</th>\n",
       "    </tr>\n",
       "    <tr>\n",
       "      <th>yyyymmdd</th>\n",
       "      <th></th>\n",
       "    </tr>\n",
       "  </thead>\n",
       "  <tbody>\n",
       "    <tr>\n",
       "      <th>20210928</th>\n",
       "      <td>0.875</td>\n",
       "    </tr>\n",
       "    <tr>\n",
       "      <th>20210927</th>\n",
       "      <td>0.700</td>\n",
       "    </tr>\n",
       "    <tr>\n",
       "      <th>20210926</th>\n",
       "      <td>1.000</td>\n",
       "    </tr>\n",
       "    <tr>\n",
       "      <th>20210925</th>\n",
       "      <td>0.875</td>\n",
       "    </tr>\n",
       "    <tr>\n",
       "      <th>20210924</th>\n",
       "      <td>0.960</td>\n",
       "    </tr>\n",
       "  </tbody>\n",
       "</table>\n",
       "</div>"
      ],
      "text/plain": [
       "          bounce_rate\n",
       "yyyymmdd             \n",
       "20210928        0.875\n",
       "20210927        0.700\n",
       "20210926        1.000\n",
       "20210925        0.875\n",
       "20210924        0.960"
      ]
     },
     "execution_count": 34,
     "metadata": {},
     "output_type": "execute_result"
    }
   ],
   "source": [
    "# GA: \"Bounce rate is single-page sessions divided by all sessions, or the percentage of all sessions on your site in which users viewed only a single page and triggered only a single request to the Analytics server.\"\n",
    "# NOTE: we need to limit this to page or screen views, instead of all events. Do this once we have integration feature selection.\n",
    "\n",
    "# gather sessions, hits per timeframe\n",
    "hits_sessions = timeframe_df['moment', 'session_id', 'session_hit_number']\n",
    "hits_sessions[agg_level.lower()] = hits_sessions['moment'].format(agg_level)\n",
    "\n",
    "# calculate hits per session\n",
    "hits_per_session = hits_sessions.groupby([agg_level.lower(), 'session_id'])['session_hit_number'].nunique()\n",
    "\n",
    "# select sessions with only one hit\n",
    "hit_selector = (hits_per_session['session_hit_number_nunique'] == 1)\n",
    "single_hit_sessions = hits_per_session[hit_selector].to_frame()\n",
    "\n",
    "# count these single hit sessions per timeframe\n",
    "bounced_sessions = single_hit_sessions.groupby([agg_level.lower()])['session_id'].nunique()\n",
    "\n",
    "# merge with total sessions and calculate bounce rate\n",
    "bounce_rate = bounced_sessions.merge(sessions)\n",
    "bounce_rate['bounce_rate'] = bounce_rate['session_id_nunique_left'] / bounce_rate['session_id_nunique_right']\n",
    "del(bounce_rate['session_id_nunique_left', 'session_id_nunique_right'])\n",
    "\n",
    "bounce_rate.sort_values({agg_level.lower():False}).head()"
   ]
  },
  {
   "cell_type": "code",
   "execution_count": 35,
   "id": "8fdfd684-a621-41e5-ab49-04ca0fda9e33",
   "metadata": {},
   "outputs": [
    {
     "data": {
      "text/plain": [
       "<AxesSubplot:xlabel='yyyymmdd'>"
      ]
     },
     "execution_count": 35,
     "metadata": {},
     "output_type": "execute_result"
    },
    {
     "data": {
      "image/png": "[encoded data removed]",
      "text/plain": [
       "<Figure size 432x288 with 1 Axes>"
      ]
     },
     "metadata": {
      "needs_background": "light"
     },
     "output_type": "display_data"
    }
   ],
   "source": [
    "# visualize bounce rate\n",
    "bounce_rate['bounce_rate'].sort_values({agg_level.lower():True}).head(60).plot()"
   ]
  },
  {
   "cell_type": "markdown",
   "id": "26c06f91-3fe1-4e25-8706-601e1b223393",
   "metadata": {},
   "source": [
    "## Session duration"
   ]
  },
  {
   "cell_type": "code",
   "execution_count": 37,
   "id": "2279e793-e5a4-4a4b-968a-db8c5949f0ff",
   "metadata": {},
   "outputs": [
    {
     "data": {
      "text/html": [
       "<div>\n",
       "<style scoped>\n",
       "    .dataframe tbody tr th:only-of-type {\n",
       "        vertical-align: middle;\n",
       "    }\n",
       "\n",
       "    .dataframe tbody tr th {\n",
       "        vertical-align: top;\n",
       "    }\n",
       "\n",
       "    .dataframe thead th {\n",
       "        text-align: right;\n",
       "    }\n",
       "</style>\n",
       "<table border=\"1\" class=\"dataframe\">\n",
       "  <thead>\n",
       "    <tr style=\"text-align: right;\">\n",
       "      <th></th>\n",
       "      <th></th>\n",
       "      <th>session_duration_average</th>\n",
       "      <th>session_id_count</th>\n",
       "      <th>share_of_sessions</th>\n",
       "    </tr>\n",
       "    <tr>\n",
       "      <th>yyyymmdd</th>\n",
       "      <th>session_duration_zero</th>\n",
       "      <th></th>\n",
       "      <th></th>\n",
       "      <th></th>\n",
       "    </tr>\n",
       "  </thead>\n",
       "  <tbody>\n",
       "    <tr>\n",
       "      <th rowspan=\"2\" valign=\"top\">20210928</th>\n",
       "      <th>True</th>\n",
       "      <td>0 days 00:00:00</td>\n",
       "      <td>7</td>\n",
       "      <td>0.875</td>\n",
       "    </tr>\n",
       "    <tr>\n",
       "      <th>False</th>\n",
       "      <td>0 days 00:00:00.006000</td>\n",
       "      <td>1</td>\n",
       "      <td>0.125</td>\n",
       "    </tr>\n",
       "    <tr>\n",
       "      <th rowspan=\"2\" valign=\"top\">20210927</th>\n",
       "      <th>False</th>\n",
       "      <td>0 days 00:00:01.812667</td>\n",
       "      <td>6</td>\n",
       "      <td>0.300</td>\n",
       "    </tr>\n",
       "    <tr>\n",
       "      <th>True</th>\n",
       "      <td>0 days 00:00:00</td>\n",
       "      <td>14</td>\n",
       "      <td>0.700</td>\n",
       "    </tr>\n",
       "    <tr>\n",
       "      <th>20210926</th>\n",
       "      <th>True</th>\n",
       "      <td>0 days 00:00:00</td>\n",
       "      <td>14</td>\n",
       "      <td>1.000</td>\n",
       "    </tr>\n",
       "    <tr>\n",
       "      <th>20210925</th>\n",
       "      <th>True</th>\n",
       "      <td>0 days 00:00:00</td>\n",
       "      <td>14</td>\n",
       "      <td>0.875</td>\n",
       "    </tr>\n",
       "  </tbody>\n",
       "</table>\n",
       "</div>"
      ],
      "text/plain": [
       "                               session_duration_average  session_id_count  \\\n",
       "yyyymmdd session_duration_zero                                              \n",
       "20210928 True                           0 days 00:00:00                 7   \n",
       "         False                   0 days 00:00:00.006000                 1   \n",
       "20210927 False                   0 days 00:00:01.812667                 6   \n",
       "         True                           0 days 00:00:00                14   \n",
       "20210926 True                           0 days 00:00:00                14   \n",
       "20210925 True                           0 days 00:00:00                14   \n",
       "\n",
       "                                share_of_sessions  \n",
       "yyyymmdd session_duration_zero                     \n",
       "20210928 True                               0.875  \n",
       "         False                              0.125  \n",
       "20210927 False                              0.300  \n",
       "         True                               0.700  \n",
       "20210926 True                               1.000  \n",
       "20210925 True                               0.875  "
      ]
     },
     "execution_count": 37,
     "metadata": {},
     "output_type": "execute_result"
    }
   ],
   "source": [
    "# calculate duration of each session\n",
    "session_duration = timeframe_df.groupby(['session_id']).aggregate(['moment','moment'],['min','max'])\n",
    "session_duration['session_duration'] = session_duration['moment_max'] - session_duration['moment_min']\n",
    "\n",
    "# check which sessions have duration of zero\n",
    "session_duration['session_duration_zero'] = session_duration['session_duration'] == '0'\n",
    "\n",
    "# adding time aggregation, so we can group on this\n",
    "session_duration[agg_level.lower()] = session_duration['moment_min'].format(agg_level)\n",
    "\n",
    "# calculate average session duration\n",
    "avg_session_duration = session_duration.groupby([agg_level.lower(), 'session_duration_zero'])['session_duration'].average()\n",
    "\n",
    "# count the number of sessions with duration zero or more\n",
    "session_counts = session_duration.groupby([agg_level.lower(), 'session_duration_zero'])['session_id'].count()\n",
    "\n",
    "# merge avg session duration and counts\n",
    "avg_duration_counts = avg_session_duration.merge(session_counts, [(agg_level.lower()),('session_duration_zero')])\n",
    "\n",
    "# merge with total sessions and calculate share\n",
    "duration_breakdown = avg_duration_counts.merge(sessions, [agg_level.lower()])\n",
    "duration_breakdown['share_of_sessions'] = duration_breakdown['session_id_count'] / duration_breakdown['session_id_nunique']\n",
    "del(duration_breakdown['session_id_nunique'])\n",
    "\n",
    "duration_breakdown.sort_values({agg_level.lower():False}).head(6)"
   ]
  },
  {
   "cell_type": "markdown",
   "id": "39f25752-6cbe-4119-ac7e-79d4c095e793",
   "metadata": {},
   "source": [
    "# TODO"
   ]
  },
  {
   "cell_type": "code",
   "execution_count": null,
   "id": "0a504f06-ce9b-44d0-b1e1-bc4047a51843",
   "metadata": {},
   "outputs": [],
   "source": [
    "# below parts first require some next steps in dub_buh_tuh"
   ]
  },
  {
   "cell_type": "markdown",
   "id": "77ab50ec-7e90-4397-bcd7-434b1878fea9",
   "metadata": {},
   "source": [
    "## Conversion funnel"
   ]
  },
  {
   "cell_type": "code",
   "execution_count": null,
   "id": "a069936a-6ee8-42dd-b196-39fea8ec4878",
   "metadata": {},
   "outputs": [],
   "source": [
    "# TODO\n",
    "# Self-merge is giving not the ouput we expect. \n",
    "# Without that, we can not create a sankey that looks like a familiar funnel. \n",
    "# See example here https://gitlab.com/newrelity/objectiv-taxonomy-prototypes/-/blob/web-analytics/data-science/issue_example_self_merge.ipynb\n",
    "\n",
    "# showing the sequence of events for converting users\n",
    "\n",
    "# resuse the df with only conversion events, select the users and their conversion moment\n",
    "converting_users = conversions_df['user_id', 'moment']\n",
    "\n",
    "# for now, we focus on the first conversion event. Later it is nice to also make it possible to see events between first and 2nd conversion, and so on.\n",
    "converting_users = converting_users.groupby(['user_id'])['moment'].min()\n",
    "converting_users['first_conversion_moment'] = converting_users['moment_min']\n",
    "del(converting_users['moment_min'])\n",
    "\n",
    "# merge with the df that has all user events in the timeframe\n",
    "converting_users_events = timeframe_df.merge(converting_users, [('user_id', 'user_id')])\n",
    "\n",
    "# select all events that converting users had up to their first conversion moment\n",
    "event_selector = (converting_users_events['moment'] <= converting_users_events['first_conversion_moment'])\n",
    "pre_conversion_events = converting_users_events[event_selector]\n",
    "\n",
    "# create pairs of from-to events based on session hit number\n",
    "event_sequence = pre_conversion_events['session_id', 'session_hit_number', 'feature']\n",
    "\n",
    "event_pairs = event_sequence.merge(event_sequence, [('session_id')])\n",
    "\n",
    "event_pairs.head(50)\n"
   ]
  },
  {
   "cell_type": "code",
   "execution_count": null,
   "id": "f1075fce-c047-4a6a-a47c-937d43f3b716",
   "metadata": {},
   "outputs": [],
   "source": [
    "df_sank = pd.read_csv('buh.csv')"
   ]
  },
  {
   "cell_type": "code",
   "execution_count": null,
   "id": "2778e530-6758-4ed8-883f-14bd546a864c",
   "metadata": {},
   "outputs": [],
   "source": [
    "categories = set(df_sank['source']).union(set(df_sank['target']))\n",
    "df_sank['source'] = pd.Categorical(df_sank['source'], categories=categories)\n",
    "df_sank['target'] = pd.Categorical(df_sank['target'], categories=categories)\n",
    "\n",
    "text_in_title = str('title')\n",
    "node = dict(\n",
    "      pad=15,\n",
    "      thickness=20,\n",
    "      line=dict(color=\"black\", width=0.5),\n",
    "      label=df_sank.source.cat.categories,\n",
    "      color='blue'\n",
    "    )\n",
    "link = pd.concat([df_sank[['source', 'target']].apply(lambda x: x.cat.codes), df_sank['value']], axis=1).to_dict('list')\n",
    "fig = go.Figure(go.Sankey(arrangement=\"fixed\", link=link, node=node), {'clickmode': 'event+select'})\n",
    "fig.update_layout(title_text=text_in_title, font_size=10)"
   ]
  },
  {
   "cell_type": "markdown",
   "id": "84368daa-cccf-446f-8ce2-4309141eff6b",
   "metadata": {},
   "source": [
    "## User timeline"
   ]
  },
  {
   "cell_type": "code",
   "execution_count": null,
   "id": "b24be24e-d584-45eb-9e0f-37f771823f68",
   "metadata": {},
   "outputs": [],
   "source": [
    "# show the timeline of an indivual user's events\n",
    "# NOTE: we can make this better with feature selection & aggregation\n",
    "\n",
    "# select the spefic user we want to replay\n",
    "user_id_selector = (buh_tuh['user_id'] == '320db8ee-847c-424b-8291-c65d021575aa')\n",
    "\n",
    "# create df with only this user's events\n",
    "# NOTE: timeframe_df['user_id_selector'] breaks: \"# We only support first level boolean indices for now\", so doing on full df for now\n",
    "selected_user_df = buh_tuh[user_id_selector]\n",
    "\n",
    "# left join conversions df, so we can check if the user converted\n",
    "user_timeline = selected_user_df.merge(conversions_df,how='left')\n",
    "\n",
    "# rename and clean-up columns\n",
    "user_timeline['moment'] = user_timeline['moment_left'] \n",
    "user_timeline['feature'] = user_timeline['feature_left']\n",
    "user_timeline['conversion_feature'] = user_timeline['feature_right']\n",
    "\n",
    "# show relevant columns\n",
    "user_timeline['moment','feature','conversion_feature'].sort_values({'moment':True}).head()"
   ]
  },
  {
   "cell_type": "markdown",
   "id": "67e341a4-21e1-483f-91b2-89f543e17aa2",
   "metadata": {},
   "source": [
    "## Retention cohorts"
   ]
  },
  {
   "cell_type": "code",
   "execution_count": null,
   "id": "ce78ad7c-edd9-43bb-9bb7-68a70ec377e4",
   "metadata": {},
   "outputs": [],
   "source": [
    "# TODO: \n",
    "# continue on this when we have datetime intervals, so we can calculate start & end moments of cohorts.\n",
    "\n",
    "# get the time aggregations where there are users\n",
    "timeframes = users\n",
    "timeframes = timeframes.head(100).reset_index()\n",
    "\n",
    "# cleanup columns we don't need\n",
    "del(timeframes['user_id_nunique'])\n",
    "del(timeframes['share_of_total'])\n",
    "\n",
    "# reset index and use that as cohort numbering\n",
    "timeframes2 = timeframes.rename_axis('cohort_nr').reset_index()\n",
    "timeframes2.head()"
   ]
  },
  {
   "cell_type": "markdown",
   "id": "99f9ff44-2ecb-44a2-907f-bb6525c72819",
   "metadata": {},
   "source": [
    "## Events flow"
   ]
  },
  {
   "cell_type": "code",
   "execution_count": null,
   "id": "e0658e5e-c43a-4029-96b4-76f62f76fc56",
   "metadata": {},
   "outputs": [],
   "source": [
    "# events per session hit number\n",
    "events_per_hit_number = buh_tuh[selector].groupby(['session_hit_number', 'feature'])['session_id'].nunique()\n",
    "\n",
    "events_per_hit_number.sort_values({'session_hit_number':True}).head()"
   ]
  },
  {
   "cell_type": "markdown",
   "id": "cffa17d4-6d9c-4bc9-81a5-ce479067342d",
   "metadata": {},
   "source": [
    "## Recency"
   ]
  },
  {
   "cell_type": "code",
   "execution_count": null,
   "id": "89038618-de70-4fa6-a496-038805099ec2",
   "metadata": {},
   "outputs": [],
   "source": [
    "# TODO: pick this up once we have window functions\n",
    "\n",
    "# \"the number of days between the close of one session and the opening of another\"\n",
    "test = timeframe_df.groupby(['user_id', 'session_id']).aggregate(['moment','moment'],['min','max'])\n",
    "\n",
    "test.head()\n"
   ]
  },
  {
   "cell_type": "markdown",
   "id": "5bd1f63e-2575-4d6f-aa20-625e3c5593c0",
   "metadata": {},
   "source": [
    "## Traffic source"
   ]
  },
  {
   "cell_type": "code",
   "execution_count": null,
   "id": "b67c320b-5c8f-4a95-856d-865ab48d9929",
   "metadata": {},
   "outputs": [],
   "source": [
    "# TODO\n",
    "# For Traffic Source, Geo and Device metrics, we would need to get source/geo/device data from GlobalContext in a easy way.\n",
    "# We can then also blend it in all metrics above as slicing option."
   ]
  },
  {
   "cell_type": "markdown",
   "id": "51e67efc-1837-4a70-aafa-4e4bc3b7cefe",
   "metadata": {},
   "source": [
    "## Geo "
   ]
  },
  {
   "cell_type": "markdown",
   "id": "d7fb441e-a1e3-4ad9-b831-da123b5c04fb",
   "metadata": {},
   "source": [
    "## Devices"
   ]
  },
  {
   "cell_type": "markdown",
   "id": "ac0124c5-0da4-41b4-876b-88692ee90129",
   "metadata": {},
   "source": [
    "## BI example - Metabase"
   ]
  },
  {
   "cell_type": "code",
   "execution_count": null,
   "id": "70eb68ec-c206-4a40-af8b-a10ae556e2e4",
   "metadata": {},
   "outputs": [],
   "source": [
    "# users\n",
    "users.head(30).to_sql('metabase_users', con=engine, if_exists='replace')\n",
    "\n",
    "# new users\n",
    "new_total_users.head(30).to_sql('metabase_new_total_users', con=engine, if_exists='replace')\n",
    "\n",
    "# events\n",
    "users_per_event.head(30).to_sql('metabase_users_per_event', con=engine, if_exists='replace')\n",
    "\n",
    "# conversion\n",
    "conversion_rate.head(30).to_sql('metabase_conversion_rate', con=engine, if_exists='replace')"
   ]
  }
 ],
 "metadata": {
  "kernelspec": {
   "display_name": "Python 3 (ipykernel)",
   "language": "python",
   "name": "python3"
  },
  "language_info": {
   "codemirror_mode": {
    "name": "ipython",
    "version": 3
   },
   "file_extension": ".py",
   "mimetype": "text/x-python",
   "name": "python",
   "nbconvert_exporter": "python",
   "pygments_lexer": "ipython3",
   "version": "3.9.6"
  }
 },
 "nbformat": 4,
 "nbformat_minor": 5
}
