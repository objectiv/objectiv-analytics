{
  "metadata": {
    "orig_nbformat": 4,
    "language_info": {
      "codemirror_mode": {
        "name": "python",
        "version": 3
      },
      "file_extension": ".py",
      "mimetype": "text/x-python",
      "name": "python",
      "nbconvert_exporter": "python",
      "pygments_lexer": "ipython3",
      "version": "3.8"
    },
    "kernelspec": {
      "name": "python",
      "display_name": "Pyolite",
      "language": "python"
    }
  },
  "nbformat_minor": 4,
  "nbformat": 4,
  "cells": [
    {
      "cell_type": "code",
      "source": "# install micropip and load required packages\nimport micropip\nawait micropip.install('http://localhost:8000/files/obj_pg_wrapper-0.0.1-py3-none-any.whl')\nawait micropip.install('http://localhost:8000/files/buhtuh-0.0.1-py3-none-any.whl')",
      "metadata": {
        "trusted": true
      },
      "execution_count": 2,
      "outputs": []
    },
    {
      "cell_type": "code",
      "source": "import pytest\nimport os\nimport sys",
      "metadata": {
        "trusted": true
      },
      "execution_count": 13,
      "outputs": []
    },
    {
      "cell_type": "code",
      "source": "os.environ['POSTGRES_PASSWORD'] = '0bj3ctiv'\nimport obj_pg_wrapper\nsys.modules['sqlalchemy'] = obj_pg_wrapper",
      "metadata": {
        "trusted": true
      },
      "execution_count": 14,
      "outputs": []
    },
    {
      "cell_type": "code",
      "source": "pytest.main(['-x', '/lib/python3.9/site-packages/tests'])",
      "metadata": {
        "trusted": true
      },
      "execution_count": 15,
      "outputs": [
        {
          "name": "stdout",
          "text": "============================= test session starts ==============================\nplatform emscripten -- Python 3.9.5, pytest-6.2.4, py-1.9.0, pluggy-0.13.1\nrootdir: /lib/python3.9/site-packages/tests\ncollected 0 items / 1 error\n\n==================================== ERRORS ====================================\n__________ ERROR collecting functional/buhtuh/test_bt_custom_types.py __________\nImportError while importing test module '/lib/python3.9/site-packages/tests/functional/buhtuh/test_bt_custom_types.py'.\nHint: make sure your test modules/packages have valid Python names.\nTraceback:\nlib/python3.9/importlib/__init__.py:127: in import_module\n    return _bootstrap._gcd_import(name[level:], package, level)\nlib/python3.9/site-packages/tests/functional/buhtuh/test_bt_custom_types.py:8: in <module>\n    from tests.functional.buhtuh.test_data_and_utils import get_bt_with_test_data, assert_equals_data\nlib/python3.9/site-packages/tests/functional/buhtuh/test_data_and_utils.py:13: in <module>\n    from sqlalchemy.engine import ResultProxy\nE   ImportError: cannot import name 'ResultProxy' from 'sqlalchemy.engine' (/lib/python3.9/site-packages/obj_pg_wrapper/engine.py)\n=========================== short test summary info ============================\nERROR lib/python3.9/site-packages/tests/functional/buhtuh/test_bt_custom_types.py\n!!!!!!!!!!!!!!!!!!!!!!!!!! stopping after 1 failures !!!!!!!!!!!!!!!!!!!!!!!!!!!\n=============================== 1 error in 0.64s ===============================\n",
          "output_type": "stream"
        },
        {
          "execution_count": 14,
          "output_type": "execute_result",
          "data": {
            "text/plain": "<ExitCode.TESTS_FAILED: 1>"
          },
          "metadata": {}
        }
      ]
    }
  ]
}